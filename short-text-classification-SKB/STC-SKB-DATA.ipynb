{
 "cells": [
  {
   "cell_type": "markdown",
   "id": "281e0aaf",
   "metadata": {},
   "source": [
    "# GNN for NLP\n",
    "---\n",
    "By Xiaoran Li\n",
    "For JSAI2022"
   ]
  },
  {
   "cell_type": "code",
   "execution_count": 2,
   "id": "5a46afce",
   "metadata": {},
   "outputs": [],
   "source": [
    "import glob\n",
    "import tqdm\n",
    "import numpy as np"
   ]
  },
  {
   "cell_type": "code",
   "execution_count": 3,
   "id": "acd19ec8",
   "metadata": {},
   "outputs": [],
   "source": [
    "def countMinMaxAver(lines):\n",
    "    min_len = 10000\n",
    "    aver_len = 0\n",
    "    max_len = 0\n",
    "    for temp in lines:\n",
    "        temp = temp.split()\n",
    "        aver_len = aver_len + len(temp)\n",
    "        if len(temp) < min_len:\n",
    "            min_len = len(temp)\n",
    "        if len(temp) > max_len:\n",
    "            max_len = len(temp)\n",
    "    aver_len = 1.0 * aver_len / len(lines)\n",
    "    print('min_len : ' + str(min_len))\n",
    "    print('max_len : ' + str(max_len))\n",
    "    print('average_len : ' + str(aver_len))"
   ]
  },
  {
   "cell_type": "markdown",
   "id": "f2ac92e8",
   "metadata": {},
   "source": [
    "# Short Text Classification (STC)"
   ]
  },
  {
   "cell_type": "markdown",
   "id": "383b1781",
   "metadata": {},
   "source": [
    "## get dataset for STC\n",
    "* Ohsumed: http://disi.unitn.it/moschitti/corpora.htm"
   ]
  },
  {
   "cell_type": "code",
   "execution_count": 4,
   "id": "543a1199",
   "metadata": {},
   "outputs": [],
   "source": [
    "STC_Benchmark_path = \"../../Benchmark_Data/Short-Text-Classification\"\n",
    "Ohsumed_category_description_path = STC_Benchmark_path+\"/Ohsumed/First-Level-Categories-of-Cardiovascular-Disease.txt\"\n",
    "Ohsumed_training_path = STC_Benchmark_path+\"/Ohsumed/ohsumed-first-20000-docs/training\"\n",
    "Ohsumed_test_path = STC_Benchmark_path+\"/Ohsumed/ohsumed-first-20000-docs/test\"\n",
    "Ohsumed_ohsumed_all_path = STC_Benchmark_path+\"/Ohsumed/ohsumed-all\""
   ]
  },
  {
   "cell_type": "code",
   "execution_count": 12,
   "id": "a81abfa3",
   "metadata": {},
   "outputs": [],
   "source": [
    "def getOhsumed(Ohsumed_category_description_path, Ohsumed_path):\n",
    "    Ohsumed_category_description = {}\n",
    "    for line in open(Ohsumed_category_description_path):\n",
    "        description, category = line.strip().split(' - ')\n",
    "        Ohsumed_category_description[category] = description\n",
    "    Ohsumed_all = glob.glob(f'{Ohsumed_path}/*/*')\n",
    "    #where the documents with multiple labels are removed. We use the titles for short text classification.\n",
    "    shorttext2category_dic = {}\n",
    "    for category in tqdm.tqdm(Ohsumed_category_description.keys()):\n",
    "        for file in glob.glob(f'{Ohsumed_path}/{category}/*'):\n",
    "            with open(file) as f:\n",
    "                title = f.readlines()[0].strip()\n",
    "                if title not in shorttext2category_dic.keys():\n",
    "                    shorttext2category_dic[title] = []\n",
    "                shorttext2category_dic[title].append(category)\n",
    "    shorttext2category_dic = {k:v for k,v in shorttext2category_dic.items() if len(v) == 1}\n",
    "    return shorttext2category_dic,Ohsumed_category_description"
   ]
  },
  {
   "cell_type": "code",
   "execution_count": 13,
   "id": "25c4fbc3",
   "metadata": {},
   "outputs": [
    {
     "name": "stderr",
     "output_type": "stream",
     "text": [
      "100%|███████████████████████████████████████████| 23/23 [00:01<00:00, 21.84it/s]\n",
      "100%|███████████████████████████████████████████| 23/23 [00:01<00:00, 17.84it/s]\n",
      "100%|███████████████████████████████████████████| 23/23 [00:06<00:00,  3.70it/s]\n"
     ]
    }
   ],
   "source": [
    "Ohsumed_training, Ohsumed_category_description = getOhsumed(Ohsumed_category_description_path, Ohsumed_training_path)\n",
    "Ohsumed_test, _ = getOhsumed(Ohsumed_category_description_path, Ohsumed_test_path)\n",
    "Ohsumed_ohsumed_all, _ = getOhsumed(Ohsumed_category_description_path, Ohsumed_ohsumed_all_path)"
   ]
  },
  {
   "cell_type": "code",
   "execution_count": 14,
   "id": "263c7c4f",
   "metadata": {},
   "outputs": [
    {
     "data": {
      "text/plain": [
       "7400"
      ]
     },
     "execution_count": 14,
     "metadata": {},
     "output_type": "execute_result"
    }
   ],
   "source": [
    "len(Ohsumed_training) + len(Ohsumed_test)"
   ]
  },
  {
   "cell_type": "code",
   "execution_count": 15,
   "id": "bc9cd43d",
   "metadata": {},
   "outputs": [
    {
     "name": "stdout",
     "output_type": "stream",
     "text": [
      "min_len : 1\n",
      "max_len : 35\n",
      "average_len : 11.820673220137028\n",
      "min_len : 1\n",
      "max_len : 36\n",
      "average_len : 12.016077170418006\n",
      "min_len : 1\n",
      "max_len : 44\n",
      "average_len : 12.106931992127706\n"
     ]
    }
   ],
   "source": [
    "countMinMaxAver(Ohsumed_training.keys())\n",
    "countMinMaxAver(Ohsumed_test.keys())\n",
    "countMinMaxAver(Ohsumed_ohsumed_all.keys())"
   ]
  },
  {
   "cell_type": "code",
   "execution_count": 19,
   "id": "9f2b92f2",
   "metadata": {},
   "outputs": [],
   "source": [
    "np.save(STC_Benchmark_path+\"/Ohsumed/Ohsumed_training\",Ohsumed_training)\n",
    "np.save(STC_Benchmark_path+\"/Ohsumed/Ohsumed_category_description\",Ohsumed_category_description)\n",
    "np.save(STC_Benchmark_path+\"/Ohsumed/Ohsumed_test\",Ohsumed_test)\n",
    "np.save(STC_Benchmark_path+\"/Ohsumed/Ohsumed_ohsumed_all\",Ohsumed_ohsumed_all)"
   ]
  },
  {
   "cell_type": "markdown",
   "id": "e74d33c9",
   "metadata": {},
   "source": [
    "## Twitter Corpus for STC"
   ]
  },
  {
   "cell_type": "markdown",
   "id": "385b96b3",
   "metadata": {},
   "source": [
    "* https://www.nltk.org/howto/twitter.html#corpus_reader"
   ]
  },
  {
   "cell_type": "code",
   "execution_count": 166,
   "id": "64209280",
   "metadata": {},
   "outputs": [],
   "source": [
    "import nltk"
   ]
  },
  {
   "cell_type": "code",
   "execution_count": 86,
   "id": "077603a3",
   "metadata": {},
   "outputs": [
    {
     "name": "stderr",
     "output_type": "stream",
     "text": [
      "[nltk_data] Downloading package twitter_samples to\n",
      "[nltk_data]     /Users/sauron/nltk_data...\n",
      "[nltk_data]   Unzipping corpora/twitter_samples.zip.\n"
     ]
    },
    {
     "data": {
      "text/plain": [
       "True"
      ]
     },
     "execution_count": 86,
     "metadata": {},
     "output_type": "execute_result"
    }
   ],
   "source": [
    "nltk.download('twitter_samples')"
   ]
  },
  {
   "cell_type": "code",
   "execution_count": 167,
   "id": "2893d4ee",
   "metadata": {},
   "outputs": [
    {
     "data": {
      "text/plain": [
       "['negative_tweets.json', 'positive_tweets.json', 'tweets.20150430-223406.json']"
      ]
     },
     "execution_count": 167,
     "metadata": {},
     "output_type": "execute_result"
    }
   ],
   "source": [
    "from nltk.corpus import twitter_samples\n",
    "twitter_samples.fileids()"
   ]
  },
  {
   "cell_type": "code",
   "execution_count": 168,
   "id": "3d9294df",
   "metadata": {},
   "outputs": [],
   "source": [
    "negative_tweets = twitter_samples.strings('negative_tweets.json')\n",
    "positive_tweets = twitter_samples.strings('positive_tweets.json')"
   ]
  },
  {
   "cell_type": "code",
   "execution_count": 171,
   "id": "53c6fdd8",
   "metadata": {},
   "outputs": [
    {
     "data": {
      "text/plain": [
       "10000"
      ]
     },
     "execution_count": 171,
     "metadata": {},
     "output_type": "execute_result"
    }
   ],
   "source": [
    "len(negative_tweets)+len(positive_tweets)"
   ]
  },
  {
   "cell_type": "code",
   "execution_count": 172,
   "id": "88737606",
   "metadata": {},
   "outputs": [
    {
     "name": "stdout",
     "output_type": "stream",
     "text": [
      "min_len : 1\n",
      "max_len : 35\n",
      "average_len : 11.3716\n",
      "min_len : 2\n",
      "max_len : 31\n",
      "average_len : 11.9078\n"
     ]
    }
   ],
   "source": [
    "countMinMaxAver(negative_tweets)\n",
    "countMinMaxAver(positive_tweets)"
   ]
  },
  {
   "cell_type": "code",
   "execution_count": 93,
   "id": "3c562878",
   "metadata": {},
   "outputs": [],
   "source": [
    "np.save(STC_Benchmark_path+\"/Twitter/negative_tweets\",negative_tweets)\n",
    "np.save(STC_Benchmark_path+\"/Twitter/positive_tweets\",positive_tweets)"
   ]
  },
  {
   "cell_type": "markdown",
   "id": "2757ebc3",
   "metadata": {},
   "source": [
    "## Movie Review Corpus for STC"
   ]
  },
  {
   "cell_type": "markdown",
   "id": "5216f152",
   "metadata": {},
   "source": [
    "* https://www.cs.cornell.edu/people/pabo/movie-review-data/"
   ]
  },
  {
   "cell_type": "code",
   "execution_count": 173,
   "id": "2c52be5e",
   "metadata": {},
   "outputs": [],
   "source": [
    "MR_pos_path = STC_Benchmark_path+\"/MR/rt-polaritydata/rt-polaritydata/rt-polarity.pos\"\n",
    "MR_neg_path = STC_Benchmark_path+\"/MR/rt-polaritydata/rt-polaritydata/rt-polarity.neg\""
   ]
  },
  {
   "cell_type": "code",
   "execution_count": 174,
   "id": "8c6bee34",
   "metadata": {},
   "outputs": [],
   "source": [
    "with open(MR_pos_path, encoding='utf-8', errors='ignore') as f:\n",
    "    positive_snippets = f.readlines()\n",
    "with open(MR_neg_path, encoding='utf-8', errors='ignore') as f:\n",
    "    negative_snippets = f.readlines()"
   ]
  },
  {
   "cell_type": "code",
   "execution_count": 175,
   "id": "8d228f9e",
   "metadata": {},
   "outputs": [],
   "source": [
    "positive_snippets = [sentence.strip() for sentence in positive_snippets]\n",
    "negative_snippets = [sentence.strip() for sentence in negative_snippets]"
   ]
  },
  {
   "cell_type": "code",
   "execution_count": 176,
   "id": "038c343b",
   "metadata": {},
   "outputs": [
    {
     "data": {
      "text/plain": [
       "10662"
      ]
     },
     "execution_count": 176,
     "metadata": {},
     "output_type": "execute_result"
    }
   ],
   "source": [
    "len(positive_snippets)+len(negative_snippets)"
   ]
  },
  {
   "cell_type": "code",
   "execution_count": 178,
   "id": "7bae5cc1",
   "metadata": {},
   "outputs": [
    {
     "name": "stdout",
     "output_type": "stream",
     "text": [
      "min_len : 2\n",
      "max_len : 59\n",
      "average_len : 21.085537422622398\n",
      "min_len : 1\n",
      "max_len : 56\n",
      "average_len : 20.933408366160194\n"
     ]
    }
   ],
   "source": [
    "countMinMaxAver(positive_snippets)\n",
    "countMinMaxAver(negative_snippets)"
   ]
  },
  {
   "cell_type": "code",
   "execution_count": 114,
   "id": "8eeef87d",
   "metadata": {},
   "outputs": [],
   "source": [
    "np.save(STC_Benchmark_path+\"/MR/rt-polaritydata/positive_snippets\",positive_snippets)\n",
    "np.save(STC_Benchmark_path+\"/MR/rt-polaritydata/negative_snippets\",negative_snippets)"
   ]
  },
  {
   "cell_type": "markdown",
   "id": "32c03435",
   "metadata": {},
   "source": [
    "## TagMyNews Corpus for STC\n",
    "* http://acube.di.unipi.it/tmn-dataset/"
   ]
  },
  {
   "cell_type": "code",
   "execution_count": 20,
   "id": "0f80f093",
   "metadata": {},
   "outputs": [],
   "source": [
    "tagmynews_path = STC_Benchmark_path+\"/TagMyNews/tagmynews.txt\""
   ]
  },
  {
   "cell_type": "code",
   "execution_count": 21,
   "id": "3bc2ead0",
   "metadata": {},
   "outputs": [],
   "source": [
    "with open(tagmynews_path) as f:\n",
    "    tagmynews = f.readlines()"
   ]
  },
  {
   "cell_type": "code",
   "execution_count": 22,
   "id": "084d8f04",
   "metadata": {},
   "outputs": [],
   "source": [
    "category_list = [\"sci_tech\",\"business\",\"entertainment\",\"us\",\"sport\",\"world\",\"health\"]"
   ]
  },
  {
   "cell_type": "code",
   "execution_count": 23,
   "id": "ecafd00d",
   "metadata": {},
   "outputs": [],
   "source": [
    "tagmynews = \"\".join(tagmynews)\n",
    "tagmynews = tagmynews.split(\"\\n\\n\")\n",
    "tagmynews_dict = {items.split(\"\\n\")[0]:items.split(\"\\n\")[-1] for items in tagmynews}"
   ]
  },
  {
   "cell_type": "code",
   "execution_count": 24,
   "id": "dc76b17a",
   "metadata": {},
   "outputs": [
    {
     "data": {
      "text/plain": [
       "31280"
      ]
     },
     "execution_count": 24,
     "metadata": {},
     "output_type": "execute_result"
    }
   ],
   "source": [
    "[print(items,end=\"............\") for items in tagmynews if len(items.split(\"\\n\"))!=7]\n",
    "[print(k,v) for k,v in tagmynews_dict.items() if v not in category_list]\n",
    "len(tagmynews_dict)"
   ]
  },
  {
   "cell_type": "code",
   "execution_count": 25,
   "id": "48190a73",
   "metadata": {},
   "outputs": [
    {
     "name": "stdout",
     "output_type": "stream",
     "text": [
      "min_len : 0\n",
      "max_len : 23\n",
      "average_len : 8.024776214833759\n"
     ]
    }
   ],
   "source": [
    "countMinMaxAver(tagmynews_dict.keys())"
   ]
  },
  {
   "cell_type": "code",
   "execution_count": 27,
   "id": "32eec75b",
   "metadata": {},
   "outputs": [
    {
     "name": "stdout",
     "output_type": "stream",
     "text": [
      "12490  sci_tech\n"
     ]
    }
   ],
   "source": [
    "for i,(k,v) in enumerate(tagmynews_dict.items()):\n",
    "    if len(k.split()) == 0:\n",
    "        print(i,k,v)"
   ]
  },
  {
   "cell_type": "code",
   "execution_count": 118,
   "id": "8d613c44",
   "metadata": {},
   "outputs": [],
   "source": [
    "np.save(STC_Benchmark_path+\"/TagMyNews/tagmynews_dict_31280\",tagmynews_dict)"
   ]
  },
  {
   "cell_type": "markdown",
   "id": "6d748685",
   "metadata": {},
   "source": [
    "## Snippets Corpus for STC\n",
    "* http://acube.di.unipi.it/tmn-dataset/"
   ]
  },
  {
   "cell_type": "code",
   "execution_count": 40,
   "id": "4dcf75d5",
   "metadata": {},
   "outputs": [],
   "source": [
    "snippets_path = STC_Benchmark_path+\"/Snippets/snippets.txt\""
   ]
  },
  {
   "cell_type": "code",
   "execution_count": 41,
   "id": "9285cf75",
   "metadata": {},
   "outputs": [],
   "source": [
    "with open(snippets_path) as f:\n",
    "    snippets = f.readlines()"
   ]
  },
  {
   "cell_type": "code",
   "execution_count": 42,
   "id": "64a592d5",
   "metadata": {},
   "outputs": [
    {
     "name": "stdout",
     "output_type": "stream",
     "text": [
      "min_len : 2\n",
      "max_len : 39\n",
      "average_len : 18.88995137763371\n"
     ]
    }
   ],
   "source": [
    "countMinMaxAver(snippets)"
   ]
  },
  {
   "cell_type": "code",
   "execution_count": 46,
   "id": "d3648f7b",
   "metadata": {},
   "outputs": [
    {
     "name": "stdout",
     "output_type": "stream",
     "text": [
      "artmargins culture-arts-entertainment\n",
      "\n",
      "cinematography culture-arts-entertainment\n",
      "\n",
      "artmargins culture-arts-entertainment\n",
      "\n"
     ]
    }
   ],
   "source": [
    "for items in snippets:\n",
    "    if len(items.split()) == 2:\n",
    "        print(items)"
   ]
  },
  {
   "cell_type": "code",
   "execution_count": 210,
   "id": "21165eae",
   "metadata": {},
   "outputs": [],
   "source": [
    "snippets = [items.strip().split() for items in snippets]\n",
    "snippets_dict = {\" \".join(items_list[:-1]):items_list[-1] for items_list in snippets}"
   ]
  },
  {
   "cell_type": "code",
   "execution_count": 211,
   "id": "0e41b7db",
   "metadata": {},
   "outputs": [
    {
     "name": "stdout",
     "output_type": "stream",
     "text": [
      "min_len : 1\n",
      "max_len : 38\n",
      "average_len : 17.89337721102427\n"
     ]
    },
    {
     "data": {
      "text/plain": [
       "12155"
      ]
     },
     "execution_count": 211,
     "metadata": {},
     "output_type": "execute_result"
    }
   ],
   "source": [
    "countMinMaxAver(snippets_dict.keys())\n",
    "len(snippets_dict)"
   ]
  },
  {
   "cell_type": "code",
   "execution_count": 212,
   "id": "fc8715a4",
   "metadata": {},
   "outputs": [],
   "source": [
    "np.save(STC_Benchmark_path+\"/Snippets/snippets_dict_12155\",snippets_dict)"
   ]
  }
 ],
 "metadata": {
  "kernelspec": {
   "display_name": "dgl_38",
   "language": "python",
   "name": "dgl_38"
  },
  "language_info": {
   "codemirror_mode": {
    "name": "ipython",
    "version": 3
   },
   "file_extension": ".py",
   "mimetype": "text/x-python",
   "name": "python",
   "nbconvert_exporter": "python",
   "pygments_lexer": "ipython3",
   "version": "3.8.12"
  }
 },
 "nbformat": 4,
 "nbformat_minor": 5
}
