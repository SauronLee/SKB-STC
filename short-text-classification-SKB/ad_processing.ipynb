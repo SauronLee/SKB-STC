{
 "cells": [
  {
   "cell_type": "code",
   "execution_count": 16,
   "id": "9646a93d",
   "metadata": {},
   "outputs": [
    {
     "name": "stderr",
     "output_type": "stream",
     "text": [
      "[nltk_data] Downloading package wordnet to\n",
      "[nltk_data]     /home/adaptsystemlab2019/nltk_data...\n",
      "[nltk_data]   Package wordnet is already up-to-date!\n",
      "[nltk_data] Downloading package punkt to\n",
      "[nltk_data]     /home/adaptsystemlab2019/nltk_data...\n",
      "[nltk_data]   Package punkt is already up-to-date!\n",
      "[nltk_data] Downloading package averaged_perceptron_tagger to\n",
      "[nltk_data]     /home/adaptsystemlab2019/nltk_data...\n",
      "[nltk_data]   Package averaged_perceptron_tagger is already up-to-\n",
      "[nltk_data]       date!\n"
     ]
    },
    {
     "data": {
      "text/plain": [
       "True"
      ]
     },
     "execution_count": 16,
     "metadata": {},
     "output_type": "execute_result"
    }
   ],
   "source": [
    "import numpy as np\n",
    "import json, os\n",
    "from nltk.corpus import wordnet as wn\n",
    "from math import log\n",
    "import tqdm\n",
    "import json\n",
    "from nltk.stem import WordNetLemmatizer\n",
    "import nltk\n",
    "from nltk import word_tokenize, pos_tag\n",
    "from nltk.stem import WordNetLemmatizer\n",
    "\n",
    "nltk.download('wordnet')\n",
    "nltk.download('punkt')\n",
    "nltk.download('averaged_perceptron_tagger')"
   ]
  },
  {
   "cell_type": "code",
   "execution_count": 17,
   "id": "74982b08",
   "metadata": {},
   "outputs": [],
   "source": [
    "def _getTextFile(langual):\n",
    "    file_list = glob.glob(f'../data/stopwords/stopwords/*_{langual}.txt')\n",
    "    files = \",\".join(file_list)\n",
    "    return files\n",
    "\n",
    "def countMinMaxAver(lines):\n",
    "    min_len = 10000\n",
    "    aver_len = 0\n",
    "    max_len = 0\n",
    "    for temp in lines:\n",
    "        aver_len = aver_len + len(temp)\n",
    "        if len(temp) < min_len:\n",
    "            min_len = len(temp)\n",
    "        if len(temp) > max_len:\n",
    "            max_len = len(temp)\n",
    "    aver_len = 1.0 * aver_len / len(lines)\n",
    "    print('min_len : ' + str(min_len))\n",
    "    print('max_len : ' + str(max_len))\n",
    "    print('average_len : ' + str(aver_len))"
   ]
  },
  {
   "cell_type": "code",
   "execution_count": 18,
   "id": "208dbc31",
   "metadata": {},
   "outputs": [],
   "source": [
    "def get_wordnet_pos(tag):\n",
    "    if tag.startswith('J'):\n",
    "        return wn.ADJ\n",
    "    elif tag.startswith('V'):\n",
    "        return wn.VERB\n",
    "    elif tag.startswith('N'):\n",
    "        return wn.NOUN\n",
    "    elif tag.startswith('R'):\n",
    "        return wn.ADV\n",
    "    else:\n",
    "        return None\n",
    "    \n",
    "def lemmatization(sentence):\n",
    "    tokens = word_tokenize(sentence)\n",
    "    tagged_sent = pos_tag(tokens)\n",
    "    lemmas_sent = []\n",
    "    for tag in tagged_sent:\n",
    "        wordnet_pos = get_wordnet_pos(tag[1]) or wn.NOUN\n",
    "        lemmas_sent.append((tag[0], wordnet_pos))\n",
    "    return lemmas_sent"
   ]
  },
  {
   "cell_type": "code",
   "execution_count": 4,
   "id": "1e96d301",
   "metadata": {},
   "outputs": [
    {
     "data": {
      "text/plain": [
       "[('beautiful', 'a'), ('adjective', 'a'), ('possessing', 'n'), ('beauty', 'n')]"
      ]
     },
     "execution_count": 4,
     "metadata": {},
     "output_type": "execute_result"
    }
   ],
   "source": [
    "a = 'beautiful adjective possessing beauty'\n",
    "lemmatization(a)"
   ]
  },
  {
   "cell_type": "code",
   "execution_count": 7,
   "id": "af983a1e",
   "metadata": {},
   "outputs": [],
   "source": [
    "sememe_network_dict_en_wiki_5000 = np.load(\"./data/wiki_skb.npy\", allow_pickle=True).tolist()"
   ]
  },
  {
   "cell_type": "code",
   "execution_count": 8,
   "id": "065ebdaa",
   "metadata": {},
   "outputs": [],
   "source": [
    "word_set = set()\n",
    "for k,_ in sememe_network_dict_en_wiki_5000.items():\n",
    "    word=k.split(\" (\")[0]\n",
    "    word_set.add(word)"
   ]
  },
  {
   "cell_type": "code",
   "execution_count": 9,
   "id": "5a91b076",
   "metadata": {},
   "outputs": [
    {
     "data": {
      "text/plain": [
       "5556928"
      ]
     },
     "execution_count": 9,
     "metadata": {},
     "output_type": "execute_result"
    }
   ],
   "source": [
    "len(word_set)"
   ]
  },
  {
   "cell_type": "code",
   "execution_count": 10,
   "id": "631396a3",
   "metadata": {},
   "outputs": [],
   "source": [
    "sememe_network_dict_en_wiki_5000_keys = [i for i in sememe_network_dict_en_wiki_5000.keys()]"
   ]
  },
  {
   "cell_type": "code",
   "execution_count": 11,
   "id": "bdff39d3",
   "metadata": {},
   "outputs": [
    {
     "data": {
      "text/plain": [
       "6114239"
      ]
     },
     "execution_count": 11,
     "metadata": {},
     "output_type": "execute_result"
    }
   ],
   "source": [
    "len(sememe_network_dict_en_wiki_5000)"
   ]
  },
  {
   "cell_type": "code",
   "execution_count": 14,
   "id": "b326d485",
   "metadata": {},
   "outputs": [],
   "source": [
    "sememe_network_dict_en_wordnet_tagme_5000 = np.load(\"./data/wordnet_skb.npy\", allow_pickle=True).tolist()\n",
    "sememe_network_cdv_en_wordnet_tagme_5000 = np.load(\"./data/wordnet_cdv.npy\", allow_pickle=True).tolist()"
   ]
  },
  {
   "cell_type": "code",
   "execution_count": 15,
   "id": "87327f82",
   "metadata": {},
   "outputs": [
    {
     "data": {
      "text/plain": [
       "168274"
      ]
     },
     "execution_count": 15,
     "metadata": {},
     "output_type": "execute_result"
    }
   ],
   "source": [
    "len(sememe_network_dict_en_wordnet_tagme_5000)"
   ]
  },
  {
   "cell_type": "code",
   "execution_count": 26,
   "id": "6aa5f732",
   "metadata": {},
   "outputs": [],
   "source": [
    "title_content_lemmatization_sence = np.load(\"../data/title_content_lemmatization_sence.npy\", allow_pickle=True).tolist()"
   ]
  },
  {
   "cell_type": "code",
   "execution_count": 27,
   "id": "41f9ef76",
   "metadata": {},
   "outputs": [],
   "source": [
    "title_content_lemmatization_sence_keys = [k for k in title_content_lemmatization_sence.keys()]"
   ]
  },
  {
   "cell_type": "code",
   "execution_count": 28,
   "id": "761292d2",
   "metadata": {},
   "outputs": [
    {
     "data": {
      "text/plain": [
       "960853"
      ]
     },
     "execution_count": 28,
     "metadata": {},
     "output_type": "execute_result"
    }
   ],
   "source": [
    "len(title_content_lemmatization_sence_keys)"
   ]
  },
  {
   "cell_type": "code",
   "execution_count": 31,
   "id": "5c18940d",
   "metadata": {},
   "outputs": [],
   "source": [
    "title_wiki_373749 = set(title_content_lemmatization_sence_keys) - set(sememe_network_dict_en_wiki_5000_keys)"
   ]
  },
  {
   "cell_type": "code",
   "execution_count": 32,
   "id": "a3df0d8e",
   "metadata": {},
   "outputs": [
    {
     "data": {
      "text/plain": [
       "373749"
      ]
     },
     "execution_count": 32,
     "metadata": {},
     "output_type": "execute_result"
    }
   ],
   "source": [
    "len(title_wiki_373749)"
   ]
  },
  {
   "cell_type": "code",
   "execution_count": 33,
   "id": "6a54425b",
   "metadata": {},
   "outputs": [],
   "source": [
    "wiki_dict_373749 = {k:title_content_lemmatization_sence[k] for k in title_wiki_373749}"
   ]
  },
  {
   "cell_type": "code",
   "execution_count": 35,
   "id": "397644ee",
   "metadata": {},
   "outputs": [],
   "source": [
    "# get network all definition words sememe_network_dict_en_wordnet_tagme_5000\n",
    "sememe_network_wordnet = {}\n",
    "for k,v in sememe_network_dict_en_wordnet_tagme_5000.items():\n",
    "    index = k.split(\".\")[-1]\n",
    "    pos = k.split(\".\")[-2]\n",
    "    word = \"\".join(k.split(\".\")[:-2])\n",
    "    if word not in sememe_network_wordnet.keys():\n",
    "        sememe_network_wordnet[word] = []\n",
    "    sememe_network_wordnet[word].append((pos,v))"
   ]
  },
  {
   "cell_type": "code",
   "execution_count": 36,
   "id": "e819bfad",
   "metadata": {},
   "outputs": [
    {
     "data": {
      "text/plain": [
       "125497"
      ]
     },
     "execution_count": 36,
     "metadata": {},
     "output_type": "execute_result"
    }
   ],
   "source": [
    "len(sememe_network_wordnet)"
   ]
  },
  {
   "cell_type": "code",
   "execution_count": 38,
   "id": "816b11a7",
   "metadata": {},
   "outputs": [
    {
     "name": "stderr",
     "output_type": "stream",
     "text": [
      "100%|███████████████████████████████| 373749/373749 [00:01<00:00, 283183.35it/s]"
     ]
    },
    {
     "name": "stdout",
     "output_type": "stream",
     "text": [
      "min_len : 1\n",
      "max_len : 389\n",
      "average_len : 13.091166633603754\n"
     ]
    },
    {
     "name": "stderr",
     "output_type": "stream",
     "text": [
      "\n"
     ]
    }
   ],
   "source": [
    "title_sememe_raw = {}\n",
    "for k, v in tqdm.tqdm(wiki_dict_373749.items()):\n",
    "    sememe = []\n",
    "    for w in v:\n",
    "        if w in sememe_network_wordnet.keys():\n",
    "            sememe.append(w)\n",
    "    if len(sememe) == 0:\n",
    "        continue\n",
    "    title_sememe_raw[k] = sememe\n",
    "countMinMaxAver(title_sememe_raw.values())"
   ]
  },
  {
   "cell_type": "code",
   "execution_count": 39,
   "id": "0ef75861",
   "metadata": {},
   "outputs": [
    {
     "data": {
      "text/plain": [
       "287331"
      ]
     },
     "execution_count": 39,
     "metadata": {},
     "output_type": "execute_result"
    }
   ],
   "source": [
    "len(title_sememe_raw)"
   ]
  },
  {
   "cell_type": "code",
   "execution_count": 40,
   "id": "ce4be215",
   "metadata": {},
   "outputs": [
    {
     "name": "stdout",
     "output_type": "stream",
     "text": [
      "sememe lexion size:  41272\n"
     ]
    }
   ],
   "source": [
    "sememe_freq = {}\n",
    "sememe_set = set()\n",
    "for doc_sememes in title_sememe_raw.values():\n",
    "    for sememe in doc_sememes:\n",
    "        sememe_set.add(sememe)\n",
    "        if sememe in sememe_freq:\n",
    "            sememe_freq[sememe] += 1\n",
    "        else:\n",
    "            sememe_freq[sememe] = 1\n",
    "\n",
    "sememe_lexion = list(sememe_set)\n",
    "sememe_lexion_size = len(sememe_lexion)\n",
    "\n",
    "sememe_id_map = {}\n",
    "for i in range(sememe_lexion_size):\n",
    "    sememe_id_map[sememe_lexion[i]] = i\n",
    "\n",
    "print(\"sememe lexion size: \", sememe_lexion_size)"
   ]
  },
  {
   "cell_type": "code",
   "execution_count": 41,
   "id": "275513a7",
   "metadata": {},
   "outputs": [],
   "source": [
    "doc_word_freq = {}\n",
    "for doc_id,(_, doc_words) in enumerate(title_sememe_raw.items()):\n",
    "    for word in doc_words:\n",
    "        word_id = sememe_id_map[word]\n",
    "        doc_word_str = str(doc_id) + ',' + str(word_id)\n",
    "        if doc_word_str in doc_word_freq:\n",
    "            doc_word_freq[doc_word_str] += 1\n",
    "        else:\n",
    "            doc_word_freq[doc_word_str] = 1\n",
    "            \n",
    "word_doc_list = {}\n",
    "for i,(_, doc_words) in enumerate(title_sememe_raw.items()):\n",
    "    appeared = set()\n",
    "    for word in doc_words:\n",
    "        if word in appeared:\n",
    "            continue\n",
    "        if word in word_doc_list:\n",
    "            doc_list = word_doc_list[word]\n",
    "            doc_list.append(i)\n",
    "            word_doc_list[word] = doc_list\n",
    "        else:\n",
    "            word_doc_list[word] = [i]\n",
    "        appeared.add(word)\n",
    "        \n",
    "word_doc_freq = {}\n",
    "for word, doc_list in word_doc_list.items():\n",
    "    word_doc_freq[word] = len(doc_list)\n",
    "    \n",
    "tfidf_word2doc_all = {}\n",
    "for i,(title, doc_words) in enumerate(title_sememe_raw.items()):\n",
    "    doc_word_set = set()\n",
    "    for word in doc_words:\n",
    "        if word in doc_word_set or word == title:\n",
    "            continue\n",
    "        j = sememe_id_map[word]\n",
    "        key = str(i) + ',' + str(j)\n",
    "        freq = doc_word_freq[key]\n",
    "        idf = log(1.0 * len(title_sememe_raw) / word_doc_freq[sememe_lexion[j]])\n",
    "        tfidf_word2doc_all[key] = freq * idf\n",
    "        doc_word_set.add(word)"
   ]
  },
  {
   "cell_type": "code",
   "execution_count": 42,
   "id": "a1eb7de0",
   "metadata": {},
   "outputs": [
    {
     "name": "stdout",
     "output_type": "stream",
     "text": [
      "all lexion size: 237961\n"
     ]
    }
   ],
   "source": [
    "title_list = [word for word in title_sememe_raw.keys()]\n",
    "tfidf_filter = {}\n",
    "for title, tfidf in tfidf_word2doc_all.items():\n",
    "    if tfidf > 4:\n",
    "        w, d = title.split(\",\")\n",
    "        if title_list[int(w)] not in tfidf_filter.keys():\n",
    "            tfidf_filter[title_list[int(w)]] = []\n",
    "        tfidf_filter[title_list[int(w)]].append(sememe_lexion[int(d)])\n",
    "print(\"all lexion size:\", len(tfidf_filter))"
   ]
  },
  {
   "cell_type": "code",
   "execution_count": 43,
   "id": "aee9d2e7",
   "metadata": {},
   "outputs": [],
   "source": [
    "title_id_map = {w:i for i,w in enumerate(title_list)}\n",
    "max_value = 10\n",
    "sememe_network_wiki = {}\n",
    "for word, sememes in tfidf_filter.items():\n",
    "    if len(sememes) != 0:\n",
    "        if len(sememes) > max_value:\n",
    "            sememe_freq_max_value = {}\n",
    "            for sememe in sememes:\n",
    "                tfidf_word2doc_all_key = str(title_id_map[word]) +\",\"+ str(sememe_id_map[sememe])\n",
    "                sememe_freq_max_value[sememe] = tfidf_word2doc_all[tfidf_word2doc_all_key]\n",
    "            sememe_lower = sorted(sememe_freq_max_value.items(),key=lambda item:item[1],reverse=True)[:max_value]\n",
    "            sememe_lower = [sememe_set[0] for sememe_set in sememe_lower]\n",
    "            sememe_network_wiki[word] = sememe_lower\n",
    "        else:\n",
    "            sememe_network_wiki[word] = sememes\n",
    "    else:\n",
    "        continue"
   ]
  },
  {
   "cell_type": "code",
   "execution_count": 44,
   "id": "7fbdd1e9",
   "metadata": {},
   "outputs": [],
   "source": [
    "sememe_network_wiki = {k:v for k, v in sememe_network_wiki.items() if len(v) != 0}"
   ]
  },
  {
   "cell_type": "code",
   "execution_count": 45,
   "id": "0cd4c8d0",
   "metadata": {},
   "outputs": [
    {
     "name": "stdout",
     "output_type": "stream",
     "text": [
      "all lexion size: 237961\n"
     ]
    }
   ],
   "source": [
    "print(\"all lexion size:\", len(sememe_network_wiki))"
   ]
  },
  {
   "cell_type": "code",
   "execution_count": 46,
   "id": "13b7ff01",
   "metadata": {},
   "outputs": [
    {
     "data": {
      "text/plain": [
       "4.589163770533827"
      ]
     },
     "execution_count": 46,
     "metadata": {},
     "output_type": "execute_result"
    }
   ],
   "source": [
    "sum([len(v) for v in sememe_network_wiki.values()])/len(sememe_network_wiki)"
   ]
  },
  {
   "cell_type": "code",
   "execution_count": 47,
   "id": "536ccb7d",
   "metadata": {},
   "outputs": [
    {
     "name": "stderr",
     "output_type": "stream",
     "text": [
      "100%|█████████████████████████████████| 237961/237961 [01:12<00:00, 3296.89it/s]\n"
     ]
    }
   ],
   "source": [
    "reconstruct_def = {}\n",
    "for title, sentence in tqdm.tqdm(sememe_network_wiki.items()):\n",
    "    sentence = lemmatization(\" \".join(sentence))\n",
    "    for (word, pos) in sentence:\n",
    "        if word.lower() not in sememe_network_wordnet.keys():\n",
    "            continue\n",
    "        if title not in reconstruct_def.keys():\n",
    "            reconstruct_def[title] = set()\n",
    "        if pos not in [p for (p, _) in sememe_network_wordnet[word.lower()]]:\n",
    "            reconstruct_def[title] = reconstruct_def[title] | \\\n",
    "            set([s for (p, s) in sememe_network_wordnet[word.lower()]][0])\n",
    "        else:\n",
    "            #print(word)\n",
    "            #print(type(reconstruct_def[title]))\n",
    "            #print(type([s for (p, s) in sememe_network_wordnet[word.lower()] if p == pos][0]))\n",
    "            reconstruct_def[title] = reconstruct_def[title] | \\\n",
    "            set([s for (p, s) in sememe_network_wordnet[word.lower()] if p == pos][0])"
   ]
  },
  {
   "cell_type": "code",
   "execution_count": 49,
   "id": "129e9e7f",
   "metadata": {},
   "outputs": [],
   "source": [
    "np.save(\"reconstruct_def_long\", reconstruct_def)"
   ]
  },
  {
   "cell_type": "code",
   "execution_count": 50,
   "id": "49a7a0ce",
   "metadata": {},
   "outputs": [],
   "source": [
    "reconstruct_def_raw = np.load(\"reconstruct_def_long.npy\", allow_pickle=True).tolist()"
   ]
  },
  {
   "cell_type": "code",
   "execution_count": 51,
   "id": "75d57a54",
   "metadata": {},
   "outputs": [
    {
     "name": "stdout",
     "output_type": "stream",
     "text": [
      "sememe lexion size:  4975\n"
     ]
    }
   ],
   "source": [
    "sememe_freq = {}\n",
    "sememe_set = set()\n",
    "for doc_sememes in reconstruct_def_raw.values():\n",
    "    for sememe in doc_sememes:\n",
    "        sememe_set.add(sememe)\n",
    "        if sememe in sememe_freq:\n",
    "            sememe_freq[sememe] += 1\n",
    "        else:\n",
    "            sememe_freq[sememe] = 1\n",
    "\n",
    "sememe_lexion = list(sememe_set)\n",
    "sememe_lexion_size = len(sememe_lexion)\n",
    "\n",
    "sememe_id_map = {}\n",
    "for i in range(sememe_lexion_size):\n",
    "    sememe_id_map[sememe_lexion[i]] = i\n",
    "\n",
    "print(\"sememe lexion size: \", sememe_lexion_size)"
   ]
  },
  {
   "cell_type": "code",
   "execution_count": 52,
   "id": "a317deb4",
   "metadata": {},
   "outputs": [],
   "source": [
    "doc_word_freq = {}\n",
    "for doc_id,(_, doc_words) in enumerate(reconstruct_def_raw.items()):\n",
    "    for word in doc_words:\n",
    "        word_id = sememe_id_map[word]\n",
    "        doc_word_str = str(doc_id) + ',' + str(word_id)\n",
    "        if doc_word_str in doc_word_freq:\n",
    "            doc_word_freq[doc_word_str] += 1\n",
    "        else:\n",
    "            doc_word_freq[doc_word_str] = 1\n",
    "            \n",
    "word_doc_list = {}\n",
    "for i,(_, doc_words) in enumerate(reconstruct_def_raw.items()):\n",
    "    appeared = set()\n",
    "    for word in doc_words:\n",
    "        if word in appeared:\n",
    "            continue\n",
    "        if word in word_doc_list:\n",
    "            doc_list = word_doc_list[word]\n",
    "            doc_list.append(i)\n",
    "            word_doc_list[word] = doc_list\n",
    "        else:\n",
    "            word_doc_list[word] = [i]\n",
    "        appeared.add(word)\n",
    "        \n",
    "word_doc_freq = {}\n",
    "for word, doc_list in word_doc_list.items():\n",
    "    word_doc_freq[word] = len(doc_list)\n",
    "    \n",
    "tfidf_word2doc_all = {}\n",
    "for i,(title, doc_words) in enumerate(reconstruct_def_raw.items()):\n",
    "    doc_word_set = set()\n",
    "    for word in doc_words:\n",
    "        if word in doc_word_set or word == title:\n",
    "            continue\n",
    "        j = sememe_id_map[word]\n",
    "        key = str(i) + ',' + str(j)\n",
    "        freq = doc_word_freq[key]\n",
    "        idf = log(1.0 * len(reconstruct_def_raw) / word_doc_freq[sememe_lexion[j]])\n",
    "        tfidf_word2doc_all[key] = freq * idf\n",
    "        doc_word_set.add(word)"
   ]
  },
  {
   "cell_type": "code",
   "execution_count": 54,
   "id": "7f649b55",
   "metadata": {},
   "outputs": [
    {
     "name": "stdout",
     "output_type": "stream",
     "text": [
      "all lexion size: 230824\n"
     ]
    }
   ],
   "source": [
    "title_list = [word for word in reconstruct_def_raw.keys()]\n",
    "tfidf_filter = {}\n",
    "for title, tfidf in tfidf_word2doc_all.items():\n",
    "    if tfidf > 3:\n",
    "        w, d = title.split(\",\")\n",
    "        if title_list[int(w)] not in tfidf_filter.keys():\n",
    "            tfidf_filter[title_list[int(w)]] = []\n",
    "        tfidf_filter[title_list[int(w)]].append(sememe_lexion[int(d)])\n",
    "print(\"all lexion size:\", len(tfidf_filter))"
   ]
  },
  {
   "cell_type": "code",
   "execution_count": 55,
   "id": "42079826",
   "metadata": {},
   "outputs": [],
   "source": [
    "# this part for add pmi weight to building graph\n",
    "#title_list = [word for word in reconstruct_def_raw.keys()]\n",
    "#tfidf_filter = {}\n",
    "#for title, tfidf in tfidf_word2doc_all.items():\n",
    "#    if tfidf > 3:\n",
    "#        w, d = title.split(\",\")\n",
    "#        if title_list[int(w)] not in tfidf_filter.keys():\n",
    "#            tfidf_filter[title_list[int(w)]] = []\n",
    "#        pmi_weight = sememe_lexion[int(d)]+\":\"+str(tfidf)\n",
    "#        tfidf_filter[title_list[int(w)]].append(pmi_weight)\n",
    "#print(\"all lexion size:\", len(tfidf_filter))"
   ]
  },
  {
   "cell_type": "code",
   "execution_count": 57,
   "id": "3fd59cda",
   "metadata": {},
   "outputs": [],
   "source": [
    "tfidf_filter = {k:v for k, v in tfidf_filter.items() if k in reconstruct_def_raw.keys()}"
   ]
  },
  {
   "cell_type": "code",
   "execution_count": 58,
   "id": "30c33c1e",
   "metadata": {},
   "outputs": [
    {
     "name": "stdout",
     "output_type": "stream",
     "text": [
      "all lexion size: 230824\n"
     ]
    }
   ],
   "source": [
    "print(\"all lexion size:\", len(tfidf_filter))"
   ]
  },
  {
   "cell_type": "code",
   "execution_count": 64,
   "id": "05e7920c",
   "metadata": {},
   "outputs": [
    {
     "data": {
      "text/plain": [
       "13.592174124007903"
      ]
     },
     "execution_count": 64,
     "metadata": {},
     "output_type": "execute_result"
    }
   ],
   "source": [
    "sum([len(v) for v in tfidf_filter.values()])/len(tfidf_filter)"
   ]
  },
  {
   "cell_type": "code",
   "execution_count": 60,
   "id": "513ce5c2",
   "metadata": {},
   "outputs": [],
   "source": [
    "title_id_map = {w:i for i,w in enumerate(title_list)}\n",
    "max_value = 10\n",
    "sememe_network_wiki = {}\n",
    "for word, sememes in tfidf_filter.items():\n",
    "    if len(sememes) != 0:\n",
    "        if len(sememes) > max_value:\n",
    "            sememe_freq_max_value = {}\n",
    "            for sememe in sememes:\n",
    "                tfidf_word2doc_all_key = str(title_id_map[word]) +\",\"+ str(sememe_id_map[sememe])\n",
    "                sememe_freq_max_value[sememe] = tfidf_word2doc_all[tfidf_word2doc_all_key]\n",
    "            sememe_lower = sorted(sememe_freq_max_value.items(),key=lambda item:item[1],reverse=True)[:max_value]\n",
    "            sememe_lower = [sememe_set[0] for sememe_set in sememe_lower]\n",
    "            sememe_network_wiki[word] = sememe_lower\n",
    "        else:\n",
    "            sememe_network_wiki[word] = sememes\n",
    "    else:\n",
    "        continue"
   ]
  },
  {
   "cell_type": "code",
   "execution_count": 61,
   "id": "46626960",
   "metadata": {},
   "outputs": [],
   "source": [
    "sememe_network_wiki = {k:v for k, v in sememe_network_wiki.items() if len(v) != 0}"
   ]
  },
  {
   "cell_type": "code",
   "execution_count": 62,
   "id": "f05fb9e8",
   "metadata": {},
   "outputs": [
    {
     "name": "stdout",
     "output_type": "stream",
     "text": [
      "all lexion size: 230824\n"
     ]
    }
   ],
   "source": [
    "print(\"all lexion size:\", len(sememe_network_wiki))"
   ]
  },
  {
   "cell_type": "code",
   "execution_count": 63,
   "id": "e7012247",
   "metadata": {},
   "outputs": [
    {
     "data": {
      "text/plain": [
       "7.0001776245104494"
      ]
     },
     "execution_count": 63,
     "metadata": {},
     "output_type": "execute_result"
    }
   ],
   "source": [
    "sum([len(v) for v in sememe_network_wiki.values()])/len(sememe_network_wiki)"
   ]
  },
  {
   "cell_type": "code",
   "execution_count": 52,
   "id": "cd500948",
   "metadata": {},
   "outputs": [],
   "source": [
    "#sememe_network_pmi = {}\n",
    "#for k,v in tfidf_filter.items():\n",
    "#    for vi in v:\n",
    "#        vi,pmi=vi.split(\":\")\n",
    "#        if vi in sememe_network_wiki[k]:\n",
    "#            if k not in sememe_network_pmi.keys():\n",
    "#                sememe_network_pmi[k] = []\n",
    "#            sememe_network_pmi[k].append(vi+\":\"+pmi)"
   ]
  },
  {
   "cell_type": "code",
   "execution_count": 66,
   "id": "f1335421",
   "metadata": {},
   "outputs": [
    {
     "name": "stdout",
     "output_type": "stream",
     "text": [
      "vocab_size:  4955\n"
     ]
    }
   ],
   "source": [
    "word_freq = {}\n",
    "word_set = set()\n",
    "for words in tfidf_filter.values():\n",
    "    for word in words:\n",
    "        word_set.add(word)\n",
    "        if word in word_freq:\n",
    "            word_freq[word] += 1\n",
    "        else:\n",
    "            word_freq[word] = 1\n",
    "\n",
    "vocab = list(word_set)\n",
    "vocab_size = len(vocab)\n",
    "\n",
    "word_id_map = {}\n",
    "for i in range(vocab_size):\n",
    "    word_id_map[vocab[i]] = i\n",
    "\n",
    "print(\"vocab_size: \", vocab_size)"
   ]
  },
  {
   "cell_type": "code",
   "execution_count": 67,
   "id": "ac21b3ff",
   "metadata": {},
   "outputs": [
    {
     "data": {
      "text/plain": [
       "3.733703057720608"
      ]
     },
     "execution_count": 67,
     "metadata": {},
     "output_type": "execute_result"
    }
   ],
   "source": [
    "sum([len(v) for v in sememe_network_dict_en_wiki_5000.values()])/len(sememe_network_dict_en_wiki_5000)"
   ]
  },
  {
   "cell_type": "code",
   "execution_count": 68,
   "id": "702e359a",
   "metadata": {},
   "outputs": [
    {
     "data": {
      "text/plain": [
       "7.0001776245104494"
      ]
     },
     "execution_count": 68,
     "metadata": {},
     "output_type": "execute_result"
    }
   ],
   "source": [
    "sum([len(v) for v in sememe_network_wiki.values()])/len(sememe_network_wiki)"
   ]
  },
  {
   "cell_type": "code",
   "execution_count": 103,
   "id": "b1d0f046",
   "metadata": {},
   "outputs": [],
   "source": [
    "sememe_network_wiki_ad_dict = dict(sememe_network_dict_en_wiki_5000, **sememe_network_wiki)"
   ]
  },
  {
   "cell_type": "code",
   "execution_count": 104,
   "id": "9d4f1f93",
   "metadata": {},
   "outputs": [
    {
     "data": {
      "text/plain": [
       "817928"
      ]
     },
     "execution_count": 104,
     "metadata": {},
     "output_type": "execute_result"
    }
   ],
   "source": [
    "len(sememe_network_wiki_ad_dict)"
   ]
  },
  {
   "cell_type": "code",
   "execution_count": 105,
   "id": "958d718e",
   "metadata": {},
   "outputs": [],
   "source": [
    "sememe_network_wiki_ad_dict = {k.split(\">>>\")[0]:[(k.split(\">>>\")[1],set(v))] for k,v in sememe_network_wiki_ad_dict.items()}"
   ]
  },
  {
   "cell_type": "code",
   "execution_count": 106,
   "id": "2b9acca7",
   "metadata": {},
   "outputs": [],
   "source": [
    "sememe_network_dict_en_wordnet_5000 = np.load(\"sememe_network_dict_en_wordnet_5000.npy\", allow_pickle=True).tolist()"
   ]
  },
  {
   "cell_type": "code",
   "execution_count": 107,
   "id": "06d2ac76",
   "metadata": {},
   "outputs": [],
   "source": [
    "for wn_k,wn_v in sememe_network_dict_en_wordnet_5000.items():\n",
    "    word = wn_k.split(\".\")[0]\n",
    "    if word not in sememe_network_wiki_ad_dict.keys():\n",
    "        sememe_network_wiki_ad_dict[word] = []\n",
    "    sememe_network_wiki_ad_dict[word].append((wn_k.split(\".\")[1],wn_v))"
   ]
  },
  {
   "cell_type": "code",
   "execution_count": 108,
   "id": "eb03657e",
   "metadata": {},
   "outputs": [
    {
     "data": {
      "text/plain": [
       "910369"
      ]
     },
     "execution_count": 108,
     "metadata": {},
     "output_type": "execute_result"
    }
   ],
   "source": [
    "len(sememe_network_wiki_ad_dict)"
   ]
  },
  {
   "cell_type": "code",
   "execution_count": 109,
   "id": "b625006f",
   "metadata": {},
   "outputs": [],
   "source": [
    "np.save(\"skb_ad_dict\",sememe_network_wiki_ad_dict)"
   ]
  },
  {
   "cell_type": "code",
   "execution_count": null,
   "id": "984a6536",
   "metadata": {},
   "outputs": [],
   "source": []
  },
  {
   "cell_type": "code",
   "execution_count": null,
   "id": "97511c2d",
   "metadata": {},
   "outputs": [],
   "source": []
  },
  {
   "cell_type": "code",
   "execution_count": null,
   "id": "18f7b8f1",
   "metadata": {},
   "outputs": [],
   "source": []
  },
  {
   "cell_type": "code",
   "execution_count": 27,
   "id": "ece9c73c",
   "metadata": {},
   "outputs": [],
   "source": [
    "wordnet_skb = np.load(\"./data/wordnet_skb.npy\", allow_pickle=True).tolist()\n",
    "wiki_skb = np.load(\"./data/wiki_skb.npy\", allow_pickle=True).tolist()"
   ]
  },
  {
   "cell_type": "code",
   "execution_count": 30,
   "id": "a1033e8a",
   "metadata": {},
   "outputs": [],
   "source": [
    "def _networkskbForm(networkskb):\n",
    "    '''uniform for NetWorkSKB'''\n",
    "    networkskb_form = {}\n",
    "    for wn_k,wn_v in networkskb.items():\n",
    "        word = wn_k.split(\".\")[0].replace(\"_\",\" \").strip()\n",
    "        if word not in networkskb_form.keys():\n",
    "            networkskb_form[word] = []\n",
    "        networkskb_form[word].append((wn_k.split(\".\")[1],wn_v))\n",
    "    return networkskb_form"
   ]
  },
  {
   "cell_type": "code",
   "execution_count": 31,
   "id": "2a3cbddf",
   "metadata": {},
   "outputs": [],
   "source": [
    "wordnet_skb = _networkskbForm(wordnet_skb)"
   ]
  },
  {
   "cell_type": "code",
   "execution_count": 38,
   "id": "b51acb3a",
   "metadata": {},
   "outputs": [
    {
     "name": "stderr",
     "output_type": "stream",
     "text": [
      "100%|█████████████████████████████| 6114239/6114239 [00:13<00:00, 447786.90it/s]\n"
     ]
    }
   ],
   "source": [
    "for titles, sememe_list in tqdm.tqdm(wiki_skb.items()):\n",
    "    if \" (\" in title:\n",
    "        title = titles.split(\" (\")[0].strip()\n",
    "        sense = titles.split(\" (\")[1].strip()\n",
    "        sense = sense.replace(\")\", \"\").strip() \n",
    "    else:\n",
    "        sense = \"n\"\n",
    "    if title not in wordnet_skb.keys():\n",
    "        wordnet_skb[title] = []\n",
    "    wordnet_skb[title].append((sense,set(sememe_list)))\n"
   ]
  },
  {
   "cell_type": "code",
   "execution_count": 40,
   "id": "ecc1263c",
   "metadata": {},
   "outputs": [
    {
     "data": {
      "text/plain": [
       "152661"
      ]
     },
     "execution_count": 40,
     "metadata": {},
     "output_type": "execute_result"
    }
   ],
   "source": [
    "len(wordnet_skb)"
   ]
  },
  {
   "cell_type": "code",
   "execution_count": 41,
   "id": "3fa27433",
   "metadata": {},
   "outputs": [],
   "source": [
    "np.save(\"./data/skb_da\",wordnet_skb)"
   ]
  },
  {
   "cell_type": "code",
   "execution_count": null,
   "id": "c77cc74c",
   "metadata": {},
   "outputs": [],
   "source": []
  }
 ],
 "metadata": {
  "kernelspec": {
   "display_name": "Python 3 (ipykernel)",
   "language": "python",
   "name": "python3"
  },
  "language_info": {
   "codemirror_mode": {
    "name": "ipython",
    "version": 3
   },
   "file_extension": ".py",
   "mimetype": "text/x-python",
   "name": "python",
   "nbconvert_exporter": "python",
   "pygments_lexer": "ipython3",
   "version": "3.8.5"
  }
 },
 "nbformat": 4,
 "nbformat_minor": 5
}
