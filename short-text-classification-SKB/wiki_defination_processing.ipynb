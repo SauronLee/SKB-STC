{
 "cells": [
  {
   "cell_type": "code",
   "execution_count": 19,
   "id": "03912a37",
   "metadata": {},
   "outputs": [
    {
     "name": "stderr",
     "output_type": "stream",
     "text": [
      "[nltk_data] Downloading package punkt to\n",
      "[nltk_data]     /home/adaptsystemlab2019/nltk_data...\n",
      "[nltk_data]   Package punkt is already up-to-date!\n"
     ]
    },
    {
     "data": {
      "text/plain": [
       "True"
      ]
     },
     "execution_count": 19,
     "metadata": {},
     "output_type": "execute_result"
    }
   ],
   "source": [
    "from langdetect import detect\n",
    "import numpy as np\n",
    "import re\n",
    "import glob\n",
    "import os\n",
    "import tqdm\n",
    "import nltk\n",
    "nltk.download('punkt') # one time execution"
   ]
  },
  {
   "cell_type": "code",
   "execution_count": 20,
   "id": "b91876f0",
   "metadata": {},
   "outputs": [],
   "source": [
    "def _getTextFile(langual):\n",
    "    file_list = glob.glob(f'../data/stopwords/stopwords/*_{langual}.txt')\n",
    "    files = \",\".join(file_list)\n",
    "    return files\n",
    "\n",
    "def cleanText(english_txt):\n",
    "    try:\n",
    "        word_tokens = english_txt.split()\n",
    "        filtered_word = [w for w in word_tokens if w not in stop_words and not w.isdigit()]\n",
    "        filtered_word = [w + \" \" for w in filtered_word]\n",
    "        return \"\".join(filtered_word)\n",
    "    except:\n",
    "        return np.nan\n",
    "\n",
    "def detectLang(txt):\n",
    "    try:\n",
    "        return detect(txt)\n",
    "    except:\n",
    "        return np.nan\n",
    "\n",
    "def cleanNonEnglish(txt):\n",
    "    txt = re.sub(r'\\W+', ' ', txt)\n",
    "    txt = txt.lower()\n",
    "    txt = txt.replace(\"[^a-zA-Z]\", \" \")\n",
    "    word_tokens = txt.split()\n",
    "    filtered_word = [w for w in word_tokens if all(ord(c) < 128 for c in w)]\n",
    "    filtered_word = [w + \" \" for w in filtered_word]\n",
    "    return \"\".join(filtered_word)\n",
    "\n",
    "def countMinMaxAver(lines):\n",
    "    min_len = 10000\n",
    "    aver_len = 0\n",
    "    max_len = 0\n",
    "    for temp in lines:\n",
    "        aver_len = aver_len + len(temp)\n",
    "        if len(temp) < min_len:\n",
    "            min_len = len(temp)\n",
    "        if len(temp) > max_len:\n",
    "            max_len = len(temp)\n",
    "    aver_len = 1.0 * aver_len / len(lines)\n",
    "    print('min_len : ' + str(min_len))\n",
    "    print('max_len : ' + str(max_len))\n",
    "    print('average_len : ' + str(aver_len))\n",
    "    \n",
    "def titleProcessing(title):\n",
    "    #title = re.findall(r\"title=\\\"(.*)\\\">\", title)\n",
    "    #title = title[0].replace(\" \", \"_\")\n",
    "    return re.findall(r\"title=\\\"(.*)\\\">\", title)\n",
    "\n",
    "def contentProcessing(content, title_list_i):\n",
    "    if content[0].strip() == title_list_i[0]:\n",
    "        return title_list_i, content[1].strip()"
   ]
  },
  {
   "cell_type": "code",
   "execution_count": 21,
   "id": "626ff734",
   "metadata": {},
   "outputs": [],
   "source": [
    "stop_words=set()\n",
    "for file in _getTextFile(\"en\").split(\",\"):\n",
    "    for word in open(file):\n",
    "        stop_words.add(word.strip())"
   ]
  },
  {
   "cell_type": "code",
   "execution_count": null,
   "id": "3b94fe30",
   "metadata": {},
   "outputs": [],
   "source": [
    "index_content_dic = {}\n",
    "title_list = []\n",
    "count = -1\n",
    "for line in open('./data/wiki.txt'):\n",
    "    if re.match('<doc id.*>', line):\n",
    "        title_list.append(titleProcessing(line))\n",
    "        count+=1\n",
    "        index_content_dic[count] = []\n",
    "        continue\n",
    "    index_content_dic_value = index_content_dic[count]\n",
    "    index_content_dic_value.append(line)\n",
    "    index_content_dic[count] = index_content_dic_value\n",
    "    \n",
    "countMinMaxAver(index_content_dic.values())"
   ]
  },
  {
   "cell_type": "code",
   "execution_count": null,
   "id": "d8f99e28",
   "metadata": {},
   "outputs": [],
   "source": [
    "len(index_content_dic)"
   ]
  },
  {
   "cell_type": "code",
   "execution_count": null,
   "id": "0eebf076",
   "metadata": {},
   "outputs": [],
   "source": [
    "len(title_list)"
   ]
  },
  {
   "cell_type": "code",
   "execution_count": 7,
   "id": "9876ec2f",
   "metadata": {},
   "outputs": [],
   "source": [
    "#key_word = [\"film\",\"novel\",\"album\",\"song\",\"band\",\"name\",\"ep\",\"game\",\"surname\",\"tv series\"]"
   ]
  },
  {
   "cell_type": "code",
   "execution_count": 8,
   "id": "9585994a",
   "metadata": {},
   "outputs": [
    {
     "name": "stderr",
     "output_type": "stream",
     "text": [
      "100%|██████████████████████████████| 6403704/6403704 [04:28<00:00, 23845.46it/s]\n"
     ]
    }
   ],
   "source": [
    "title_content_dic = {}\n",
    "for i, content in tqdm.tqdm(index_content_dic.items()):\n",
    "    title = title_list[i][0].strip().split()\n",
    "    if len(title) <= 10 or str(title[1])[0] == \"(\" and str(title[-1])[-1] == \")\":\n",
    "        #if str(title[-1])[:-1].replace(\"(\",\"\") in key_word:\n",
    "            #continue\n",
    "        title, content = contentProcessing(content, title_list[i])\n",
    "        content = cleanNonEnglish(content).strip()\n",
    "        content = cleanText(content).strip()\n",
    "        if len(content) == 0 or title[0].strip()[0] == \"(\":\n",
    "            continue\n",
    "        title_content_dic[title[0]] = content"
   ]
  },
  {
   "cell_type": "code",
   "execution_count": 9,
   "id": "eb7722f0",
   "metadata": {},
   "outputs": [
    {
     "data": {
      "text/plain": [
       "6329832"
      ]
     },
     "execution_count": 9,
     "metadata": {},
     "output_type": "execute_result"
    }
   ],
   "source": [
    "len(title_content_dic)"
   ]
  },
  {
   "cell_type": "code",
   "execution_count": 10,
   "id": "1fb58845",
   "metadata": {},
   "outputs": [],
   "source": [
    "title_keyword_dict = {}\n",
    "for k in title_content_dic.keys():\n",
    "    k = k.strip().split()\n",
    "    k_title = \" \".join(k[1:])\n",
    "    if k_title not in title_keyword_dict.keys():\n",
    "        title_keyword_dict[k_title] = 0\n",
    "        title_keyword_dict[k_title]+=1\n",
    "    else:\n",
    "        #title_keyword_dict[k_title].append(k[0])\n",
    "        title_keyword_dict[k_title]+=1"
   ]
  },
  {
   "cell_type": "code",
   "execution_count": 11,
   "id": "9c250fb8",
   "metadata": {},
   "outputs": [],
   "source": [
    "title_keyword_dict_sorted = sorted(title_keyword_dict.items(), key = lambda kv:(kv[1], kv[0]))"
   ]
  },
  {
   "cell_type": "code",
   "execution_count": 12,
   "id": "34299e0b",
   "metadata": {},
   "outputs": [
    {
     "data": {
      "text/plain": [
       "[('language', 6617),\n",
       " ('house', 7055),\n",
       " ('(album)', 7697),\n",
       " ('(film)', 8028),\n",
       " ('district', 10178),\n",
       " ('river', 10949),\n",
       " ('(surname)', 11001),\n",
       " ('railway station', 14109),\n",
       " ('station', 16103),\n",
       " ('(disambiguation)', 29520),\n",
       " ('', 805534)]"
      ]
     },
     "execution_count": 12,
     "metadata": {},
     "output_type": "execute_result"
    }
   ],
   "source": [
    "title_keyword_dict_sorted[-11:]"
   ]
  },
  {
   "cell_type": "code",
   "execution_count": 13,
   "id": "63a271ed",
   "metadata": {},
   "outputs": [],
   "source": [
    "def removeTitle(title_content_dic):\n",
    "    title_content = {}\n",
    "    for k, v in title_content_dic.items():\n",
    "        if k in v:\n",
    "            v = v.replace(k, \"\").strip()\n",
    "        title_content[k.replace(\" \", \"_\")] = v\n",
    "    return title_content"
   ]
  },
  {
   "cell_type": "code",
   "execution_count": 14,
   "id": "84d78879",
   "metadata": {},
   "outputs": [],
   "source": [
    "wiki_def_data = removeTitle(title_content_dic)"
   ]
  },
  {
   "cell_type": "code",
   "execution_count": 15,
   "id": "b37f8583",
   "metadata": {},
   "outputs": [
    {
     "data": {
      "text/plain": [
       "[('united_states_v._reynolds',\n",
       "  'united reynolds landmark legal case formal recognition secrets privilege judicially recognized extension presidential power'),\n",
       " ('haya_language',\n",
       "  'haya oluhaya swahili kihaya bantu language spoken haya people tanzania south southwest coast lake victoria population haya speakers estimated people closest relative nyambo language closely languages southwest uganda nkore kiga rutooro runyoro form group called rutara'),\n",
       " ('allana_slater',\n",
       "  'allana amy slater born april perth western australia retired australian artistic gymnast australian senior national champion multiple medalist commonwealth games slater considered australia internationally successful gymnasts'),\n",
       " ('conservation_status',\n",
       "  'group organisms instance species group exists group extinct future factors account assessing  simply number individuals remaining increase decrease population time breeding success rates threats systems  exist international multi country national local levels consumer'),\n",
       " ('linda_thompson_(attorney)',\n",
       "  'linda thompson april born linda diane capps american lawyer militia movement supporter quit job lawyer indianapolis indiana start american justice federation profit group promoted pro gun shortwave radio program bulletin board sales newsletter videos died prescription drug overdose'),\n",
       " ('baker_street_(disambiguation)', 'baker street street london'),\n",
       " ('they_go_on',\n",
       "  'soap opera web series developed levi strauss nbc streamed nbc funded levi strauss based characters advertising campaign'),\n",
       " ('wheelock_place',\n",
       "  'tamil floor office tower shopping mall singapore orchard road'),\n",
       " ('janusz_suchywilk',\n",
       "  'grzymala coat arms april polish nobleman szlachcic relative bogorii skotnik'),\n",
       " ('false_helleborine', 'parts plants orchid family lily family')]"
      ]
     },
     "execution_count": 15,
     "metadata": {},
     "output_type": "execute_result"
    }
   ],
   "source": [
    "list(wiki_def_data.items())[:10]"
   ]
  },
  {
   "cell_type": "code",
   "execution_count": 16,
   "id": "5a51dfc6",
   "metadata": {},
   "outputs": [],
   "source": [
    "np.save(\"./data/wiki_def_data\", title_content_dic)"
   ]
  },
  {
   "cell_type": "code",
   "execution_count": 17,
   "id": "b6b2a0c1",
   "metadata": {},
   "outputs": [
    {
     "data": {
      "text/plain": [
       "'form theatre music fundamental component dramatic roles singers distinct musical theatre work literal translation italian word  typically collaboration composer librettist incorporates number performing arts acting scenery costume dance ballet performance typically  house accompanied orchestra smaller musical ensemble early 19th century led conductor'"
      ]
     },
     "execution_count": 17,
     "metadata": {},
     "output_type": "execute_result"
    }
   ],
   "source": [
    "wiki_def_data[\"opera\"]"
   ]
  },
  {
   "cell_type": "code",
   "execution_count": 18,
   "id": "52d712f7",
   "metadata": {},
   "outputs": [
    {
     "data": {
      "text/plain": [
       "'edible fruit produced  tree malus domestica  trees cultivated worldwide grown species genus malus tree originated central asia wild ancestor malus sieversii today s grown thousands years asia europe brought north america european colonists s religious mythological significance cultures including norse greek european christian tradition'"
      ]
     },
     "execution_count": 18,
     "metadata": {},
     "output_type": "execute_result"
    }
   ],
   "source": [
    "wiki_def_data[\"apple\"]"
   ]
  },
  {
   "cell_type": "code",
   "execution_count": null,
   "id": "b5327a7f",
   "metadata": {},
   "outputs": [],
   "source": []
  }
 ],
 "metadata": {
  "kernelspec": {
   "display_name": "wiki_corpus",
   "language": "python",
   "name": "wiki_corpus"
  },
  "language_info": {
   "codemirror_mode": {
    "name": "ipython",
    "version": 3
   },
   "file_extension": ".py",
   "mimetype": "text/x-python",
   "name": "python",
   "nbconvert_exporter": "python",
   "pygments_lexer": "ipython3",
   "version": "3.7.8"
  }
 },
 "nbformat": 4,
 "nbformat_minor": 5
}
