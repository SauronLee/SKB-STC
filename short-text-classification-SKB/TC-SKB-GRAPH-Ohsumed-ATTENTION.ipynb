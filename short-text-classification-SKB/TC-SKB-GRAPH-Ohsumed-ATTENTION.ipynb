{
 "cells": [
  {
   "cell_type": "markdown",
   "id": "8f1b9fe5",
   "metadata": {},
   "source": [
    "# Text Classification  SKB Graph on Ohsumed via Attention\n",
    "* By Xiaoran Li (Shizuoka Institute of Science and Technology) for JSAI2022\n",
    "---"
   ]
  },
  {
   "cell_type": "code",
   "execution_count": 265,
   "id": "31d0efac",
   "metadata": {},
   "outputs": [
    {
     "name": "stderr",
     "output_type": "stream",
     "text": [
      "[nltk_data] Downloading package wordnet to\n",
      "[nltk_data]     /home/adaptsystemlab2019/nltk_data...\n",
      "[nltk_data]   Package wordnet is already up-to-date!\n",
      "[nltk_data] Downloading package punkt to\n",
      "[nltk_data]     /home/adaptsystemlab2019/nltk_data...\n",
      "[nltk_data]   Package punkt is already up-to-date!\n",
      "[nltk_data] Downloading package averaged_perceptron_tagger to\n",
      "[nltk_data]     /home/adaptsystemlab2019/nltk_data...\n",
      "[nltk_data]   Package averaged_perceptron_tagger is already up-to-\n",
      "[nltk_data]       date!\n"
     ]
    }
   ],
   "source": [
    "import nltk\n",
    "import numpy as np\n",
    "import re\n",
    "import glob\n",
    "import os\n",
    "import tqdm\n",
    "import sys\n",
    "import json\n",
    "import spacy\n",
    "import torch\n",
    "import pandas as pd\n",
    "import seaborn as sns\n",
    "from collections import OrderedDict\n",
    "from nltk.corpus import stopwords\n",
    "from nltk.stem import WordNetLemmatizer\n",
    "from nltk import word_tokenize, pos_tag\n",
    "from nltk.stem import WordNetLemmatizer\n",
    "from nltk.corpus import wordnet\n",
    "nltk.download('wordnet')\n",
    "nltk.download('punkt')\n",
    "nltk.download('averaged_perceptron_tagger')\n",
    "\n",
    "dataset = \"ohsumed\"\n",
    "device = torch.device('cuda' if torch.cuda.is_available() else 'cpu')"
   ]
  },
  {
   "cell_type": "code",
   "execution_count": 85,
   "id": "ced9e5c7",
   "metadata": {},
   "outputs": [],
   "source": [
    "def clean_str(string):\n",
    "    \"\"\"\n",
    "    Tokenization/string cleaning for all datasets except for SST.\n",
    "    Original taken from https://github.com/yoonkim/CNN_sentence/blob/master/process_data.py\n",
    "    \"\"\"\n",
    "    string = re.sub(r\"[^A-Za-z0-9(),!?\\'\\`]\", \" \", string)\n",
    "    string = re.sub(r\"\\'s\", \" \\'s\", string)\n",
    "    string = re.sub(r\"\\'ve\", \" \\'ve\", string)\n",
    "    string = re.sub(r\"n\\'t\", \" n\\'t\", string)\n",
    "    string = re.sub(r\"\\'re\", \" \\'re\", string)\n",
    "    string = re.sub(r\"\\'d\", \" \\'d\", string)\n",
    "    string = re.sub(r\"\\'ll\", \" \\'ll\", string)\n",
    "    string = re.sub(r\",\", \" , \", string)\n",
    "    string = re.sub(r\"!\", \" ! \", string)\n",
    "    string = re.sub(r\"\\(\", \" \\( \", string)\n",
    "    string = re.sub(r\"\\)\", \" \\) \", string)\n",
    "    string = re.sub(r\"\\?\", \" \\? \", string)\n",
    "    string = re.sub(r\"\\s{2,}\", \" \", string)\n",
    "    string = re.sub(r\"patients \", \"\", string)\n",
    "    return string.strip().lower()\n",
    "def get_wordnet_pos(tag):\n",
    "    if tag.startswith('J'):\n",
    "        return wordnet.ADJ\n",
    "    elif tag.startswith('V'):\n",
    "        return wordnet.VERB\n",
    "    elif tag.startswith('N'):\n",
    "        return wordnet.NOUN\n",
    "    elif tag.startswith('R'):\n",
    "        return wordnet.ADV\n",
    "    else:\n",
    "        return None\n",
    "def lemmatization(sentence):\n",
    "    tokens = word_tokenize(sentence)\n",
    "    tagged_sent = pos_tag(tokens)\n",
    "    wnl = WordNetLemmatizer()\n",
    "    lemmas_sent = []\n",
    "    for tag in tagged_sent:\n",
    "        wordnet_pos = get_wordnet_pos(tag[1]) or wordnet.NOUN\n",
    "        lemmas_sent.append((wnl.lemmatize(tag[0], pos = wordnet_pos),wordnet_pos))\n",
    "    return lemmas_sent\n",
    "\n",
    "def lemmatization_original(sentence):\n",
    "    tokens = word_tokenize(sentence)\n",
    "    tagged_sent = pos_tag(tokens)\n",
    "    wnl = WordNetLemmatizer()\n",
    "    lemmas_sent = []\n",
    "    for tag in tagged_sent:\n",
    "        wordnet_pos = get_wordnet_pos(tag[1]) or wordnet.NOUN\n",
    "        lemmas_sent.append(wnl.lemmatize(tag[0], pos = wordnet_pos))\n",
    "    return lemmas_sent\n",
    "\n",
    "def getPos(sentence):\n",
    "    tokens = word_tokenize(sentence)\n",
    "    tagged_sent = pos_tag(tokens)\n",
    "    sent = []\n",
    "    for tag in tagged_sent:\n",
    "        wordnet_pos = get_wordnet_pos(tag[1]) or wordnet.NOUN\n",
    "        sent.append((tag[0], wordnet_pos))\n",
    "    return sent\n",
    "\n",
    "def countMinMaxAver(lines):\n",
    "    min_len = 10000\n",
    "    aver_len = 0\n",
    "    max_len = 0\n",
    "    for temp in lines:\n",
    "        aver_len = aver_len + len(temp)\n",
    "        if len(temp) < min_len:\n",
    "            min_len = len(temp)\n",
    "        if len(temp) > max_len:\n",
    "            max_len = len(temp)\n",
    "    aver_len = 1.0 * aver_len / len(lines)\n",
    "    print('min_len : ' + str(min_len))\n",
    "    print('max_len : ' + str(max_len))\n",
    "    print('average_len : ' + str(aver_len))"
   ]
  },
  {
   "cell_type": "markdown",
   "id": "4f49a2ec",
   "metadata": {},
   "source": [
    "## remove stop words"
   ]
  },
  {
   "cell_type": "code",
   "execution_count": 86,
   "id": "d95477e0",
   "metadata": {},
   "outputs": [],
   "source": [
    "def _getTextFile(langual):\n",
    "    file_list = glob.glob(f'../data/stopwords/stopwords/*_{langual}.txt')\n",
    "    files = \",\".join(file_list)\n",
    "    return files\n",
    "def cleanText(english_txt):\n",
    "    try:\n",
    "        word_tokens = english_txt.split()\n",
    "        filtered_word = [w for w in word_tokens if w not in stop_words and not w.isdigit()]\n",
    "        filtered_word = [w + \" \" for w in filtered_word]\n",
    "        return \"\".join(filtered_word)\n",
    "    except:\n",
    "        return np.nan\n",
    "def cleanNonEnglish(txt):\n",
    "    txt = clean_str(txt)\n",
    "    txt = re.sub(r'\\W+', ' ', txt)\n",
    "    txt = txt.lower()\n",
    "    txt = txt.replace(\"[^a-zA-Z]\", \" \")\n",
    "    word_tokens = txt.split()\n",
    "    filtered_word = [w for w in word_tokens if all(ord(c) < 128 for c in w)]\n",
    "    filtered_word = [w + \" \" for w in filtered_word]\n",
    "    return \"\".join(filtered_word)\n"
   ]
  },
  {
   "cell_type": "code",
   "execution_count": 87,
   "id": "cae294e9",
   "metadata": {},
   "outputs": [
    {
     "name": "stdout",
     "output_type": "stream",
     "text": [
      "min_len : 28\n",
      "max_len : 596\n",
      "average_len : 186.03851351351352\n"
     ]
    }
   ],
   "source": [
    "stop_words = set()\n",
    "for file in _getTextFile(\"en\").split(\",\"):\n",
    "    for word in open(file):\n",
    "        stop_words.add(word.strip())\n",
    "doc_content_list = []\n",
    "f = open('../data/corpus/' + dataset + '.txt', 'rb')\n",
    "for line in f.readlines():\n",
    "    doc_content_list.append(line.strip().decode('latin1'))\n",
    "f.close()\n",
    "countMinMaxAver([item.split() for item in doc_content_list])"
   ]
  },
  {
   "cell_type": "markdown",
   "id": "5cf707e8",
   "metadata": {},
   "source": [
    "## lemmatization"
   ]
  },
  {
   "cell_type": "code",
   "execution_count": 88,
   "id": "4d9b40b5",
   "metadata": {},
   "outputs": [
    {
     "data": {
      "text/plain": [
       "'Infection in total joint replacement.  Although a small number of infections in total joint replacements are blood borne from distant sources, most infections appear to have been derived at operation.  Strenuous attempts to reduce this risk by cleaning the air in the wound environment, coupled with prophylactic antibiotics, have reduced infection rates by an order of magnitude in a decade.  During that time the potential for exchange arthroplasty in established infection has been shown, and the results are encouraging.  Rigorous infection control is the key to containing this difficult and expensive problem.'"
      ]
     },
     "execution_count": 88,
     "metadata": {},
     "output_type": "execute_result"
    }
   ],
   "source": [
    "doc_content_list[0]"
   ]
  },
  {
   "cell_type": "code",
   "execution_count": 89,
   "id": "5478d0dc",
   "metadata": {},
   "outputs": [],
   "source": [
    "doc_content_list = [cleanText(cleanNonEnglish(sentence).strip()).strip() for sentence in doc_content_list]\n",
    "doc_content_lemmatization_list = [\" \".join(lemmatization_original(sentence)) for sentence in doc_content_list]"
   ]
  },
  {
   "cell_type": "code",
   "execution_count": 90,
   "id": "e202f10b",
   "metadata": {},
   "outputs": [
    {
     "data": {
      "text/plain": [
       "'infection total joint replacement small number infections total joint replacements blood borne distant sources infections derived operation strenuous attempts reduce risk cleaning air wound environment coupled prophylactic antibiotics reduced infection rates order magnitude decade time potential exchange arthroplasty established infection encouraging rigorous infection control key difficult expensive problem'"
      ]
     },
     "execution_count": 90,
     "metadata": {},
     "output_type": "execute_result"
    }
   ],
   "source": [
    "doc_content_list[0]"
   ]
  },
  {
   "cell_type": "code",
   "execution_count": 91,
   "id": "faa20562",
   "metadata": {},
   "outputs": [
    {
     "data": {
      "text/plain": [
       "True"
      ]
     },
     "execution_count": 91,
     "metadata": {},
     "output_type": "execute_result"
    }
   ],
   "source": [
    "len(doc_content_list[0].split())==len(doc_content_lemmatization_list[0].split())"
   ]
  },
  {
   "cell_type": "markdown",
   "id": "740e713f",
   "metadata": {},
   "source": [
    "## Analysis for OOV on dataset"
   ]
  },
  {
   "cell_type": "code",
   "execution_count": 122,
   "id": "54424f47",
   "metadata": {},
   "outputs": [],
   "source": [
    "def wordFreq(docs):\n",
    "    word_freq = {}\n",
    "    for doc in docs:\n",
    "        for word in doc.split():\n",
    "            if word in word_freq:\n",
    "                word_freq[word] += 1\n",
    "            else:\n",
    "                word_freq[word] = 1\n",
    "    return word_freq\n",
    "def evaluationFrequncy(docs,save_name):\n",
    "    '''evaluation frequncy for document lexions'''\n",
    "    word_freq = wordFreq(docs)\n",
    "    print(\"#all word size: \", len(word_freq))\n",
    "    word_freq_sorted = sorted(word_freq.items(), key = lambda kv:(kv[1], kv[0]))\n",
    "    print(\"#frequncy mean: \", np.mean(list(word_freq.values())))\n",
    "    print(\"#frequncy standard deviation: \", np.std(list(word_freq.values())))\n",
    "    print(\"#frequncy std/mean: \", np.std(list(word_freq.values()))/np.mean(list(word_freq.values())))\n",
    "    axes = sns.scatterplot(data=list(word_freq.values())).set_title(save_name)\n",
    "    axes.figure.set_size_inches(18,4)\n",
    "    fig = axes.get_figure()\n",
    "    fig.savefig(\"../data/images/\"+save_name+\".png\", dpi = 400)\n",
    "    return word_freq, word_freq_sorted"
   ]
  },
  {
   "cell_type": "code",
   "execution_count": 141,
   "id": "b4c29af9",
   "metadata": {},
   "outputs": [
    {
     "name": "stdout",
     "output_type": "stream",
     "text": [
      "#all word size:  31963\n",
      "#frequncy mean:  22.502362106185277\n",
      "#frequncy standard deviation:  96.59746181770852\n",
      "#frequncy std/mean:  4.29276985953206\n",
      "#all word size:  28897\n",
      "#frequncy mean:  24.8898847631242\n",
      "#frequncy standard deviation:  122.58557512115955\n",
      "#frequncy std/mean:  4.925116218407614\n"
     ]
    },
    {
     "data": {
      "image/png": "[encoded data removed]",
      "text/plain": [
       "<Figure size 1296x288 with 1 Axes>"
      ]
     },
     "metadata": {
      "needs_background": "light"
     },
     "output_type": "display_data"
    }
   ],
   "source": [
    "raw_word_freq, raw_word_freq_sorted = evaluationFrequncy(doc_content_list,\"raw_ohsumed\")\n",
    "lemm_word_freq, lemm_word_freq_sorted = evaluationFrequncy(doc_content_lemmatization_list,\"lemmatization_ohsumed\")"
   ]
  },
  {
   "cell_type": "code",
   "execution_count": 94,
   "id": "995fd66a",
   "metadata": {},
   "outputs": [],
   "source": [
    "doc_content_tuple = (raw_word_freq,raw_word_freq_sorted,doc_content_list)\n",
    "doc_content_lemmatization_tuple = (lemm_word_freq,lemm_word_freq_sorted,doc_content_lemmatization_list)"
   ]
  },
  {
   "cell_type": "code",
   "execution_count": 95,
   "id": "c5454882",
   "metadata": {},
   "outputs": [
    {
     "name": "stderr",
     "output_type": "stream",
     "text": [
      "/home/adaptsystemlab2019/yes/lib/python3.8/site-packages/numpy/lib/npyio.py:528: VisibleDeprecationWarning: Creating an ndarray from ragged nested sequences (which is a list-or-tuple of lists-or-tuples-or ndarrays with different lengths or shapes) is deprecated. If you meant to do this, you must specify 'dtype=object' when creating the ndarray.\n",
      "  arr = np.asanyarray(arr)\n"
     ]
    }
   ],
   "source": [
    "np.save(\"../data/corpus/\" + dataset+\".clean\", doc_content_tuple)\n",
    "np.save(\"../data/corpus/\" + dataset+\".clean.lemmatization\", doc_content_lemmatization_tuple)"
   ]
  },
  {
   "cell_type": "markdown",
   "id": "d06ee782",
   "metadata": {},
   "source": [
    "## Get the DictSKB and own SKB-DA"
   ]
  },
  {
   "cell_type": "code",
   "execution_count": 266,
   "id": "a63b41f2",
   "metadata": {},
   "outputs": [],
   "source": [
    "doc_content_lemmatization_tuple: tuple = np.load(\"../data/corpus/\" + dataset+\".clean.lemmatization.npy\",\\\n",
    "                                                 allow_pickle=True).tolist()\n",
    "doc_content_tuple: tuple = np.load(\"../data/corpus/\" + dataset+\".clean.npy\", allow_pickle=True).tolist()\n",
    "dictskb = np.load(\"../sememe_dataset/DictSKB_dict.npy\", allow_pickle=True).tolist()\n",
    "dictskb_cdv = np.load(\"../sememe_dataset/DictSKB_sememes.npy\", allow_pickle=True).tolist()\n",
    "skb_da = np.load(\"../sememe_dataset/skb_ad_dict.npy\", allow_pickle=True).tolist()\n",
    "networkskb = np.load(\"../sememe_dataset/sememe_network_dict_en_wordnet_5000.npy\", allow_pickle=True).tolist()\n",
    "networkskb_cdv = np.load(\"../sememe_dataset/sememe_network_cdv_en_wordnet_5000.npy\", allow_pickle=True).tolist()"
   ]
  },
  {
   "cell_type": "code",
   "execution_count": 267,
   "id": "0f840cbc",
   "metadata": {},
   "outputs": [],
   "source": [
    "def removeWikiSenseOnSKBDA(skb_da_dict):\n",
    "    '''uniform for SKB-DA sense'''\n",
    "    skb_da_pure_dict = {}\n",
    "    skb_da_cdv_set = set()\n",
    "    for word, sense in tqdm.tqdm(skb_da_dict.items()):\n",
    "        for (pos, sememe_set) in sense:\n",
    "            if \" (\" in word:\n",
    "                if len(word.split(\" (\")) == 3:\n",
    "                    word, sense1,sense2 = word.split(\" (\")\n",
    "                    sense1 = sense1.replace(\")\",\"\")\n",
    "                    sense2 = sense2.replace(\")\",\"\")\n",
    "                    if word not in skb_da_pure_dict.keys():\n",
    "                        skb_da_pure_dict[word] = []\n",
    "                    #sememe_set.add(sense1)\n",
    "                    #sememe_set.add(sense2)\n",
    "                    sememe_set.discard(word)\n",
    "                    skb_da_pure_dict[word].append((sense1+\" - \"+sense2,sememe_set))\n",
    "                    skb_da_cdv_set =  skb_da_cdv_set | sememe_set\n",
    "                    continue\n",
    "                word, sense = word.split(\" (\")\n",
    "                sense = sense.replace(\")\",\"\")\n",
    "                if word not in skb_da_pure_dict.keys():\n",
    "                    skb_da_pure_dict[word] = []\n",
    "                #sememe_set.add(sense)\n",
    "                sememe_set.discard(word)\n",
    "                skb_da_pure_dict[word].append((sense,sememe_set))\n",
    "                skb_da_cdv_set =  skb_da_cdv_set | sememe_set\n",
    "            else:\n",
    "                if word not in skb_da_pure_dict.keys():\n",
    "                    skb_da_pure_dict[word] = []\n",
    "                sememe_set.discard(word)\n",
    "                skb_da_pure_dict[word].append((pos,sememe_set))\n",
    "                skb_da_cdv_set =  skb_da_cdv_set | sememe_set\n",
    "    print(\"#all lexicon of SKB-DA: {}; #CDV of SKB-DA: {}\".format(len(skb_da_pure_dict),len(skb_da_cdv_set)))\n",
    "    return skb_da_pure_dict,skb_da_cdv_set"
   ]
  },
  {
   "cell_type": "code",
   "execution_count": 268,
   "id": "5401fdb0",
   "metadata": {},
   "outputs": [
    {
     "name": "stderr",
     "output_type": "stream",
     "text": [
      "100%|█████████████████████████████████| 910369/910369 [01:35<00:00, 9573.96it/s]"
     ]
    },
    {
     "name": "stdout",
     "output_type": "stream",
     "text": [
      "#all lexicon of SKB-DA: 800795; #CDV of SKB-DA: 5000\n"
     ]
    },
    {
     "name": "stderr",
     "output_type": "stream",
     "text": [
      "\n"
     ]
    }
   ],
   "source": [
    "skb_da_pure,skb_da_pure_cdv_set = removeWikiSenseOnSKBDA(skb_da)"
   ]
  },
  {
   "cell_type": "code",
   "execution_count": 269,
   "id": "35e229be",
   "metadata": {},
   "outputs": [],
   "source": [
    "def _networkskbForm(networkskb):\n",
    "    '''uniform for NetWorkSKB'''\n",
    "    networkskb_form = {}\n",
    "    for wn_k,wn_v in networkskb.items():\n",
    "        word = wn_k.split(\".\")[0]\n",
    "        if word not in networkskb_form.keys():\n",
    "            networkskb_form[word] = []\n",
    "        networkskb_form[word].append((wn_k.split(\".\")[1],wn_v))\n",
    "    return networkskb_form"
   ]
  },
  {
   "cell_type": "code",
   "execution_count": 270,
   "id": "91ea7041",
   "metadata": {},
   "outputs": [],
   "source": [
    "networkskb = _networkskbForm(networkskb)"
   ]
  },
  {
   "cell_type": "markdown",
   "id": "fa054361",
   "metadata": {},
   "source": [
    "### How many words of  doc_content are in the lexicons of SKB-DA\n",
    ">* doc_content_lemmatization SKB-DA\n",
    ">* doc_content DictSKB\n",
    ">* doc_content_lemmatization DictSKB"
   ]
  },
  {
   "cell_type": "code",
   "execution_count": 271,
   "id": "c590a6f8",
   "metadata": {},
   "outputs": [],
   "source": [
    "def checkExistFreq(doc_tuple,skb_dict,label_name_str):\n",
    "    '''How many words of doc_content are in the lexicons of SKB-DA'''\n",
    "    exist_freq = wordFreq([\" \".join([word for word in sentence.split() if word in skb_dict.keys()])\\\n",
    "                          for sentence in doc_tuple[2]])\n",
    "    #exist_freq_df = pd.DataFrame({label_name_str: list(exist_freq.values())})\n",
    "    #axes = sns.scatterplot(data = exist_freq_df)\n",
    "    #axes.figure.set_size_inches(18,4)\n",
    "    #fig = axes.get_figure()\n",
    "    #fig.savefig(\"../data/images/\"+doc_content_tuple+\".exist_freq.png\", dpi = 400)\n",
    "    print(len(exist_freq)/len(doc_tuple[1]))\n",
    "    return len(exist_freq)/len(doc_tuple[1])"
   ]
  },
  {
   "cell_type": "code",
   "execution_count": 272,
   "id": "a1c7927b",
   "metadata": {},
   "outputs": [
    {
     "name": "stdout",
     "output_type": "stream",
     "text": [
      "0.5473578572170121\n",
      "0.5086193411131621\n",
      "0.5129944284873862\n",
      "0.4680411726058255\n",
      "0.4210125618576323\n",
      "0.3761536776898289\n",
      "0.30664082776758833\n",
      "0.26471232362419045\n"
     ]
    }
   ],
   "source": [
    "_ = checkExistFreq(doc_content_lemmatization_tuple,skb_da_pure,\"lemmatization on DictSKB(Pure)\")\n",
    "_ = checkExistFreq(doc_content_tuple,skb_da_pure,\"raw on DictSKB(Pure)\")\n",
    "_ = checkExistFreq(doc_content_lemmatization_tuple,skb_ad,\"lemmatization on SKB_DA\")\n",
    "_ = checkExistFreq(doc_content_tuple,skb_ad,\"raw on SKB_DA\")\n",
    "_ = checkExistFreq(doc_content_lemmatization_tuple,networkskb,\"lemmatization on NetWorkSKB\")\n",
    "_ = checkExistFreq(doc_content_tuple,networkskb,\"raw on NetWorkSKB\")\n",
    "_ = checkExistFreq(doc_content_lemmatization_tuple,dictskb,\"lemmatization on DictSKB\")\n",
    "_ = checkExistFreq(doc_content_tuple,dictskb,\"raw on DictSKB\")"
   ]
  },
  {
   "cell_type": "markdown",
   "id": "7945173f",
   "metadata": {},
   "source": [
    "## the evaluation for embeddings of lexicon "
   ]
  },
  {
   "cell_type": "code",
   "execution_count": 259,
   "id": "3d4d1f75",
   "metadata": {},
   "outputs": [],
   "source": [
    "def loadGloveModel(gloveFile):\n",
    "    '''Loading Glove Model'''\n",
    "    f = open(gloveFile,'r', encoding='utf8')\n",
    "    model = {}\n",
    "    for line in tqdm.tqdm(f):\n",
    "        splitLine = line.split(' ')\n",
    "        word = splitLine[0]\n",
    "        embedding = np.asarray(splitLine[1:], dtype='float32')\n",
    "        model[word] = embedding\n",
    "    print(\"Done.\",len(model),\" words loaded!\")\n",
    "    return model"
   ]
  },
  {
   "cell_type": "code",
   "execution_count": 214,
   "id": "2abd5928",
   "metadata": {},
   "outputs": [
    {
     "name": "stdout",
     "output_type": "stream",
     "text": [
      "Loading Glove Model\n"
     ]
    },
    {
     "name": "stderr",
     "output_type": "stream",
     "text": [
      "400001it [00:13, 29576.70it/s]"
     ]
    },
    {
     "name": "stdout",
     "output_type": "stream",
     "text": [
      "Done. 400001  words loaded!\n"
     ]
    },
    {
     "name": "stderr",
     "output_type": "stream",
     "text": [
      "\n"
     ]
    }
   ],
   "source": [
    "glove_6B_300d_wiki = loadGloveModel(\"../data/embeddings/glove.6B.300d.wiki.txt\")"
   ]
  },
  {
   "cell_type": "code",
   "execution_count": 262,
   "id": "c326d02d",
   "metadata": {},
   "outputs": [
    {
     "name": "stderr",
     "output_type": "stream",
     "text": [
      "1193517it [00:28, 42039.70it/s]"
     ]
    },
    {
     "name": "stdout",
     "output_type": "stream",
     "text": [
      "Done. 1193515  words loaded!\n"
     ]
    },
    {
     "name": "stderr",
     "output_type": "stream",
     "text": [
      "\n"
     ]
    }
   ],
   "source": [
    "glove_twitter_27B_200d_txt = loadGloveModel(\"../data/embeddings/glove.twitter.27B.200d.txt\")"
   ]
  },
  {
   "cell_type": "code",
   "execution_count": 260,
   "id": "d7b9b2d3",
   "metadata": {},
   "outputs": [
    {
     "name": "stderr",
     "output_type": "stream",
     "text": [
      "2196018it [01:13, 29914.97it/s]"
     ]
    },
    {
     "name": "stdout",
     "output_type": "stream",
     "text": [
      "Done. 2196017  words loaded!\n"
     ]
    },
    {
     "name": "stderr",
     "output_type": "stream",
     "text": [
      "\n"
     ]
    }
   ],
   "source": [
    "glove_840B_300d_common_crawl = loadGloveModel(\"../data/embeddings/glove.840B.300d.common_crawl.txt\")"
   ]
  },
  {
   "cell_type": "code",
   "execution_count": 277,
   "id": "c15069e7",
   "metadata": {},
   "outputs": [],
   "source": [
    "def checkEmbeddingsLexicon(doc_content_tuple, skb_dict, skb_cdv, embedding_dict):\n",
    "    '''check the number of embedding in doc and skb'''\n",
    "    embeddings_in_doc = len(set(doc_content_tuple[0].keys()) & set(embedding_dict.keys()))/\\\n",
    "                        len(set(doc_content_tuple[0].keys()))\n",
    "    embeddings_in_skb_key = len(set(skb_dict.keys()) & set(embedding_dict.keys()))/\\\n",
    "                            len(set(skb_dict.keys()))\n",
    "    embeddings_in_skb_sememe = len(skb_cdv & set(embedding_dict.keys()))/\\\n",
    "                               len(skb_cdv)\n",
    "    print(\"The Embedding Lexion in doc: {}; in SKB keys: {}; in SKB Sememes: {}\"\\\n",
    "          .format(embeddings_in_doc,embeddings_in_skb_key,embeddings_in_skb_sememe))\n",
    "    return embeddings_in_doc,embeddings_in_skb_key,embeddings_in_skb_sememe"
   ]
  },
  {
   "cell_type": "code",
   "execution_count": 278,
   "id": "b5a048c4",
   "metadata": {},
   "outputs": [
    {
     "name": "stdout",
     "output_type": "stream",
     "text": [
      "The Embedding Lexion in doc: 0.4780427033948161; in SKB keys: 0.12749455228866313; in SKB Sememes: 0.8496\n",
      "The Embedding Lexion in doc: 0.5076181835247005; in SKB keys: 0.12749455228866313; in SKB Sememes: 0.8496\n"
     ]
    }
   ],
   "source": [
    "_,_,_ = checkEmbeddingsLexicon(doc_content_lemmatization_tuple,skb_da_pure,skb_da_pure_cdv_set,\\\n",
    "                               glove_twitter_27B_200d_txt)\n",
    "_,_,_ = checkEmbeddingsLexicon(doc_content_tuple,skb_da_pure,skb_da_pure_cdv_set,glove_twitter_27B_200d_txt)"
   ]
  },
  {
   "cell_type": "code",
   "execution_count": 279,
   "id": "45d6f440",
   "metadata": {},
   "outputs": [
    {
     "name": "stdout",
     "output_type": "stream",
     "text": [
      "The Embedding Lexion in doc: 0.6542547669308233; in SKB keys: 0.18834782934458882; in SKB Sememes: 0.8918\n",
      "The Embedding Lexion in doc: 0.6828207615054908; in SKB keys: 0.18834782934458882; in SKB Sememes: 0.8918\n"
     ]
    }
   ],
   "source": [
    "_,_,_ = checkEmbeddingsLexicon(doc_content_lemmatization_tuple,skb_da_pure,skb_da_pure_cdv_set,glove_6B_300d_wiki)\n",
    "_,_,_ = checkEmbeddingsLexicon(doc_content_tuple,skb_da_pure,skb_da_pure_cdv_set,glove_6B_300d_wiki)"
   ]
  },
  {
   "cell_type": "code",
   "execution_count": 280,
   "id": "ae718221",
   "metadata": {},
   "outputs": [
    {
     "name": "stdout",
     "output_type": "stream",
     "text": [
      "The Embedding Lexion in doc: 0.7939578502958785; in SKB keys: 0.15564782497393215; in SKB Sememes: 0.999\n",
      "The Embedding Lexion in doc: 0.812501955385915; in SKB keys: 0.15564782497393215; in SKB Sememes: 0.999\n"
     ]
    }
   ],
   "source": [
    "_,_,_ = checkEmbeddingsLexicon(doc_content_lemmatization_tuple,skb_da_pure,skb_da_pure_cdv_set,\\\n",
    "                               glove_840B_300d_common_crawl)\n",
    "_,_,_ = checkEmbeddingsLexicon(doc_content_tuple,skb_da_pure,skb_da_pure_cdv_set,glove_840B_300d_common_crawl)"
   ]
  },
  {
   "cell_type": "markdown",
   "id": "bae7cf91",
   "metadata": {},
   "source": [
    "## Replace the word to sememe"
   ]
  },
  {
   "cell_type": "code",
   "execution_count": 281,
   "id": "52cf0857",
   "metadata": {},
   "outputs": [],
   "source": [
    "class CosineSimilarityTest(torch.nn.Module):\n",
    "    def __init__(self):\n",
    "        super(CosineSimilarityTest, self).__init__()\n",
    "\n",
    "    def forward(self, x1, x2):\n",
    "        x2 = x2.t()\n",
    "        x = x1.mm(x2)\n",
    "        x1_frobenius = x1.norm(dim=1).unsqueeze(0).t()\n",
    "        x2_frobenins = x2.norm(dim=0).unsqueeze(0)\n",
    "        x_frobenins = x1_frobenius.mm(x2_frobenins)\n",
    "        final = x.mul(1/x_frobenins)\n",
    "        return final\n",
    "\n",
    "def cosine_similarity(context_vec,center_vector):\n",
    "    #device = torch.device(\"cuda:0\" if torch.cuda.is_available() else \"cpu\")\n",
    "    x1 = torch.Tensor(context_vec).to(device)\n",
    "    x2 = torch.from_numpy(center_vector).float().unsqueeze(0).to(device)\n",
    "    model = CosineSimilarityTest().to(DEVICE)\n",
    "    final_value = model(x1, x2)\n",
    "    m = nn.Softmax(dim=0)\n",
    "    softmax_weight = m(final_value)\n",
    "    word_sememe_part = softmax_weight.t().mm(x1)\n",
    "    return word_sememe_part"
   ]
  },
  {
   "cell_type": "code",
   "execution_count": null,
   "id": "b7894552",
   "metadata": {},
   "outputs": [],
   "source": [
    "def replaceWord2Sememe(embedding_dict, skb_dict, docs_list):\n",
    "    '''\n",
    "        first: search the sentence embedding of docs by look-up embedding dictionary\n",
    "        second: if the word of sentence in skb && else if the freqency of word less then threshold:\n",
    "                    replace the word to sememe:\n",
    "                        if the sense of word only once:\n",
    "                            straightforward replace else more thinking... of (sense dismatching)\n",
    "                        else:\n",
    "                            \n",
    "        return: docs list replaced with sememe\n",
    "    '''\n",
    "    sememe_docs_list = []\n",
    "    for sentence in docs_list:\n",
    "        sentence_embeddings_list = [for ]\n",
    "        \n",
    "        \n",
    "        \n",
    "    "
   ]
  }
 ],
 "metadata": {
  "kernelspec": {
   "display_name": "Python 3 (ipykernel)",
   "language": "python",
   "name": "python3"
  },
  "language_info": {
   "codemirror_mode": {
    "name": "ipython",
    "version": 3
   },
   "file_extension": ".py",
   "mimetype": "text/x-python",
   "name": "python",
   "nbconvert_exporter": "python",
   "pygments_lexer": "ipython3",
   "version": "3.8.5"
  }
 },
 "nbformat": 4,
 "nbformat_minor": 5
}
