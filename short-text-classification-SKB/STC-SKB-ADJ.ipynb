{
 "cells": [
  {
   "cell_type": "markdown",
   "id": "cee6cc96",
   "metadata": {},
   "source": [
    "# Building Adjacency Matrix Based on SKB-DA\n",
    "---\n",
    "By Xiaoran Li\n",
    "For JSAI2022"
   ]
  },
  {
   "cell_type": "markdown",
   "id": "91af3bb3",
   "metadata": {},
   "source": [
    "# Definition"
   ]
  },
  {
   "cell_type": "code",
   "execution_count": 1,
   "id": "87da58ab",
   "metadata": {},
   "outputs": [],
   "source": [
    "import pickle as pkl\n",
    "import math\n",
    "from tqdm import tqdm\n",
    "import os\n",
    "from scipy.sparse import coo_matrix\n",
    "import matplotlib.pyplot as plt\n",
    "import re\n",
    "from collections import defaultdict\n",
    "import nltk\n",
    "import numpy as np\n",
    "import re\n",
    "import glob\n",
    "import sys\n",
    "import json\n",
    "import torch\n",
    "import torch.nn as nn\n",
    "import pandas as pd\n",
    "import seaborn as sns\n",
    "from collections import OrderedDict\n",
    "from nltk.stem import WordNetLemmatizer\n",
    "from scipy import linalg, mat, dot, stats\n",
    "\n",
    "device = torch.device('cuda' if torch.cuda.is_available() else 'cpu')"
   ]
  },
  {
   "cell_type": "markdown",
   "id": "b7e5e71a",
   "metadata": {},
   "source": [
    "## Load STC dataset"
   ]
  },
  {
   "cell_type": "code",
   "execution_count": 415,
   "id": "44d5306f",
   "metadata": {},
   "outputs": [
    {
     "name": "stdout",
     "output_type": "stream",
     "text": [
      "7398\n"
     ]
    }
   ],
   "source": [
    "dataset_name = 'Ohsumed'\n",
    "#dataset_name = 'Snippets'\n",
    "\n",
    "STC_Benchmark_path = \"../benchmark\"\n",
    "stopword_en_path = \"{}/stopwords_en.txt\".format(STC_Benchmark_path)\n",
    "os.makedirs(f'{STC_Benchmark_path}/{dataset_name}_over', exist_ok=True)\n",
    "\n",
    "if dataset_name == 'Ohsumed':\n",
    "    train_dict: dict = np.load(\"{}/{}/train.npy\".format(STC_Benchmark_path,dataset_name), allow_pickle=True).tolist()\n",
    "    test_dict: dict = np.load(\"{}/{}/test.npy\".format(STC_Benchmark_path,dataset_name), allow_pickle=True).tolist()\n",
    "    all_ = dict(train_dict, **test_dict)\n",
    "    print(len(all_))\n",
    "        \n",
    "if dataset_name == 'Snippets':\n",
    "    train_dict = json.load(open('{}/{}/snippets_split.json'.format(STC_Benchmark_path,dataset_name)))['train']\n",
    "    test_dict = json.load(open('{}/{}/snippets_split.json'.format(STC_Benchmark_path,dataset_name)))['test']\n",
    "    all_ = {items['text']:items['label'] for items in train_dict.values()}\n",
    "    for items in test_dict.values():\n",
    "        if items['text'] in all_.keys() and items['label'] != all_[items['text']]:\n",
    "            print(\"ERROR: \",items['text'],items['label'],all_[items['text']])\n",
    "            del all_[items['text']]\n",
    "            continue\n",
    "        all_[items['text']] = items['label']\n"
   ]
  },
  {
   "cell_type": "code",
   "execution_count": null,
   "id": "48bd8b8e",
   "metadata": {},
   "outputs": [],
   "source": []
  },
  {
   "cell_type": "markdown",
   "id": "7b8f54ea",
   "metadata": {},
   "source": [
    "## Load SKB dataset"
   ]
  },
  {
   "cell_type": "code",
   "execution_count": 5,
   "id": "ec90845c",
   "metadata": {},
   "outputs": [],
   "source": [
    "SKB_dataset_name = 'skb_da'\n",
    "SKB_Benchmark_path = \"../sememe_dataset\"\n",
    "\n",
    "skb_da = np.load(\"{}/{}_dict.npy\".format(SKB_Benchmark_path, SKB_dataset_name), allow_pickle=True).tolist()\n",
    "dictskb = np.load(\"{}/DictSKB_dict.npy\".format(SKB_Benchmark_path), allow_pickle=True).tolist()\n",
    "networdskb = np.load(\"{}/sememe_network_dict_en_wordnet_5000.npy\".format(SKB_Benchmark_path),\\\n",
    "                     allow_pickle=True).tolist()"
   ]
  },
  {
   "cell_type": "code",
   "execution_count": null,
   "id": "846a3c84",
   "metadata": {},
   "outputs": [],
   "source": [
    "### for networks"
   ]
  },
  {
   "cell_type": "code",
   "execution_count": 169,
   "id": "cf0d6842",
   "metadata": {},
   "outputs": [],
   "source": [
    "def netWordSKBForm(networdskb):\n",
    "    '''uniform for NetWordSKB'''\n",
    "    networdskb_form = {}\n",
    "    for wn_k,wn_v in networdskb.items():\n",
    "        word = wn_k.split(\".\")[0]\n",
    "        if word not in networkskb_form.keys():\n",
    "            networdskb_form[word] = []\n",
    "        networdskb_form[word].append((wn_k.split(\".\")[1],wn_v))\n",
    "    return networdskb_form"
   ]
  },
  {
   "cell_type": "markdown",
   "id": "af28409a",
   "metadata": {},
   "source": [
    "### Move Wiki keys To Sense on SKBDA\n",
    "And Get SKB-DA CDV"
   ]
  },
  {
   "cell_type": "code",
   "execution_count": 6,
   "id": "601d75f0",
   "metadata": {},
   "outputs": [],
   "source": [
    "def cleanSKB(skb):\n",
    "    clean_skb = {}\n",
    "    for word, items in skb.items():\n",
    "        if word not in clean_skb.keys():\n",
    "            clean_skb[word] = []\n",
    "        for (pos, sememe_set) in items:\n",
    "            if word in clean_skb.keys() and len(sememe_set) != 0: \n",
    "                clean_skb[word].append((pos, sememe_set))\n",
    "    return clean_skb\n",
    "\n",
    "def removeWikiSenseOnSKBDA(skb_da_dict):\n",
    "    '''uniform for SKB-DA sense'''\n",
    "    skb_da_pure_dict = {}\n",
    "    skb_da_cdv_set = set()\n",
    "    for word, sense in tqdm(skb_da_dict.items()):\n",
    "        for (pos, sememe_set) in sense:\n",
    "            if \" (\" in word:\n",
    "                if len(word.split(\" (\")) == 3:\n",
    "                    word, sense1,sense2 = word.split(\" (\")\n",
    "                    sense1 = sense1.replace(\")\",\"\")\n",
    "                    sense2 = sense2.replace(\")\",\"\")\n",
    "                    if word not in skb_da_pure_dict.keys():\n",
    "                        skb_da_pure_dict[word] = []\n",
    "                    #sememe_set.add(sense1)\n",
    "                    #sememe_set.add(sense2)\n",
    "                    sememe_set.discard(word)\n",
    "                    skb_da_pure_dict[word].append((sense1+\" - \"+sense2,sememe_set))\n",
    "                    skb_da_cdv_set =  skb_da_cdv_set | sememe_set\n",
    "                    continue\n",
    "                word, sense = word.split(\" (\")\n",
    "                sense = sense.replace(\")\",\"\")\n",
    "                if word not in skb_da_pure_dict.keys():\n",
    "                    skb_da_pure_dict[word] = []\n",
    "                #sememe_set.add(sense)\n",
    "                sememe_set.discard(word)\n",
    "                skb_da_pure_dict[word].append((sense,sememe_set))\n",
    "                skb_da_cdv_set =  skb_da_cdv_set | sememe_set\n",
    "            else:\n",
    "                if word not in skb_da_pure_dict.keys():\n",
    "                    skb_da_pure_dict[word] = []\n",
    "                sememe_set.discard(word)\n",
    "                skb_da_pure_dict[word].append((pos,sememe_set))\n",
    "                skb_da_cdv_set =  skb_da_cdv_set | sememe_set\n",
    "    print(\"#all lexicon of SKB-DA: {}; #CDV of SKB-DA: {}\".format(len(skb_da_pure_dict),len(skb_da_cdv_set)))\n",
    "    return cleanSKB(skb_da_pure_dict),skb_da_cdv_set"
   ]
  },
  {
   "cell_type": "code",
   "execution_count": 7,
   "id": "5c7e52b2",
   "metadata": {},
   "outputs": [
    {
     "name": "stderr",
     "output_type": "stream",
     "text": [
      "100%|████████████████████████████████| 910369/910369 [01:26<00:00, 10581.36it/s]\n"
     ]
    },
    {
     "name": "stdout",
     "output_type": "stream",
     "text": [
      "#all lexicon of SKB-DA: 800795; #CDV of SKB-DA: 5000\n"
     ]
    }
   ],
   "source": [
    "skb_da_pure,skb_da_pure_cdv_set = removeWikiSenseOnSKBDA(skb_da)"
   ]
  },
  {
   "cell_type": "code",
   "execution_count": 8,
   "id": "a493fab9",
   "metadata": {},
   "outputs": [],
   "source": [
    "np.save(SKB_Benchmark_path+\"/skb_da_pure\",skb_da_pure)\n",
    "np.save(SKB_Benchmark_path+\"/skb_da_pure_cdv_set\",skb_da_pure_cdv_set)"
   ]
  },
  {
   "cell_type": "markdown",
   "id": "3d99ea0d",
   "metadata": {},
   "source": [
    "### Load Embedding"
   ]
  },
  {
   "cell_type": "code",
   "execution_count": 11,
   "id": "fada3aff",
   "metadata": {},
   "outputs": [],
   "source": [
    "def loadGloveModel(gloveFile):\n",
    "    '''Loading Glove Model'''\n",
    "    f = open(gloveFile,'r', encoding='utf8')\n",
    "    model = {}\n",
    "    for line in f:\n",
    "        splitLine = line.split(' ')\n",
    "        word = splitLine[0]\n",
    "        embedding = np.asarray(splitLine[1:], dtype='float32')\n",
    "        model[word] = embedding\n",
    "    print(\"Done.\",len(model),\" words loaded!\")\n",
    "    return model"
   ]
  },
  {
   "cell_type": "code",
   "execution_count": 12,
   "id": "07011428",
   "metadata": {},
   "outputs": [
    {
     "name": "stdout",
     "output_type": "stream",
     "text": [
      "Done. 2196017  words loaded!\n"
     ]
    }
   ],
   "source": [
    "embedding_path = \"../data/embeddings\"\n",
    "glove_840B_300d_common_crawl = loadGloveModel(embedding_path+\"/glove.840B.300d.txt\")"
   ]
  },
  {
   "cell_type": "markdown",
   "id": "b3380fbe",
   "metadata": {},
   "source": [
    "### Set upper max To 4"
   ]
  },
  {
   "cell_type": "code",
   "execution_count": 324,
   "id": "c51b70d8",
   "metadata": {},
   "outputs": [],
   "source": [
    "count = 0\n",
    "\n",
    "def cos(vec1,vec2):\n",
    "    return np.nan_to_num(vec1.dot(vec2)/(linalg.norm(vec1)*linalg.norm(vec2)))\n",
    "    \n",
    "def catSememe(word, sememe_set, embedding_dict, upper_max,count):\n",
    "    order_embedding_list = []\n",
    "    if word not in embedding_dict.keys():\n",
    "        word = '<unk>'\n",
    "        count += 1\n",
    "    for sememe in sememe_set:\n",
    "        if sememe in embedding_dict:\n",
    "            order_embedding_list.append(cos(embedding_dict[word],embedding_dict[sememe]))\n",
    "        else:\n",
    "            order_embedding_list.append(cos(embedding_dict[word],[0.0]*300))\n",
    "    sememe_set = list(sememe_set)\n",
    "    return set(sememe_set[order_embedding_list.index(v)] for v in sorted(order_embedding_list)[-upper_max:])\n",
    "    \n",
    "def upperMaxSKB(skb_dict, embedding_dict, upper_max):\n",
    "    \n",
    "    skb_da_cdv_upper_max = set()\n",
    "    skb_da_upper_max_map = {}\n",
    "    limit_skb = {}\n",
    "    for word, items in tqdm(skb_dict.items()):\n",
    "        if word not in limit_skb.keys():\n",
    "            limit_skb[word] = []\n",
    "        for (pos, sememe_set) in items:\n",
    "            if len(sememe_set) > upper_max:\n",
    "                a = catSememe(word, sememe_set,embedding_dict,upper_max,count)\n",
    "                limit_skb[word].append((pos, a))\n",
    "                #print(word,a)\n",
    "                skb_da_cdv_upper_max = skb_da_cdv_upper_max | a\n",
    "            else:\n",
    "                limit_skb[word].append((pos, sememe_set))\n",
    "                skb_da_cdv_upper_max = skb_da_cdv_upper_max | sememe_set\n",
    "    print(\"oov word: \",count)\n",
    "    return limit_skb,skb_da_cdv_upper_max"
   ]
  },
  {
   "cell_type": "code",
   "execution_count": 325,
   "id": "7284ae99",
   "metadata": {},
   "outputs": [
    {
     "name": "stderr",
     "output_type": "stream",
     "text": [
      "100%|█████████████████████████████████| 800795/800795 [01:29<00:00, 8976.59it/s]"
     ]
    },
    {
     "name": "stdout",
     "output_type": "stream",
     "text": [
      "oov word:  0\n"
     ]
    },
    {
     "name": "stderr",
     "output_type": "stream",
     "text": [
      "\n"
     ]
    }
   ],
   "source": [
    "skb_da_upper_max,skb_da_upper_max_sdv = upperMaxSKB(skb_da_pure,glove_840B_300d_common_crawl,4)"
   ]
  },
  {
   "cell_type": "code",
   "execution_count": 326,
   "id": "07446c41",
   "metadata": {},
   "outputs": [],
   "source": [
    "np.save(SKB_Benchmark_path+\"/skb_da_upper_max_cdv\",skb_da_upper_max_sdv)"
   ]
  },
  {
   "cell_type": "code",
   "execution_count": 327,
   "id": "96ca3882",
   "metadata": {},
   "outputs": [],
   "source": [
    "np.save(SKB_Benchmark_path+\"/skb_da_upper_max_4\",skb_da_upper_max)"
   ]
  },
  {
   "cell_type": "markdown",
   "id": "94bfaeca",
   "metadata": {},
   "source": [
    "### Analysis for SKB"
   ]
  },
  {
   "cell_type": "code",
   "execution_count": 72,
   "id": "ac7bcd2c",
   "metadata": {},
   "outputs": [],
   "source": [
    "def skbToList(skb):\n",
    "    skb_list = []\n",
    "    for items in skb.values():\n",
    "        for sense in items:\n",
    "            skb_list.append(\" \".join(sense[1]))\n",
    "    return skb_list\n",
    "\n",
    "def getStopSememes(skb,upper_limit,lower_limit):\n",
    "    sememe_freq, sememe_sorted = evaluationFrequncy(skbToList(skb))\n",
    "    stopsememes_upper = [sememe for (sememe,_) in sememe_sorted[-round(len(sememe_sorted)*upper_limit):]]\n",
    "    stopsememes_lower = [sememe for (sememe,_) in sememe_sorted[:round(len(sememe_sorted)*lower_limit)]]\n",
    "    return set(stopsememes_upper + stopsememes_lower)\n",
    "\n",
    "def removeStopSememes(skb,upper_limit=0.05,lower_limit=0.05):\n",
    "    stopsememes_set = getStopSememes(skb,upper_limit,lower_limit)\n",
    "    skb_clean = {}\n",
    "    for word, senses in skb.items():\n",
    "        senses_list_clean = []\n",
    "        for (pos,sememe_set) in senses:\n",
    "            sememe_set_clean = set()\n",
    "            for sememe in sememe_set:\n",
    "                if sememe not in stopsememes_set:\n",
    "                    sememe_set_clean.add(sememe)\n",
    "            if len(sememe_set_clean) != 0:\n",
    "                senses_list_clean.append((pos,sememe_set_clean))\n",
    "        if len(senses_list_clean) != 0:\n",
    "            skb_clean[word] = senses_list_clean\n",
    "    return skb_clean"
   ]
  },
  {
   "cell_type": "code",
   "execution_count": 78,
   "id": "7f76a918",
   "metadata": {},
   "outputs": [],
   "source": [
    "def wordFreq(docs):\n",
    "    word_freq = {}\n",
    "    for doc in docs:\n",
    "        for word in doc.split():\n",
    "            if word in word_freq:\n",
    "                word_freq[word] += 1\n",
    "            else:\n",
    "                word_freq[word] = 1\n",
    "    return word_freq\n",
    "def evaluationFrequncy(docs,save_name=\"Frequncy Analysis\",limit_num=0,show_graph=False,show_analysis=True):\n",
    "    '''evaluation frequncy for document lexions'''\n",
    "    word_freq = wordFreq(docs)\n",
    "    limit_word_freq_len = len([v for k,v in word_freq.items() if v < limit_num])\n",
    "    word_freq_sorted = sorted(word_freq.items(), key = lambda kv:(kv[1], kv[0]))\n",
    "    if show_analysis:\n",
    "        print(\"=======analysis start=======\")\n",
    "        print(\"#all word size: \", len(word_freq))\n",
    "        print(\"#frequncy < \"+ str(limit_num) +\": \", limit_word_freq_len)\n",
    "        print(\"#frequncy mean: \", np.mean(list(word_freq.values())))\n",
    "        print(\"#frequncy standard deviation: \", np.std(list(word_freq.values())))\n",
    "        print(\"#frequncy std/mean: \", np.std(list(word_freq.values()))/np.mean(list(word_freq.values())))\n",
    "    if show_graph:\n",
    "        axes = sns.scatterplot(data=list(word_freq.values())).set_title(save_name)\n",
    "        axes.figure.set_size_inches(18,4)\n",
    "        fig = axes.get_figure()\n",
    "        fig.savefig(\"../data/images/\"+save_name+\".png\", dpi = 400)\n",
    "    return word_freq, word_freq_sorted"
   ]
  },
  {
   "cell_type": "code",
   "execution_count": 18,
   "id": "bd6a6fd9",
   "metadata": {},
   "outputs": [
    {
     "name": "stdout",
     "output_type": "stream",
     "text": [
      "=======analysis start=======\n",
      "#all word size:  5000\n",
      "#frequncy < 5:  0\n",
      "#frequncy mean:  875.396\n",
      "#frequncy standard deviation:  1449.2654401399354\n",
      "#frequncy std/mean:  1.6555541036741492\n"
     ]
    },
    {
     "data": {
      "image/png": "[encoded data removed]",
      "text/plain": [
       "<Figure size 1296x288 with 1 Axes>"
      ]
     },
     "metadata": {
      "needs_background": "light"
     },
     "output_type": "display_data"
    }
   ],
   "source": [
    "sememe_freq, sememe_sorted = evaluationFrequncy(skbToList(skb_da_pure),show_graph=True)"
   ]
  },
  {
   "cell_type": "code",
   "execution_count": 19,
   "id": "466122da",
   "metadata": {},
   "outputs": [
    {
     "name": "stdout",
     "output_type": "stream",
     "text": [
      "=======analysis start=======\n",
      "#all word size:  5000\n",
      "#frequncy < 5:  2\n",
      "#frequncy mean:  585.9322\n",
      "#frequncy standard deviation:  1115.9149288378394\n",
      "#frequncy std/mean:  1.9045120388294745\n"
     ]
    },
    {
     "data": {
      "image/png": "[encoded data removed]",
      "text/plain": [
       "<Figure size 1296x288 with 1 Axes>"
      ]
     },
     "metadata": {
      "needs_background": "light"
     },
     "output_type": "display_data"
    }
   ],
   "source": [
    "sememe_freq, sememe_sorted = evaluationFrequncy(skbToList(skb_da_upper_max),show_graph=True)"
   ]
  },
  {
   "cell_type": "code",
   "execution_count": 20,
   "id": "395cb730",
   "metadata": {},
   "outputs": [
    {
     "name": "stdout",
     "output_type": "stream",
     "text": [
      "=======analysis start=======\n",
      "#all word size:  5000\n",
      "#frequncy < 5:  0\n",
      "#frequncy mean:  875.396\n",
      "#frequncy standard deviation:  1449.2654401399354\n",
      "#frequncy std/mean:  1.6555541036741492\n"
     ]
    }
   ],
   "source": [
    "skb_da_pure_limit = removeStopSememes(skb_da_pure,upper_limit=0.01,lower_limit=0)"
   ]
  },
  {
   "cell_type": "code",
   "execution_count": 21,
   "id": "2005e6cd",
   "metadata": {},
   "outputs": [
    {
     "name": "stdout",
     "output_type": "stream",
     "text": [
      "=======analysis start=======\n",
      "#all word size:  4950\n",
      "#frequncy < 5:  0\n",
      "#frequncy mean:  780.4511111111111\n",
      "#frequncy standard deviation:  1079.0451663596941\n",
      "#frequncy std/mean:  1.3825916204071786\n"
     ]
    },
    {
     "data": {
      "image/png": "[encoded data removed]",
      "text/plain": [
       "<Figure size 1296x288 with 1 Axes>"
      ]
     },
     "metadata": {
      "needs_background": "light"
     },
     "output_type": "display_data"
    }
   ],
   "source": [
    "sememe_freq, sememe_sorted = evaluationFrequncy(skbToList(skb_da_pure_limit),show_graph=True)"
   ]
  },
  {
   "cell_type": "code",
   "execution_count": 22,
   "id": "c67d39c5",
   "metadata": {},
   "outputs": [],
   "source": [
    "np.save(SKB_Benchmark_path+\"/skb_da_pure_limit\",skb_da_pure_limit)"
   ]
  },
  {
   "cell_type": "markdown",
   "id": "45a8b8a4",
   "metadata": {},
   "source": [
    "## Function Definition"
   ]
  },
  {
   "cell_type": "code",
   "execution_count": 23,
   "id": "492ab0b3",
   "metadata": {},
   "outputs": [],
   "source": [
    "def clean_str(string,use=True):\n",
    "    \"\"\"\n",
    "    Tokenization/string cleaning for all datasets except for SST.\n",
    "    Original taken from https://github.com/yoonkim/CNN_sentence/blob/master/process_data.py\n",
    "    \"\"\"\n",
    "    if not use: return string\n",
    "\n",
    "    string = re.sub(r\"[^A-Za-z0-9(),!?\\'\\`]\", \" \", string)\n",
    "    string = re.sub(r\"\\'s\", \" \\'s\", string)\n",
    "    string = re.sub(r\"\\'ve\", \" \\'ve\", string)\n",
    "    string = re.sub(r\"n\\'t\", \" n\\'t\", string)\n",
    "    string = re.sub(r\"\\'re\", \" \\'re\", string)\n",
    "    string = re.sub(r\"\\'d\", \" \\'d\", string)\n",
    "    string = re.sub(r\"\\'ll\", \" \\'ll\", string)\n",
    "    string = re.sub(r\",\", \" , \", string)\n",
    "    string = re.sub(r\"!\", \" ! \", string)\n",
    "    string = re.sub(r\"\\(\", \" \\( \", string)\n",
    "    string = re.sub(r\"\\)\", \" \\) \", string)\n",
    "    string = re.sub(r\"\\?\", \" \\? \", string)\n",
    "    string = re.sub(r\"\\s{2,}\", \" \", string)\n",
    "    return string.strip().lower()"
   ]
  },
  {
   "cell_type": "code",
   "execution_count": 24,
   "id": "5df73f4f",
   "metadata": {},
   "outputs": [],
   "source": [
    "def load_stopwords(filepath):\n",
    "    stopwords = set()\n",
    "    with open(filepath, 'r') as f:\n",
    "        for line in f:\n",
    "            swd = line.strip()\n",
    "            stopwords.add(swd)\n",
    "    print(len(stopwords))\n",
    "    return stopwords"
   ]
  },
  {
   "cell_type": "code",
   "execution_count": 25,
   "id": "270b4275",
   "metadata": {},
   "outputs": [],
   "source": [
    "def tf_idf_transform(inputs, mapping=None, sparse=False):\n",
    "    from sklearn.feature_extraction.text import CountVectorizer\n",
    "    from sklearn.feature_extraction.text import TfidfTransformer\n",
    "    from scipy.sparse import coo_matrix\n",
    "    vectorizer = CountVectorizer(vocabulary=mapping)\n",
    "    tf_idf_transformer = TfidfTransformer()\n",
    "    tf_idf = tf_idf_transformer.fit_transform(vectorizer.fit_transform(inputs))\n",
    "    weight = tf_idf.toarray()\n",
    "    return weight if not sparse else coo_matrix(weight)"
   ]
  },
  {
   "cell_type": "code",
   "execution_count": 26,
   "id": "408acc46",
   "metadata": {},
   "outputs": [],
   "source": [
    "def PMI(inputs, mapping, window_size, sparse):\n",
    "    W_ij = np.zeros([len(mapping), len(mapping)], dtype=float)\n",
    "    W_i = np.zeros([len(mapping)], dtype=float)\n",
    "    W_count = 0\n",
    "    for one in inputs:\n",
    "        word_list = one.split(' ')\n",
    "        if len(word_list) - window_size < 0:\n",
    "            window_num = 1\n",
    "        else:\n",
    "            window_num = len(word_list) - window_size + 1\n",
    "\n",
    "        for i in range(window_num):\n",
    "            W_count += 1\n",
    "            context = list(set(word_list[i:i + window_size]))\n",
    "            while '' in context:\n",
    "                context.remove('')\n",
    "            for j in range(len(context)):\n",
    "                W_i[mapping[context[j]]] += 1\n",
    "                for k in range(j + 1, len(context)):\n",
    "                    W_ij[mapping[context[j]], mapping[context[k]]] += 1\n",
    "                    W_ij[mapping[context[k]], mapping[context[j]]] += 1\n",
    "\n",
    "    if not sparse:\n",
    "        PMI_adj = np.zeros([len(mapping), len(mapping)], dtype=np.float64)\n",
    "        for i in range(len(mapping)):\n",
    "            for j in range(len(mapping)):\n",
    "                PMI_adj[i, j] = math.log(W_ij[i, j] * W_count / W_i[i] / W_i[j]) if W_ij[i, j] != 0 else 0\n",
    "                if i == j: PMI_adj[i, j] = 1\n",
    "                if PMI_adj[i, j] <= 0:\n",
    "                    PMI_adj[i, j] = 0\n",
    "    else:\n",
    "        rows = []\n",
    "        columns = []\n",
    "        data = []\n",
    "        for i in range(len(mapping)):\n",
    "            for j in range(i, len(mapping)):\n",
    "                value = math.log(W_ij[i, j] * W_count / W_i[i] / W_i[j]) if W_ij[i, j] != 0 else 0\n",
    "                if i == j: value = 1\n",
    "                if value > 0:\n",
    "                    rows.append(i)\n",
    "                    columns.append(j)\n",
    "                    data.append(value)\n",
    "                    if i != j:\n",
    "                        rows.append(j)\n",
    "                        columns.append(i)\n",
    "                        data.append(value)\n",
    "        PMI_adj = coo_matrix((data, (rows, columns)), shape=(len(mapping), len(mapping)))\n",
    "\n",
    "    return PMI_adj"
   ]
  },
  {
   "cell_type": "markdown",
   "id": "f3d69cdf",
   "metadata": {},
   "source": [
    "## Add Stopwords"
   ]
  },
  {
   "cell_type": "code",
   "execution_count": 479,
   "id": "e018cabd",
   "metadata": {},
   "outputs": [],
   "source": [
    "def addStopWord(data_dict, stop_word):\n",
    "    word_freq = defaultdict(int)\n",
    "    for item in data_dict.keys():\n",
    "        words = clean_str(item).split(' ')\n",
    "        for one in words:\n",
    "            word_freq[one.lower()] += 1\n",
    "    freq_stop = 0\n",
    "    for word, count in word_freq.items():\n",
    "        if count < 5:\n",
    "            stop_word.add(word)\n",
    "            freq_stop += 1\n",
    "    stop_word.add('')\n",
    "    print('freq_stop num',freq_stop)\n",
    "    return stop_word"
   ]
  },
  {
   "cell_type": "code",
   "execution_count": 477,
   "id": "014fec7e",
   "metadata": {},
   "outputs": [
    {
     "name": "stdout",
     "output_type": "stream",
     "text": [
      "408\n",
      "freq_stop num 9108\n"
     ]
    }
   ],
   "source": [
    "stop_word = addStopWord(all_, load_stopwords(stopword_en_path))"
   ]
  },
  {
   "cell_type": "code",
   "execution_count": 478,
   "id": "c3a6756b",
   "metadata": {},
   "outputs": [
    {
     "data": {
      "text/plain": [
       "9429"
      ]
     },
     "execution_count": 478,
     "metadata": {},
     "output_type": "execute_result"
    }
   ],
   "source": [
    "len(stop_word)"
   ]
  },
  {
   "cell_type": "markdown",
   "id": "a92308e8",
   "metadata": {},
   "source": [
    "# Building Adjacency Matrix"
   ]
  },
  {
   "cell_type": "markdown",
   "id": "bd97a52d",
   "metadata": {},
   "source": [
    "## preprocession"
   ]
  },
  {
   "cell_type": "code",
   "execution_count": 480,
   "id": "ad0109fe",
   "metadata": {},
   "outputs": [],
   "source": [
    "def buildingAdj(all_data_dict, skb):\n",
    "    adj_ent_index = []\n",
    "    st_nodes = []\n",
    "    tag_set = set()\n",
    "    entity_set = set()\n",
    "    words_set = set()\n",
    "    all_idx = []\n",
    "    labels = []\n",
    "    tag_list = []\n",
    "    word_list = []\n",
    "    ent_mapping = {}\n",
    "    \n",
    "    for i, (sort_text, label) in enumerate(tqdm(all_data_dict.items())):\n",
    "        sort_text = clean_str(sort_text)\n",
    "        if not sort_text:\n",
    "            print(sort_text)\n",
    "            continue\n",
    "        tags = [one[1].lower() for one in nltk.pos_tag(nltk.word_tokenize(sort_text))]\n",
    "        if '' in tags: print(\"ERROR: \", item)\n",
    "        tag_list.append(' '.join(tags))\n",
    "        tag_set.update(tags)\n",
    "        labels.append(label)\n",
    "        words = [one.lower() for one in sort_text.split(' ') if one not in stop_word]\n",
    "        if '' in words: print(\"ERROR: \", item)\n",
    "        ent_list = []\n",
    "        index = []\n",
    "        ''' introduction skb '''\n",
    "        for entity in skb.keys():\n",
    "            if entity in words:\n",
    "                ent_list.append(entity)\n",
    "                if entity not in ent_mapping:\n",
    "                    ent_mapping[entity] = len(ent_mapping)\n",
    "                    entity_set.update(ent_list)\n",
    "                if ent_mapping[entity] not in index: index.append(ent_mapping[entity])\n",
    "        adj_ent_index.append(index)\n",
    "        word_list.append(' '.join(words))\n",
    "        words_set.update(words)\n",
    "        if sort_text:\n",
    "            st_nodes.append(sort_text)\n",
    "        else:\n",
    "            print(\"ERROR: \", i, sort_text)\n",
    "        all_idx.append(len(all_idx))\n",
    "    print(\"#tag_set\", len(tag_set))\n",
    "        \n",
    "    multi_list = (all_idx, tag_list, word_list, labels)\n",
    "    multi_set = (tag_set, entity_set, words_set)\n",
    "    \n",
    "    return st_nodes, ent_mapping, adj_ent_index, multi_list, multi_set"
   ]
  },
  {
   "cell_type": "code",
   "execution_count": null,
   "id": "b58a8982",
   "metadata": {},
   "outputs": [],
   "source": [
    "skb_da_upper_max,skb_da_upper_max_sdv"
   ]
  },
  {
   "cell_type": "code",
   "execution_count": 481,
   "id": "7ef25c27",
   "metadata": {},
   "outputs": [
    {
     "name": "stderr",
     "output_type": "stream",
     "text": [
      "100%|███████████████████████████████████████| 7398/7398 [10:40<00:00, 11.54it/s]"
     ]
    },
    {
     "name": "stdout",
     "output_type": "stream",
     "text": [
      "#tag_set 38\n"
     ]
    },
    {
     "name": "stderr",
     "output_type": "stream",
     "text": [
      "\n"
     ]
    }
   ],
   "source": [
    "st_nodes, ent_mapping, adj_ent_index, multi_list, multi_set = buildingAdj(all_, skb_da_upper_max)"
   ]
  },
  {
   "cell_type": "code",
   "execution_count": 482,
   "id": "f473c406",
   "metadata": {},
   "outputs": [],
   "source": [
    "word_nodes = list(multi_set[2])\n",
    "tag_nodes = list(multi_set[0])\n",
    "entity_nodes = list(multi_set[1])"
   ]
  },
  {
   "cell_type": "code",
   "execution_count": 483,
   "id": "148d88a9",
   "metadata": {},
   "outputs": [],
   "source": [
    "nodes_all = st_nodes + tag_nodes + entity_nodes + word_nodes\n",
    "nodes_num = len(st_nodes) + len(tag_nodes) + len(entity_nodes) + len(word_nodes)"
   ]
  },
  {
   "cell_type": "code",
   "execution_count": 484,
   "id": "c81191e7",
   "metadata": {},
   "outputs": [
    {
     "name": "stdout",
     "output_type": "stream",
     "text": [
      "st 7398\n",
      "tag 38\n",
      "ent 2050\n",
      "word 2526\n"
     ]
    }
   ],
   "source": [
    "print('st', len(st_nodes))\n",
    "print('tag', len(tag_nodes))\n",
    "print('ent', len(entity_nodes))\n",
    "print('word', len(word_nodes))"
   ]
  },
  {
   "cell_type": "code",
   "execution_count": 485,
   "id": "f2c31d5a",
   "metadata": {},
   "outputs": [],
   "source": [
    "building_adj_data = (st_nodes, ent_mapping, adj_ent_index, multi_list, multi_set)\n",
    "np.save(STC_Benchmark_path+\"/building_adj_data\",building_adj_data)"
   ]
  },
  {
   "cell_type": "markdown",
   "id": "69627711",
   "metadata": {},
   "source": [
    "## ST to POS TF-IDF "
   ]
  },
  {
   "cell_type": "code",
   "execution_count": 486,
   "id": "43c17fea",
   "metadata": {},
   "outputs": [],
   "source": [
    "tags_mapping = {key: value for value, key in enumerate(tag_nodes)}"
   ]
  },
  {
   "cell_type": "code",
   "execution_count": 487,
   "id": "11cec71e",
   "metadata": {},
   "outputs": [],
   "source": [
    "adj_st2tag = tf_idf_transform(multi_list[1], tags_mapping)"
   ]
  },
  {
   "cell_type": "code",
   "execution_count": 488,
   "id": "d4dc1c60",
   "metadata": {},
   "outputs": [
    {
     "name": "stdout",
     "output_type": "stream",
     "text": [
      "adj_st2tag 0.05509576840197963\n"
     ]
    }
   ],
   "source": [
    "print('adj_st2tag', np.mean(np.mean(adj_st2tag, -1)))"
   ]
  },
  {
   "cell_type": "code",
   "execution_count": 489,
   "id": "3da02d82",
   "metadata": {},
   "outputs": [],
   "source": [
    "pkl.dump(adj_st2tag, open('{}/{}_over/adj_st2tag.pkl'.format(STC_Benchmark_path,dataset_name), 'wb'))"
   ]
  },
  {
   "cell_type": "markdown",
   "id": "d7e5642a",
   "metadata": {},
   "source": [
    "## POS to POS PMI"
   ]
  },
  {
   "cell_type": "code",
   "execution_count": 490,
   "id": "627c0db8",
   "metadata": {},
   "outputs": [],
   "source": [
    "adj_tag = PMI(multi_list[1], tags_mapping, window_size=5, sparse=False)"
   ]
  },
  {
   "cell_type": "code",
   "execution_count": 491,
   "id": "ee7c705e",
   "metadata": {},
   "outputs": [
    {
     "name": "stdout",
     "output_type": "stream",
     "text": [
      "adj_tag 0.3573684932758537\n"
     ]
    }
   ],
   "source": [
    "print('adj_tag', np.mean(np.mean(adj_tag, -1)))"
   ]
  },
  {
   "cell_type": "code",
   "execution_count": 492,
   "id": "90954d43",
   "metadata": {},
   "outputs": [],
   "source": [
    "pkl.dump(adj_tag, open('{}/{}_over/adj_tag.pkl'.format(STC_Benchmark_path,dataset_name), 'wb'))"
   ]
  },
  {
   "cell_type": "markdown",
   "id": "889d1bf8",
   "metadata": {},
   "source": [
    "## ST to Word TFIDF"
   ]
  },
  {
   "cell_type": "code",
   "execution_count": 493,
   "id": "64fe39e7",
   "metadata": {},
   "outputs": [],
   "source": [
    "words_mapping = {key: value for value, key in enumerate(word_nodes)}"
   ]
  },
  {
   "cell_type": "code",
   "execution_count": 494,
   "id": "555aa845",
   "metadata": {},
   "outputs": [],
   "source": [
    "adj_st2word = tf_idf_transform(multi_list[2], words_mapping, sparse=True)"
   ]
  },
  {
   "cell_type": "code",
   "execution_count": 495,
   "id": "53f50efd",
   "metadata": {},
   "outputs": [
    {
     "data": {
      "text/plain": [
       "array([0.44097356, 0.33664559, 0.26530549, 0.41362932, 0.42303795,\n",
       "       0.29705743, 0.42840591])"
      ]
     },
     "execution_count": 495,
     "metadata": {},
     "output_type": "execute_result"
    }
   ],
   "source": [
    "adj_st2word.toarray()[0][adj_st2word.toarray()[0] != 0]"
   ]
  },
  {
   "cell_type": "code",
   "execution_count": 496,
   "id": "3af75980",
   "metadata": {},
   "outputs": [
    {
     "name": "stdout",
     "output_type": "stream",
     "text": [
      "adj_st2word 0.0009715966886993158\n"
     ]
    }
   ],
   "source": [
    "print('adj_st2word', np.mean(np.mean(adj_st2word, -1)))"
   ]
  },
  {
   "cell_type": "code",
   "execution_count": 497,
   "id": "c65d3e44",
   "metadata": {},
   "outputs": [],
   "source": [
    "pkl.dump(adj_st2word, open('{}/{}_over/adj_st2word.pkl'.format(STC_Benchmark_path,dataset_name), 'wb'))"
   ]
  },
  {
   "cell_type": "markdown",
   "id": "fe598c8f",
   "metadata": {},
   "source": [
    "## Word to Word PMI"
   ]
  },
  {
   "cell_type": "code",
   "execution_count": 498,
   "id": "36b6b62e",
   "metadata": {},
   "outputs": [],
   "source": [
    "adj_word = PMI(multi_list[2], words_mapping, window_size=5, sparse=True)"
   ]
  },
  {
   "cell_type": "code",
   "execution_count": 499,
   "id": "2974f296",
   "metadata": {},
   "outputs": [
    {
     "name": "stdout",
     "output_type": "stream",
     "text": [
      "adj_word 0.06531584714610006\n"
     ]
    }
   ],
   "source": [
    "print('adj_word', np.mean(np.mean(adj_word, -1)))"
   ]
  },
  {
   "cell_type": "code",
   "execution_count": 500,
   "id": "7eaaa6a0",
   "metadata": {},
   "outputs": [],
   "source": [
    "pkl.dump(adj_word, open('{}/{}_over/adj_word.pkl'.format(STC_Benchmark_path,dataset_name), 'wb'))"
   ]
  },
  {
   "cell_type": "markdown",
   "id": "5717e191",
   "metadata": {},
   "source": [
    "## ST to Sememe TFIDF * SoftMax(LocalAttention)"
   ]
  },
  {
   "cell_type": "code",
   "execution_count": 501,
   "id": "0ccdc9dd",
   "metadata": {},
   "outputs": [],
   "source": [
    "ent_index_mapping = {index:word for word, index in ent_mapping.items()}"
   ]
  },
  {
   "cell_type": "code",
   "execution_count": 502,
   "id": "1223fda0",
   "metadata": {},
   "outputs": [],
   "source": [
    "ent_list = [\" \".join([ent_index_mapping[word_index] for word_index in sentence]) for sentence in adj_ent_index]"
   ]
  },
  {
   "cell_type": "code",
   "execution_count": 503,
   "id": "90e83c2d",
   "metadata": {},
   "outputs": [],
   "source": [
    "adj_st2ent = tf_idf_transform(ent_list, ent_mapping, sparse=True)"
   ]
  },
  {
   "cell_type": "code",
   "execution_count": 504,
   "id": "f1977a9b",
   "metadata": {},
   "outputs": [
    {
     "data": {
      "text/plain": [
       "(7398, 2050)"
      ]
     },
     "execution_count": 504,
     "metadata": {},
     "output_type": "execute_result"
    }
   ],
   "source": [
    "adj_st2ent.shape"
   ]
  },
  {
   "cell_type": "code",
   "execution_count": 505,
   "id": "9cb01112",
   "metadata": {},
   "outputs": [
    {
     "name": "stdout",
     "output_type": "stream",
     "text": [
      "adj_st2ent 0.0011117874671318433\n"
     ]
    }
   ],
   "source": [
    "print('adj_st2ent', np.mean(np.mean(adj_st2ent, -1)))"
   ]
  },
  {
   "cell_type": "markdown",
   "id": "2c67aed5",
   "metadata": {},
   "source": [
    "### chose the best sense of each word"
   ]
  },
  {
   "cell_type": "code",
   "execution_count": 506,
   "id": "5dafa436",
   "metadata": {},
   "outputs": [],
   "source": [
    "def CosineSimilarity(x1, x2):\n",
    "    x2 = x2.t()\n",
    "    x = x1.mm(x2)\n",
    "    x1_frobenius = x1.norm(dim=1).unsqueeze(0).t()\n",
    "    x2_frobenins = x2.norm(dim=0).unsqueeze(0)\n",
    "    x_frobenins = x1_frobenius.mm(x2_frobenins)\n",
    "    final = x.mul(1/x_frobenins)\n",
    "    return final\n",
    "def localAttention(sentence_str, word_str, sememe_list, embedding_dict):\n",
    "    '''\n",
    "        input: sentence_str, word_str, embedding_dict\n",
    "        oytput: word embedding\n",
    "    '''\n",
    "    #print(sentence_str, word_str)\n",
    "    context_embedding_list = []\n",
    "    sentence_list = sentence_str.split()\n",
    "    if sentence_str != word_str:\n",
    "        sentence_list.remove(word_str)\n",
    "    for word in sentence_list:\n",
    "        if word in embedding_dict.keys():\n",
    "            context_embedding_list.append(embedding_dict[word])\n",
    "        else:\n",
    "            context_embedding_list.append([0.0]*300)\n",
    "\n",
    "    context_embedding_list = torch.Tensor(context_embedding_list).to(device)\n",
    "    word_embedding = torch.from_numpy(embedding_dict[word_str]).float().unsqueeze(0).to(device)\n",
    "    #print(context_embedding_list.size(),word_embedding.size())\n",
    "    cos_value_w = CosineSimilarity(context_embedding_list, word_embedding).to(device)\n",
    "    softmax_nn = nn.Softmax(dim=0)\n",
    "    softmax_weight_w = softmax_nn(cos_value_w) * 4\n",
    "    '''\n",
    "        get local word embedding\n",
    "    '''\n",
    "    local_word_embedding = softmax_weight_w.t().mm(context_embedding_list)\n",
    "    \n",
    "    \n",
    "    sememes_embedding_list = []\n",
    "    for sememe in sememe_list:\n",
    "        if sememe in embedding_dict.keys():\n",
    "            sememes_embedding_list.append(embedding_dict[sememe])\n",
    "        else:\n",
    "            sememes_embedding_list.append([0.0]*300)\n",
    "            \n",
    "    sememes_embedding_list = torch.Tensor(sememes_embedding_list).to(device)\n",
    "    cos_value_s = CosineSimilarity(sememes_embedding_list, local_word_embedding).to(device)\n",
    "    softmax_weight_s = softmax_nn(cos_value_s)  * 4\n",
    "    local_sememe_embedding = softmax_weight_s.t().mm(sememes_embedding_list)\n",
    "    cos_value = CosineSimilarity(local_sememe_embedding,local_word_embedding)\n",
    "    \n",
    "    '''\n",
    "        for 2ed weight\n",
    "    '''\n",
    "    \n",
    "    cos_value_2w = CosineSimilarity(sememes_embedding_list, word_embedding).to(device)\n",
    "    softmax_weight_2w = softmax_nn(cos_value_2w)\n",
    "    \n",
    "    multiply_weight = softmax_weight_2w*cos_value * 4\n",
    "    \n",
    "    return cos_value.to('cpu').squeeze(1).numpy().tolist(),\\\n",
    "            softmax_weight_2w.to('cpu').squeeze(1).numpy().tolist(),\\\n",
    "            multiply_weight.to('cpu').squeeze(1).numpy().tolist()"
   ]
  },
  {
   "cell_type": "markdown",
   "id": "faf757f3",
   "metadata": {},
   "source": [
    "### On cuda"
   ]
  },
  {
   "cell_type": "code",
   "execution_count": 507,
   "id": "032904b8",
   "metadata": {},
   "outputs": [],
   "source": [
    "def replaceWord2Sememe(embedding_dict, skb_dict, docs_tuple,threshold,skb_cdv_map,ferquncy_max=0,overwrite=False):\n",
    "    '''\n",
    "        input: \n",
    "        process: if the word of sentence in skb && else if the freqency of word less then threshold:\n",
    "                    replace the word to sememe:\n",
    "                        if the sense of word only once:\n",
    "                            straightforward replace else more thinking... of (sense dismatching- now leave aside)\n",
    "                        else:\n",
    "                            search the sentence embedding of docs by look-up embedding dictionary\n",
    "                            for building the word embedding with weighted sum of sentence:\n",
    "                                senses cosin = list\n",
    "                                for index, sense the enumerate(senses):\n",
    "                                    word cosin = list\n",
    "                                    for sememe in sense:\n",
    "                                        compare both that the embedding of the word and the sememe of the sense\n",
    "                                        append the cosin value to word cosin list\n",
    "                                    keep minimum of senses cosin to append the senses cosin list\n",
    "                                get the index of minimum value for sense senses list\n",
    "                                get the word via index with this word senses of SKB-DA\n",
    "                            replace  \n",
    "        return: docs list replaced with sememe\n",
    "    '''\n",
    "    sememe_docs_list = []\n",
    "    second_weight_list = []\n",
    "    '''\n",
    "        threshold = np.mean(list(docs_tuple[0].values())) + np.std(list(word_freq.values())) /\\\n",
    "                np.mean(list(word_freq.values()))\n",
    "    '''\n",
    "    \n",
    "    threshold = threshold\n",
    "    ferquncy_max_word_list = [word for (word,_) in raw_word_freq_sorted[-round(ferquncy_max*len(docs_tuple[2])):]]\n",
    "    for sentence in tqdm(docs_tuple[2]):\n",
    "        sentence_replace = []\n",
    "        weight_replace = []\n",
    "        for word in sentence.split():\n",
    "            #print(\"####\",word)\n",
    "            if word in skb_dict.keys() and (docs_tuple[0][word] < threshold or word in ferquncy_max_word_list):\n",
    "                if len(skb_dict[word]) == 1:\n",
    "                    if overwrite:\n",
    "                        sentence_replace.append([\"<S\"+str(skb_cdv_map[sememe])+\">\" \\\n",
    "                                        for sememe in list(skb_dict[word][0][1])])\n",
    "                    else:\n",
    "                        if word in embedding_dict.keys():\n",
    "                            st2sem_relation, word2sem_relation, multiply_weight = localAttention(sentence, word,\\\n",
    "                                                                                list(skb_dict[word][0][1]),\\\n",
    "                                                                                embedding_dict)\n",
    "                            '''for sample weight'''\n",
    "                            #weight_replace.append(word2sem_cos_list)\n",
    "                            weight_replace.append(multiply_weight)\n",
    "                        else:\n",
    "                            weight_replace.append([1.0/len(skb_dict[word][0][1])]*len(skb_dict[word][0][1]))\n",
    "                            \n",
    "                            \n",
    "                        sentence_replace.append(skb_dict[word][0][1])\n",
    "                \n",
    "                else:\n",
    "                    if word not in embedding_dict.keys():\n",
    "                        if overwrite:\n",
    "                            sentence_replace.append([\"<S\"+str(skb_cdv_map[sememe])+\">\" \\\n",
    "                                              for sememe in list(skb_dict[word][0][1])])\n",
    "                        else:\n",
    "                            sememe_disambiguation = []\n",
    "                            for (pos, sememe_set) in skb_dict[word]:\n",
    "                                if pos == 'disambiguation' or pos == 'n' or pos == 'NN':\n",
    "                                    sememe_disambiguation.append(sememe_set)\n",
    "                            if len(sememe_disambiguation) == 0:\n",
    "                                if dataset_name == 'Ohsumed':\n",
    "                                    for (pos, sememe_set) in skb_dict[word]:\n",
    "                                        if pos == 'chemotherapy':\n",
    "                                            sememe_disambiguation.append(sememe_set)\n",
    "                                print(\"No disambiguation\")\n",
    "                                print(\"ERROR: \", word, pos, sememe_set)\n",
    "                                \n",
    "                            weight_replace.append([1.0/len(sememe_disambiguation[0])]*\\\n",
    "                                                      len(sememe_disambiguation[0]))\n",
    "                            sentence_replace.append(sememe_disambiguation[0])\n",
    "                            \n",
    "                    else:\n",
    "                        senses_cos_list = []\n",
    "                        word2sem_cos_list = []\n",
    "                        multiply_cos_list = []\n",
    "                        for (pos, sememe_set) in skb_dict[word]:\n",
    "                            st2sem_relation, word2sem_relation, multiply_weight = localAttention(sentence, word,\\\n",
    "                                                                                  list(sememe_set),\\\n",
    "                                                                                  embedding_dict)\n",
    "                            senses_cos_list.append(st2sem_relation)\n",
    "                            word2sem_cos_list.append(word2sem_relation)\n",
    "                            multiply_cos_list.append(multiply_weight)\n",
    "                        if len(senses_cos_list) == 0:\n",
    "                            print(\"ERROR: len(senses_cos_list) == 0\")\n",
    "                            print(\"ERROR: \", word, pos, sememe_set)\n",
    "                            #sentence_replace.append(word)\n",
    "                            continue\n",
    "                        senses_cos_list_max_index = senses_cos_list.index(max(senses_cos_list))\n",
    "                        if overwrite:\n",
    "                            sentence_replace.apppend([\"<S\"+str(skb_cdv_map[sememe])+\">\" \\\n",
    "                                              for sememe in list(skb_dict[word][senses_cos_list_max_index][1])])\n",
    "                        else:\n",
    "                            sentence_replace.append(skb_dict[word][senses_cos_list_max_index][1])\n",
    "                            '''for sample weight'''\n",
    "                            #weight_replace.append(word2sem_cos_list[senses_cos_list_max_index])\n",
    "                            weight_replace.append(multiply_cos_list[senses_cos_list_max_index])\n",
    "                            \n",
    "            else:\n",
    "                continue\n",
    "        sememe_docs_list.append(sentence_replace)\n",
    "        second_weight_list.append(weight_replace)\n",
    "    return sememe_docs_list,second_weight_list"
   ]
  },
  {
   "cell_type": "markdown",
   "id": "040acc12",
   "metadata": {},
   "source": [
    "### Load skb_da_pure"
   ]
  },
  {
   "cell_type": "code",
   "execution_count": null,
   "id": "70c46e9c",
   "metadata": {},
   "outputs": [],
   "source": [
    "skb_da_upper_max,skb_da_upper_max_sdv skb_da_upper_max_cdv"
   ]
  },
  {
   "cell_type": "code",
   "execution_count": 508,
   "id": "07d81395",
   "metadata": {},
   "outputs": [],
   "source": [
    "skb_da_pure = np.load(SKB_Benchmark_path+\"/skb_da_upper_max_4.npy\", allow_pickle=True).tolist()"
   ]
  },
  {
   "cell_type": "code",
   "execution_count": 509,
   "id": "14b66fa3",
   "metadata": {},
   "outputs": [],
   "source": [
    "skb_da_pure_cdv_set = np.load(SKB_Benchmark_path+\"/skb_da_upper_max_cdv.npy\", allow_pickle=True).tolist()\n",
    "skb_da_cdv_map = {word:index for index, word in enumerate(skb_da_upper_max_sdv)}"
   ]
  },
  {
   "cell_type": "markdown",
   "id": "64d3f7f4",
   "metadata": {},
   "source": [
    "### Build data tuple"
   ]
  },
  {
   "cell_type": "code",
   "execution_count": 510,
   "id": "c59d6a96",
   "metadata": {},
   "outputs": [
    {
     "name": "stdout",
     "output_type": "stream",
     "text": [
      "=======analysis start=======\n",
      "#all word size:  2050\n",
      "#frequncy < 0:  0\n",
      "#frequncy mean:  20.653658536585365\n",
      "#frequncy standard deviation:  32.227984336908015\n",
      "#frequncy std/mean:  1.5604007532040962\n"
     ]
    }
   ],
   "source": [
    "raw_word_freq, raw_word_freq_sorted = evaluationFrequncy(ent_list)\n",
    "doc_content_tuple = (raw_word_freq,raw_word_freq_sorted,ent_list)"
   ]
  },
  {
   "cell_type": "markdown",
   "id": "ee4e1fb9",
   "metadata": {},
   "source": [
    "### conpute the local attention for sememe weight"
   ]
  },
  {
   "cell_type": "code",
   "execution_count": 511,
   "id": "c93307a7",
   "metadata": {},
   "outputs": [
    {
     "name": "stderr",
     "output_type": "stream",
     "text": [
      "100%|███████████████████████████████████████| 7398/7398 [03:46<00:00, 32.61it/s]\n"
     ]
    }
   ],
   "source": [
    "sememe_docs_list,second_weight_list = replaceWord2Sememe(glove_840B_300d_common_crawl,\\\n",
    "                                                         skb_da_pure,\\\n",
    "                                                         doc_content_tuple,\\\n",
    "                                                         999999,\\\n",
    "                                                         skb_da_cdv_map)"
   ]
  },
  {
   "cell_type": "markdown",
   "id": "9714f03a",
   "metadata": {},
   "source": [
    "### check the local attention is work"
   ]
  },
  {
   "cell_type": "code",
   "execution_count": 512,
   "id": "b6b54ab9",
   "metadata": {},
   "outputs": [],
   "source": [
    "def checkThelocalATT():\n",
    "    if len(sememe_docs_list) != len(ent_list):\n",
    "        print(\"ERROR:\")\n",
    "    for i in range(0,len(ent_list)):\n",
    "        if len(sememe_docs_list[i]) != len(ent_list[i]):\n",
    "            print(\"ERROR:\",ent_list)"
   ]
  },
  {
   "cell_type": "code",
   "execution_count": 513,
   "id": "284dfb03",
   "metadata": {},
   "outputs": [
    {
     "name": "stderr",
     "output_type": "stream",
     "text": [
      "IOPub data rate exceeded.\n",
      "The notebook server will temporarily stop sending output\n",
      "to the client in order to avoid crashing it.\n",
      "To change this limit, set the config variable\n",
      "`--NotebookApp.iopub_data_rate_limit`.\n",
      "\n",
      "Current values:\n",
      "NotebookApp.iopub_data_rate_limit=1000000.0 (bytes/sec)\n",
      "NotebookApp.rate_limit_window=3.0 (secs)\n",
      "\n"
     ]
    }
   ],
   "source": [
    "checkThelocalATT()"
   ]
  },
  {
   "cell_type": "markdown",
   "id": "10f68fbf",
   "metadata": {},
   "source": [
    "### TFIDF * localATT weight"
   ]
  },
  {
   "cell_type": "code",
   "execution_count": 514,
   "id": "03f6025e",
   "metadata": {},
   "outputs": [],
   "source": [
    "def st2SemAdj(adj_st2ent,second_weight_list,sememe_docs_list,skb_da_cdv_map):\n",
    "    \n",
    "    st2sem_adj = np.zeros([len(sememe_docs_list), len(skb_da_cdv_map)], dtype=float)\n",
    "    \n",
    "    adj_st2ent_array = adj_st2ent.toarray()\n",
    "    '''second_weight_list 10171 * #entity'''\n",
    "    for i, ent_weight in enumerate(second_weight_list):\n",
    "        local_adj_st2ent_array = adj_st2ent_array[i][adj_st2ent_array[i] != 0]\n",
    "        '''ent_weight  #entity , j is entity index'''\n",
    "        for j, sememe_weight in enumerate(ent_weight):\n",
    "            if len(local_adj_st2ent_array) == len(ent_weight):\n",
    "                '''adj_st2ent_array.shape (10171, 3801)'''\n",
    "                final_weight = local_adj_st2ent_array[j] * np.array(sememe_weight)\n",
    "            else:\n",
    "                print(\"ERROR!\",i,j)\n",
    "                \n",
    "            if len(sememe_docs_list[i][j]) == len(final_weight):\n",
    "                for z, final_weight_value in enumerate(final_weight):\n",
    "                    sem_index = skb_da_cdv_map[list(sememe_docs_list[i][j])[z]]\n",
    "                    st2sem_adj[i,sem_index] = final_weight_value\n",
    "                    #print(i,\"---\",sem_index,\"---\",final_weight_value)\n",
    "            else:\n",
    "                print(\"ERROR: \",sememe_docs_list[i][j], sememe_weight)\n",
    "            \n",
    "    return st2sem_adj\n",
    "            "
   ]
  },
  {
   "cell_type": "code",
   "execution_count": 515,
   "id": "782e04a3",
   "metadata": {},
   "outputs": [],
   "source": [
    "st2sem_adj = st2SemAdj(adj_st2ent,second_weight_list,sememe_docs_list,skb_da_cdv_map)"
   ]
  },
  {
   "cell_type": "code",
   "execution_count": 516,
   "id": "8726f7e7",
   "metadata": {},
   "outputs": [
    {
     "data": {
      "text/plain": [
       "(7398, 5000)"
      ]
     },
     "execution_count": 516,
     "metadata": {},
     "output_type": "execute_result"
    }
   ],
   "source": [
    "st2sem_adj.shape"
   ]
  },
  {
   "cell_type": "code",
   "execution_count": 517,
   "id": "2bd841fe",
   "metadata": {},
   "outputs": [
    {
     "data": {
      "text/plain": [
       "array([0.23568627, 0.2326924 , 0.22158811, 0.22865896, 0.3051734 ,\n",
       "       0.35423923, 0.21870649, 0.87530281, 0.34915092, 0.22401247,\n",
       "       0.21689903])"
      ]
     },
     "execution_count": 517,
     "metadata": {},
     "output_type": "execute_result"
    }
   ],
   "source": [
    "st2sem_adj[1][st2sem_adj[1] != 0]"
   ]
  },
  {
   "cell_type": "code",
   "execution_count": 518,
   "id": "5ac50c16",
   "metadata": {},
   "outputs": [],
   "source": [
    "st2sem_adj = np.nan_to_num(st2sem_adj)"
   ]
  },
  {
   "cell_type": "code",
   "execution_count": 519,
   "id": "f27a4f0d",
   "metadata": {},
   "outputs": [
    {
     "name": "stdout",
     "output_type": "stream",
     "text": [
      "st2sem_adj 0.0009280749645341214\n"
     ]
    }
   ],
   "source": [
    "print('st2sem_adj', np.mean(np.mean(st2sem_adj, -1)))"
   ]
  },
  {
   "cell_type": "code",
   "execution_count": 520,
   "id": "01118a53",
   "metadata": {},
   "outputs": [],
   "source": [
    "pkl.dump(st2sem_adj, open('{}/{}_over/adj_st2sem.pkl'.format(STC_Benchmark_path,dataset_name), 'wb'))"
   ]
  },
  {
   "cell_type": "markdown",
   "id": "40135b41",
   "metadata": {},
   "source": [
    "## Sememe to Sememe cosin"
   ]
  },
  {
   "cell_type": "code",
   "execution_count": 521,
   "id": "fa831a37",
   "metadata": {},
   "outputs": [],
   "source": [
    "def getSkbEmbedding(skb_da_cdv_map,word_embedding_dict):\n",
    "    skb_embedding_list = []\n",
    "    oov_count = 0\n",
    "    for key, value in skb_da_cdv_map.items():\n",
    "        if key in word_embedding_dict.keys():\n",
    "            skb_embedding_list.append(word_embedding_dict[key])\n",
    "        else:\n",
    "            oov_count += 1\n",
    "            skb_embedding_list.append([0.0]*300)\n",
    "    print(\"oov words: \", oov_count)\n",
    "    return skb_embedding_list"
   ]
  },
  {
   "cell_type": "code",
   "execution_count": 522,
   "id": "6b72573d",
   "metadata": {},
   "outputs": [
    {
     "name": "stdout",
     "output_type": "stream",
     "text": [
      "oov words:  5\n"
     ]
    }
   ],
   "source": [
    "skb_embedding_list = getSkbEmbedding(skb_da_cdv_map,glove_840B_300d_common_crawl)"
   ]
  },
  {
   "cell_type": "code",
   "execution_count": 523,
   "id": "e8308c95",
   "metadata": {},
   "outputs": [],
   "source": [
    "skb_embedding = np.array(skb_embedding_list)"
   ]
  },
  {
   "cell_type": "code",
   "execution_count": 524,
   "id": "845ae385",
   "metadata": {},
   "outputs": [
    {
     "name": "stdout",
     "output_type": "stream",
     "text": [
      "ent shape (5000, 300)\n"
     ]
    }
   ],
   "source": [
    "print('ent shape', skb_embedding.shape)"
   ]
  },
  {
   "cell_type": "code",
   "execution_count": 525,
   "id": "73891fee",
   "metadata": {},
   "outputs": [
    {
     "name": "stderr",
     "output_type": "stream",
     "text": [
      "/tmp/ipykernel_3509/1806021588.py:1: RuntimeWarning: invalid value encountered in true_divide\n",
      "  ent_emb_normed = np.nan_to_num(skb_embedding / np.sqrt(np.square(skb_embedding).sum(-1, keepdims=True)))\n"
     ]
    }
   ],
   "source": [
    "ent_emb_normed = np.nan_to_num(skb_embedding / np.sqrt(np.square(skb_embedding).sum(-1, keepdims=True)))\n",
    "adj_emb = np.matmul(ent_emb_normed, ent_emb_normed.transpose())\n",
    "adj_emb = adj_emb * np.float32(adj_emb > 0)"
   ]
  },
  {
   "cell_type": "code",
   "execution_count": 526,
   "id": "c7e7fe5f",
   "metadata": {},
   "outputs": [
    {
     "name": "stdout",
     "output_type": "stream",
     "text": [
      "entity_emb_cos 0.11822260281590367\n"
     ]
    }
   ],
   "source": [
    "print('entity_emb_cos', np.mean(np.mean(adj_emb, -1)))"
   ]
  },
  {
   "cell_type": "code",
   "execution_count": 527,
   "id": "822913dc",
   "metadata": {},
   "outputs": [],
   "source": [
    "pkl.dump(adj_emb, open('{}/{}_over/adj_sem.pkl'.format(STC_Benchmark_path,dataset_name), 'wb'))"
   ]
  },
  {
   "cell_type": "markdown",
   "id": "e1226ea1",
   "metadata": {},
   "source": [
    "## Save data of train + text"
   ]
  },
  {
   "cell_type": "code",
   "execution_count": 528,
   "id": "34eecac0",
   "metadata": {},
   "outputs": [],
   "source": [
    "json.dump(multi_list[0], open('{}/{}_over/all_idx.json'.\\\n",
    "                              format(STC_Benchmark_path,dataset_name), 'w'), ensure_ascii=False)"
   ]
  },
  {
   "cell_type": "markdown",
   "id": "135b9b7c",
   "metadata": {},
   "source": [
    "## Save Label Map"
   ]
  },
  {
   "cell_type": "code",
   "execution_count": null,
   "id": "c548a02b",
   "metadata": {},
   "outputs": [],
   "source": []
  },
  {
   "cell_type": "code",
   "execution_count": 555,
   "id": "c02d24ef",
   "metadata": {},
   "outputs": [],
   "source": [
    "if dataset_name == 'Ohsumed':\n",
    "    label_set = set()\n",
    "    Ohsumed_label_list = []\n",
    "    labels_list = multi_list[3]\n",
    "    for items in labels_list:\n",
    "        label_set.add(items[0])\n",
    "        Ohsumed_label_list.append(items[0])\n",
    "    label_map = {value: i for i, value in enumerate(set(label_set))}\n",
    "    json.dump([label_map[label] for label in Ohsumed_label_list],\\\n",
    "          open('{}/{}_over/labels.json'.format(STC_Benchmark_path,dataset_name), 'w'),ensure_ascii=False)\n",
    "else:\n",
    "    label_map = {value: i for i, value in enumerate(set(multi_list[3]))}\n",
    "    json.dump([label_map[label] for label in multi_list[3]],\\\n",
    "          open('{}/{}_over/labels.json'.format(STC_Benchmark_path,dataset_name), 'w'),ensure_ascii=False)\n"
   ]
  },
  {
   "cell_type": "markdown",
   "id": "2a2964b2",
   "metadata": {},
   "source": [
    "##  Save Nodes"
   ]
  },
  {
   "cell_type": "code",
   "execution_count": 533,
   "id": "2b411c23",
   "metadata": {},
   "outputs": [],
   "source": [
    "json.dump(st_nodes, open('{}/{}_over/st_id2_list.json'.\\\n",
    "                         format(STC_Benchmark_path,dataset_name), 'w'),ensure_ascii=False)"
   ]
  },
  {
   "cell_type": "code",
   "execution_count": 534,
   "id": "fe25216f",
   "metadata": {},
   "outputs": [],
   "source": [
    "json.dump(tag_nodes, open('{}/{}_over/tag_id2_list.json'.\\\n",
    "                          format(STC_Benchmark_path,dataset_name), 'w'), ensure_ascii=False)"
   ]
  },
  {
   "cell_type": "code",
   "execution_count": 535,
   "id": "0fac0d90",
   "metadata": {},
   "outputs": [],
   "source": [
    "json.dump(word_nodes, open('{}/{}_over/word_id2_list.json'.\\\n",
    "                           format(STC_Benchmark_path,dataset_name), 'w'), ensure_ascii=False)"
   ]
  },
  {
   "cell_type": "code",
   "execution_count": 536,
   "id": "d03a1463",
   "metadata": {},
   "outputs": [],
   "source": [
    "#json.dump(entity_nodes, open('./{}_data/entity_id2_list.json'.format(dataset_name), 'w'),ensure_ascii=False)"
   ]
  },
  {
   "cell_type": "markdown",
   "id": "bfb4290d",
   "metadata": {},
   "source": [
    "## Save Embeddings for Word nodes"
   ]
  },
  {
   "cell_type": "code",
   "execution_count": 537,
   "id": "1a924819",
   "metadata": {},
   "outputs": [],
   "source": [
    "def getWordNodesEmbedding(word_nodes,embedding_dict):\n",
    "    embs = []\n",
    "    err_count = 0\n",
    "    for word in word_nodes:\n",
    "        if word in embedding_dict.keys():\n",
    "            embs.append(embedding_dict[word])\n",
    "        else:\n",
    "            err_count += 1\n",
    "            embs.append(np.zeros(300, dtype=np.float64))\n",
    "    print('err in word count', err_count)\n",
    "    return embs"
   ]
  },
  {
   "cell_type": "code",
   "execution_count": 538,
   "id": "3fe61a67",
   "metadata": {},
   "outputs": [
    {
     "name": "stdout",
     "output_type": "stream",
     "text": [
      "err in word count 8\n"
     ]
    }
   ],
   "source": [
    "word_nodes_embedding = getWordNodesEmbedding(word_nodes, glove_840B_300d_common_crawl)"
   ]
  },
  {
   "cell_type": "code",
   "execution_count": 539,
   "id": "945d6b7f",
   "metadata": {},
   "outputs": [
    {
     "name": "stdout",
     "output_type": "stream",
     "text": [
      "word_nodes_embedding 0.003765356770948485\n"
     ]
    }
   ],
   "source": [
    "print('word_nodes_embedding', np.mean(np.mean(word_nodes_embedding, -1)))"
   ]
  },
  {
   "cell_type": "code",
   "execution_count": 540,
   "id": "d17ce70f",
   "metadata": {},
   "outputs": [],
   "source": [
    "pkl.dump(np.array(word_nodes_embedding, dtype=np.float64),\\\n",
    "         open('{}/{}_over/word_emb.pkl'.format(STC_Benchmark_path,dataset_name), 'wb'))"
   ]
  },
  {
   "cell_type": "code",
   "execution_count": null,
   "id": "9e84018f",
   "metadata": {},
   "outputs": [],
   "source": []
  }
 ],
 "metadata": {
  "kernelspec": {
   "display_name": "Python 3 (ipykernel)",
   "language": "python",
   "name": "python3"
  },
  "language_info": {
   "codemirror_mode": {
    "name": "ipython",
    "version": 3
   },
   "file_extension": ".py",
   "mimetype": "text/x-python",
   "name": "python",
   "nbconvert_exporter": "python",
   "pygments_lexer": "ipython3",
   "version": "3.8.5"
  },
  "toc": {
   "base_numbering": 1,
   "nav_menu": {},
   "number_sections": true,
   "sideBar": true,
   "skip_h1_title": false,
   "title_cell": "Table of Contents",
   "title_sidebar": "Contents",
   "toc_cell": false,
   "toc_position": {
    "height": "calc(100% - 180px)",
    "left": "10px",
    "top": "150px",
    "width": "351px"
   },
   "toc_section_display": true,
   "toc_window_display": true
  }
 },
 "nbformat": 4,
 "nbformat_minor": 5
}
