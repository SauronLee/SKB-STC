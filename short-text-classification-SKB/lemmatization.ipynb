{
 "cells": [
  {
   "cell_type": "code",
   "execution_count": 27,
   "id": "58ce642b",
   "metadata": {},
   "outputs": [
    {
     "name": "stderr",
     "output_type": "stream",
     "text": [
      "[nltk_data] Downloading package wordnet to\n",
      "[nltk_data]     /home/adaptsystemlab2019/nltk_data...\n",
      "[nltk_data]   Package wordnet is already up-to-date!\n",
      "[nltk_data] Downloading package punkt to\n",
      "[nltk_data]     /home/adaptsystemlab2019/nltk_data...\n",
      "[nltk_data]   Package punkt is already up-to-date!\n",
      "[nltk_data] Downloading package averaged_perceptron_tagger to\n",
      "[nltk_data]     /home/adaptsystemlab2019/nltk_data...\n",
      "[nltk_data]   Package averaged_perceptron_tagger is already up-to-\n",
      "[nltk_data]       date!\n"
     ]
    },
    {
     "data": {
      "text/plain": [
       "True"
      ]
     },
     "execution_count": 27,
     "metadata": {},
     "output_type": "execute_result"
    }
   ],
   "source": [
    "from math import log\n",
    "import tqdm\n",
    "import json\n",
    "import numpy as np\n",
    "import spacy\n",
    "from nltk.stem import WordNetLemmatizer\n",
    "import nltk\n",
    "from nltk import word_tokenize, pos_tag\n",
    "from nltk.corpus import wordnet\n",
    "from nltk.stem import WordNetLemmatizer\n",
    "import glob\n",
    "\n",
    "nltk.download('wordnet')\n",
    "nltk.download('punkt')\n",
    "nltk.download('averaged_perceptron_tagger')"
   ]
  },
  {
   "cell_type": "code",
   "execution_count": 35,
   "id": "ea73279c",
   "metadata": {},
   "outputs": [],
   "source": [
    "def _getTextFile(langual):\n",
    "    file_list = glob.glob(f'../data/stopwords/stopwords/*_{langual}.txt')\n",
    "    files = \",\".join(file_list)\n",
    "    return files\n",
    "stop_words=set()\n",
    "for file in _getTextFile(\"en\").split(\",\"):\n",
    "    for word in open(file):\n",
    "        stop_words.add(word.strip())"
   ]
  },
  {
   "cell_type": "code",
   "execution_count": 36,
   "id": "753a64cb",
   "metadata": {},
   "outputs": [],
   "source": [
    "def get_wordnet_pos(tag):\n",
    "    if tag.startswith('J'):\n",
    "        return wordnet.ADJ\n",
    "    elif tag.startswith('V'):\n",
    "        return wordnet.VERB\n",
    "    elif tag.startswith('N'):\n",
    "        return wordnet.NOUN\n",
    "    elif tag.startswith('R'):\n",
    "        return wordnet.ADV\n",
    "    else:\n",
    "        return None\n",
    "    \n",
    "def lemmatization(sentence):\n",
    "    tokens = word_tokenize(sentence)\n",
    "    tagged_sent = pos_tag(tokens)\n",
    "    wnl = WordNetLemmatizer()\n",
    "    lemmas_sent = []\n",
    "    for tag in tagged_sent:\n",
    "        wordnet_pos = get_wordnet_pos(tag[1]) or wordnet.NOUN\n",
    "        lemmas_sent.append(wnl.lemmatize(tag[0], pos = wordnet_pos))\n",
    "    return lemmas_sent"
   ]
  },
  {
   "cell_type": "markdown",
   "id": "59d2f13a",
   "metadata": {},
   "source": [
    "## Wiki"
   ]
  },
  {
   "cell_type": "code",
   "execution_count": 45,
   "id": "9fcbbabb",
   "metadata": {},
   "outputs": [],
   "source": [
    "title_content_dic: dict = np.load(\"./data/wiki_def_data.npy\", allow_pickle=True).tolist()"
   ]
  },
  {
   "cell_type": "code",
   "execution_count": 46,
   "id": "ed2527f3",
   "metadata": {},
   "outputs": [
    {
     "data": {
      "text/plain": [
       "'beautiful adjective possessing beauty'"
      ]
     },
     "execution_count": 46,
     "metadata": {},
     "output_type": "execute_result"
    }
   ],
   "source": [
    "title_content_dic['beautiful']"
   ]
  },
  {
   "cell_type": "code",
   "execution_count": 47,
   "id": "2d6e3673",
   "metadata": {},
   "outputs": [
    {
     "data": {
      "text/plain": [
       "'beauty commonly feature objects objects pleasurable perceive objects include landscapes sunsets humans works art beauty art taste main subject aesthetics major branches philosophy positive aesthetic contrasted ugliness negative counterpart truth goodness transcendentals considered fundamental concepts human understanding'"
      ]
     },
     "execution_count": 47,
     "metadata": {},
     "output_type": "execute_result"
    }
   ],
   "source": [
    "title_content_dic['beauty']"
   ]
  },
  {
   "cell_type": "code",
   "execution_count": 48,
   "id": "4f62e742",
   "metadata": {},
   "outputs": [
    {
     "name": "stderr",
     "output_type": "stream",
     "text": [
      "100%|█████████████████████████████| 6329832/6329832 [1:40:53<00:00, 1045.63it/s]\n"
     ]
    }
   ],
   "source": [
    "title_content_lemmatization = {}\n",
    "for word, doc in tqdm.tqdm(title_content_dic.items()):\n",
    "    doc = lemmatization(doc)\n",
    "    title_content_lemmatization[word] = doc"
   ]
  },
  {
   "cell_type": "code",
   "execution_count": 49,
   "id": "04f961da",
   "metadata": {},
   "outputs": [],
   "source": [
    "wiki_lem = {}\n",
    "for k, v in title_content_lemmatization.items():\n",
    "    sem_local_list = []\n",
    "    for sememe in v:\n",
    "        if sememe not in stop_words:\n",
    "            sem_local_list.append(sememe)\n",
    "    wiki_lem[k] = sem_local_list"
   ]
  },
  {
   "cell_type": "code",
   "execution_count": 50,
   "id": "49d90f11",
   "metadata": {},
   "outputs": [],
   "source": [
    "np.save(\"../data/wiki_lem\", title_content_lemmatization)"
   ]
  },
  {
   "cell_type": "markdown",
   "id": "6d68f1c7",
   "metadata": {},
   "source": [
    "## wordnet"
   ]
  },
  {
   "cell_type": "code",
   "execution_count": 31,
   "id": "3643b89f",
   "metadata": {},
   "outputs": [],
   "source": [
    "wordnet_dict: dict = np.load(\"./data/wordnet_def_data.npy\", allow_pickle=True).tolist()"
   ]
  },
  {
   "cell_type": "code",
   "execution_count": 32,
   "id": "5025420e",
   "metadata": {},
   "outputs": [
    {
     "name": "stderr",
     "output_type": "stream",
     "text": [
      "100%|█████████████████████████████████| 226160/226160 [01:14<00:00, 3050.53it/s]\n"
     ]
    }
   ],
   "source": [
    "title_content_lemmatization = {}\n",
    "for word, doc in tqdm.tqdm(wordnet_dict.items()):\n",
    "    doc = lemmatization(doc)\n",
    "    title_content_lemmatization[word] = doc"
   ]
  },
  {
   "cell_type": "code",
   "execution_count": 42,
   "id": "e5e44a2e",
   "metadata": {},
   "outputs": [],
   "source": [
    "wordnet_lem = {}\n",
    "for k, v in title_content_lemmatization.items():\n",
    "    sem_local_list = []\n",
    "    for sememe in v:\n",
    "        if sememe not in stop_words:\n",
    "            sem_local_list.append(sememe)\n",
    "    wordnet_lem[k] = sem_local_list"
   ]
  },
  {
   "cell_type": "code",
   "execution_count": 44,
   "id": "bb924c0d",
   "metadata": {},
   "outputs": [],
   "source": [
    "np.save(\"./data/wordnet_lem\", wordnet_lem)"
   ]
  },
  {
   "cell_type": "code",
   "execution_count": null,
   "id": "4153036c",
   "metadata": {},
   "outputs": [],
   "source": []
  }
 ],
 "metadata": {
  "kernelspec": {
   "display_name": "Python 3 (ipykernel)",
   "language": "python",
   "name": "python3"
  },
  "language_info": {
   "codemirror_mode": {
    "name": "ipython",
    "version": 3
   },
   "file_extension": ".py",
   "mimetype": "text/x-python",
   "name": "python",
   "nbconvert_exporter": "python",
   "pygments_lexer": "ipython3",
   "version": "3.8.5"
  }
 },
 "nbformat": 4,
 "nbformat_minor": 5
}
