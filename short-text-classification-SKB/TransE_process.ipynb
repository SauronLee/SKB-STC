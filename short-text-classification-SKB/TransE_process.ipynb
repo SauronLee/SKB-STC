{
 "cells": [
  {
   "cell_type": "code",
   "execution_count": 1,
   "id": "508cd1af",
   "metadata": {},
   "outputs": [],
   "source": [
    "import numpy as np\n",
    "import tqdm\n",
    "from itertools import combinations\n",
    "import random"
   ]
  },
  {
   "cell_type": "code",
   "execution_count": 4,
   "id": "b1ebc219",
   "metadata": {},
   "outputs": [],
   "source": [
    "SKB_dataset_name = \"skb_da\"\n",
    "SKB_Benchmark_path = \"../sememe_dataset/\"\n",
    "\n",
    "skb_data = np.load(SKB_Benchmark_path+\"skb_da.npy\", allow_pickle=True).tolist()\n",
    "skb_da_cdv_map = np.load(SKB_Benchmark_path+\"skb_da_cdv_map.npy\", allow_pickle=True).tolist()"
   ]
  },
  {
   "cell_type": "code",
   "execution_count": 3,
   "id": "358e1756",
   "metadata": {},
   "outputs": [],
   "source": [
    "# for skb index\n",
    "#def getSkbCDV(skb_data):\n",
    "#    skb_da_cdv = set()\n",
    "#    for word, sense in tqdm.tqdm(skb_data.items()):\n",
    "#        for (_, sememe_set) in sense:\n",
    "#            skb_da_cdv = skb_da_cdv | sememe_set\n",
    "#    return {word:index for index, word in enumerate(skb_da_cdv)}"
   ]
  },
  {
   "cell_type": "code",
   "execution_count": 69,
   "id": "2a370bb3",
   "metadata": {},
   "outputs": [
    {
     "name": "stderr",
     "output_type": "stream",
     "text": [
      "100%|██████████████████████████████████| 152661/152661 [11:00<00:00, 230.99it/s]\n"
     ]
    }
   ],
   "source": [
    "#skb_da_cdv_map = getSkbCDV(skb_data)"
   ]
  },
  {
   "cell_type": "code",
   "execution_count": 71,
   "id": "0a63368c",
   "metadata": {},
   "outputs": [],
   "source": [
    "#np.save(SKB_Benchmark_path+\"skb_da_cdv_map\",skb_da_cdv_map)"
   ]
  },
  {
   "cell_type": "code",
   "execution_count": 5,
   "id": "16741907",
   "metadata": {},
   "outputs": [],
   "source": [
    "def getRelationMap(skb_data):\n",
    "    skb_data_map = {}\n",
    "    skb_data_list = []\n",
    "    triples_dict = {}\n",
    "    for word, senses in tqdm.tqdm(skb_data.items()):\n",
    "        for j, (pos, sems_set) in enumerate(senses):\n",
    "            relations = word.replace(\" \",\"_\")+\"||\"+pos+\"||\"+str(j)\n",
    "            skb_data_list.append(relations)\n",
    "            triples_dict[relations] = sems_set\n",
    "    skb_data_map = {word:index for index, word in enumerate(skb_data_list)}\n",
    "    return skb_data_map,triples_dict"
   ]
  },
  {
   "cell_type": "code",
   "execution_count": 6,
   "id": "a73a7dc5",
   "metadata": {},
   "outputs": [
    {
     "name": "stderr",
     "output_type": "stream",
     "text": [
      "100%|████████████████████████████████| 152661/152661 [00:05<00:00, 25985.18it/s]\n"
     ]
    }
   ],
   "source": [
    "skb_data_map,triples_dict = getRelationMap(skb_data)"
   ]
  },
  {
   "cell_type": "code",
   "execution_count": 7,
   "id": "5020036f",
   "metadata": {},
   "outputs": [
    {
     "data": {
      "text/plain": [
       "6312591"
      ]
     },
     "execution_count": 7,
     "metadata": {},
     "output_type": "execute_result"
    }
   ],
   "source": [
    "len(skb_data_map)"
   ]
  },
  {
   "cell_type": "code",
   "execution_count": 8,
   "id": "11de878c",
   "metadata": {},
   "outputs": [],
   "source": [
    "def getTriples(skb_data,triples_dict,skb_da_cdv_map,skb_data_map):\n",
    "    triples_list = []\n",
    "    for relation, sememes_set in tqdm.tqdm(triples_dict.items()):\n",
    "        sememes_list = list(sememes_set)\n",
    "        combinations_list = list(combinations(sememes_list, 2))\n",
    "        if len(combinations_list) == 0:\n",
    "            continue\n",
    "        for (ea,eb) in combinations_list:\n",
    "            triples_list.append((skb_da_cdv_map[ea],skb_da_cdv_map[eb],skb_data_map[relation]))\n",
    "    return triples_list"
   ]
  },
  {
   "cell_type": "code",
   "execution_count": 9,
   "id": "829e3709",
   "metadata": {},
   "outputs": [
    {
     "name": "stderr",
     "output_type": "stream",
     "text": [
      "100%|█████████████████████████████| 6312591/6312591 [00:51<00:00, 121626.44it/s]\n"
     ]
    }
   ],
   "source": [
    "triples_list = getTriples(skb_data,triples_dict,skb_da_cdv_map,skb_data_map)"
   ]
  },
  {
   "cell_type": "code",
   "execution_count": 10,
   "id": "85c57eb0",
   "metadata": {},
   "outputs": [
    {
     "data": {
      "text/plain": [
       "152197006"
      ]
     },
     "execution_count": 10,
     "metadata": {},
     "output_type": "execute_result"
    }
   ],
   "source": [
    "len(triples_list)"
   ]
  },
  {
   "cell_type": "code",
   "execution_count": 11,
   "id": "45c80ad7",
   "metadata": {},
   "outputs": [],
   "source": [
    "#entity2id\n",
    "def entity2Id(skb_da_cdv_map,write_path):\n",
    "    skb_graph = open(write_path, 'w')\n",
    "    for i, (sem, index) in enumerate(skb_da_cdv_map.items()):\n",
    "        if i == 0:\n",
    "            skb_graph.writelines(str(len(skb_da_cdv_map)))\n",
    "            skb_graph.write('\\n')\n",
    "        skb_graph.writelines(sem+\"\\t\"+str(index))\n",
    "        skb_graph.write('\\n')\n",
    "    skb_graph.close()"
   ]
  },
  {
   "cell_type": "code",
   "execution_count": 12,
   "id": "fd4a5e48",
   "metadata": {},
   "outputs": [],
   "source": [
    "#relation2id\n",
    "def relation2Id(skb_data_map,write_path):\n",
    "    skb_graph = open(write_path, 'w')\n",
    "    for i, (sem, index) in enumerate(skb_data_map.items()):\n",
    "        if i == 0:\n",
    "            skb_graph.writelines(str(len(skb_data_map)))\n",
    "            skb_graph.write('\\n')\n",
    "        skb_graph.writelines(sem+\"\\t\"+str(index))\n",
    "        skb_graph.write('\\n')\n",
    "    skb_graph.close()"
   ]
  },
  {
   "cell_type": "code",
   "execution_count": 13,
   "id": "764a6600",
   "metadata": {},
   "outputs": [],
   "source": [
    "random.shuffle(triples_list)"
   ]
  },
  {
   "cell_type": "code",
   "execution_count": 28,
   "id": "6802ebae",
   "metadata": {},
   "outputs": [],
   "source": [
    "def writeTrainData(triples_list,write_path):\n",
    "    skb_graph = open(write_path, 'w')\n",
    "    for i, (e1, e2, ral) in enumerate(tqdm.tqdm(triples_list[:round(len(triples_list)*0.85)])):\n",
    "        if i == 0:\n",
    "            skb_graph.writelines(str(len(triples_list[:round(len(triples_list)*0.85)])))\n",
    "            skb_graph.write('\\n')\n",
    "        skb_graph.writelines(str(e1)+\"\\t\"+str(e2)+\"\\t\"+str(ral))\n",
    "        skb_graph.write('\\n')\n",
    "    skb_graph.close()\n",
    "    \n",
    "def writeTestData(triples_list,write_path):\n",
    "    skb_graph = open(write_path, 'w')\n",
    "    for i, (e1, e2, ral) in enumerate(tqdm.tqdm(triples_list[129367455:129367455+round(len(triples_list)*0.075)])):\n",
    "        if i == 0:\n",
    "            skb_graph.writelines(str(len(triples_list[129367455:129367455+round(len(triples_list)*0.075)])))\n",
    "            skb_graph.write('\\n')\n",
    "        skb_graph.writelines(str(e1)+\"\\t\"+str(e2)+\"\\t\"+str(ral))\n",
    "        skb_graph.write('\\n')\n",
    "    skb_graph.close()\n",
    "    \n",
    "def writeValidData(triples_list,write_path):\n",
    "    skb_graph = open(write_path, 'w')\n",
    "    for i, (e1, e2, ral) in enumerate(tqdm.tqdm(triples_list[129367455+11414775:])):\n",
    "        if i == 0:\n",
    "            skb_graph.writelines(str(len(triples_list[129367455+11414775:])))\n",
    "            skb_graph.write('\\n')\n",
    "        skb_graph.writelines(str(e1)+\"\\t\"+str(e2)+\"\\t\"+str(ral))\n",
    "        skb_graph.write('\\n')\n",
    "    skb_graph.close()"
   ]
  },
  {
   "cell_type": "code",
   "execution_count": 20,
   "id": "24f69112",
   "metadata": {},
   "outputs": [],
   "source": [
    "#train_data = triples_list[:round(len(triples_list)*0.85)]\n",
    "#test_data = triples_list[len(train_data):len(train_data)+round(len(triples_list)*0.075)]\n",
    "#valid_data = triples_list[len(train_data)+len(test_data):]"
   ]
  },
  {
   "cell_type": "code",
   "execution_count": 21,
   "id": "165d9ab5",
   "metadata": {},
   "outputs": [
    {
     "name": "stderr",
     "output_type": "stream",
     "text": [
      "100%|█████████████████████████| 129367455/129367455 [04:10<00:00, 516194.22it/s]\n"
     ]
    },
    {
     "ename": "NameError",
     "evalue": "name 'train_data' is not defined",
     "output_type": "error",
     "traceback": [
      "\u001b[0;31m---------------------------------------------------------------------------\u001b[0m",
      "\u001b[0;31mNameError\u001b[0m                                 Traceback (most recent call last)",
      "\u001b[0;32m/tmp/ipykernel_5694/3769507901.py\u001b[0m in \u001b[0;36m<module>\u001b[0;34m\u001b[0m\n\u001b[1;32m      1\u001b[0m \u001b[0mwriteTrainData\u001b[0m\u001b[0;34m(\u001b[0m\u001b[0mtriples_list\u001b[0m\u001b[0;34m,\u001b[0m\u001b[0mSKB_Benchmark_path\u001b[0m\u001b[0;34m+\u001b[0m\u001b[0;34m\"TransE_4/train2id.txt\"\u001b[0m\u001b[0;34m)\u001b[0m\u001b[0;34m\u001b[0m\u001b[0;34m\u001b[0m\u001b[0m\n\u001b[0;32m----> 2\u001b[0;31m \u001b[0mwriteTestData\u001b[0m\u001b[0;34m(\u001b[0m\u001b[0mtriples_list\u001b[0m\u001b[0;34m,\u001b[0m\u001b[0mSKB_Benchmark_path\u001b[0m\u001b[0;34m+\u001b[0m\u001b[0;34m\"TransE_4/test2id.txt:\"\u001b[0m\u001b[0;34m)\u001b[0m\u001b[0;34m\u001b[0m\u001b[0;34m\u001b[0m\u001b[0m\n\u001b[0m\u001b[1;32m      3\u001b[0m \u001b[0mwriteValidData\u001b[0m\u001b[0;34m(\u001b[0m\u001b[0mtriples_list\u001b[0m\u001b[0;34m,\u001b[0m\u001b[0mSKB_Benchmark_path\u001b[0m\u001b[0;34m+\u001b[0m\u001b[0;34m\"TransE_4/valid2id.txt\"\u001b[0m\u001b[0;34m)\u001b[0m\u001b[0;34m\u001b[0m\u001b[0;34m\u001b[0m\u001b[0m\n",
      "\u001b[0;32m/tmp/ipykernel_5694/2538140604.py\u001b[0m in \u001b[0;36mwriteTestData\u001b[0;34m(triples_list, write_path)\u001b[0m\n\u001b[1;32m     11\u001b[0m \u001b[0;32mdef\u001b[0m \u001b[0mwriteTestData\u001b[0m\u001b[0;34m(\u001b[0m\u001b[0mtriples_list\u001b[0m\u001b[0;34m,\u001b[0m\u001b[0mwrite_path\u001b[0m\u001b[0;34m)\u001b[0m\u001b[0;34m:\u001b[0m\u001b[0;34m\u001b[0m\u001b[0;34m\u001b[0m\u001b[0m\n\u001b[1;32m     12\u001b[0m     \u001b[0mskb_graph\u001b[0m \u001b[0;34m=\u001b[0m \u001b[0mopen\u001b[0m\u001b[0;34m(\u001b[0m\u001b[0mwrite_path\u001b[0m\u001b[0;34m,\u001b[0m \u001b[0;34m'w'\u001b[0m\u001b[0;34m)\u001b[0m\u001b[0;34m\u001b[0m\u001b[0;34m\u001b[0m\u001b[0m\n\u001b[0;32m---> 13\u001b[0;31m     \u001b[0;32mfor\u001b[0m \u001b[0mi\u001b[0m\u001b[0;34m,\u001b[0m \u001b[0;34m(\u001b[0m\u001b[0me1\u001b[0m\u001b[0;34m,\u001b[0m \u001b[0me2\u001b[0m\u001b[0;34m,\u001b[0m \u001b[0mral\u001b[0m\u001b[0;34m)\u001b[0m \u001b[0;32min\u001b[0m \u001b[0menumerate\u001b[0m\u001b[0;34m(\u001b[0m\u001b[0mtqdm\u001b[0m\u001b[0;34m.\u001b[0m\u001b[0mtqdm\u001b[0m\u001b[0;34m(\u001b[0m\u001b[0mtriples_list\u001b[0m\u001b[0;34m[\u001b[0m\u001b[0mlen\u001b[0m\u001b[0;34m(\u001b[0m\u001b[0mtrain_data\u001b[0m\u001b[0;34m)\u001b[0m\u001b[0;34m:\u001b[0m\u001b[0mlen\u001b[0m\u001b[0;34m(\u001b[0m\u001b[0mtrain_data\u001b[0m\u001b[0;34m)\u001b[0m\u001b[0;34m+\u001b[0m\u001b[0mround\u001b[0m\u001b[0;34m(\u001b[0m\u001b[0mlen\u001b[0m\u001b[0;34m(\u001b[0m\u001b[0mtriples_list\u001b[0m\u001b[0;34m)\u001b[0m\u001b[0;34m*\u001b[0m\u001b[0;36m0.075\u001b[0m\u001b[0;34m)\u001b[0m\u001b[0;34m]\u001b[0m\u001b[0;34m)\u001b[0m\u001b[0;34m)\u001b[0m\u001b[0;34m:\u001b[0m\u001b[0;34m\u001b[0m\u001b[0;34m\u001b[0m\u001b[0m\n\u001b[0m\u001b[1;32m     14\u001b[0m         \u001b[0;32mif\u001b[0m \u001b[0mi\u001b[0m \u001b[0;34m==\u001b[0m \u001b[0;36m0\u001b[0m\u001b[0;34m:\u001b[0m\u001b[0;34m\u001b[0m\u001b[0;34m\u001b[0m\u001b[0m\n\u001b[1;32m     15\u001b[0m             \u001b[0mskb_graph\u001b[0m\u001b[0;34m.\u001b[0m\u001b[0mwritelines\u001b[0m\u001b[0;34m(\u001b[0m\u001b[0mstr\u001b[0m\u001b[0;34m(\u001b[0m\u001b[0mlen\u001b[0m\u001b[0;34m(\u001b[0m\u001b[0mtriples_list\u001b[0m\u001b[0;34m[\u001b[0m\u001b[0mlen\u001b[0m\u001b[0;34m(\u001b[0m\u001b[0mtrain_data\u001b[0m\u001b[0;34m)\u001b[0m\u001b[0;34m:\u001b[0m\u001b[0mlen\u001b[0m\u001b[0;34m(\u001b[0m\u001b[0mtrain_data\u001b[0m\u001b[0;34m)\u001b[0m\u001b[0;34m+\u001b[0m\u001b[0mround\u001b[0m\u001b[0;34m(\u001b[0m\u001b[0mlen\u001b[0m\u001b[0;34m(\u001b[0m\u001b[0mtriples_list\u001b[0m\u001b[0;34m)\u001b[0m\u001b[0;34m*\u001b[0m\u001b[0;36m0.075\u001b[0m\u001b[0;34m)\u001b[0m\u001b[0;34m]\u001b[0m\u001b[0;34m)\u001b[0m\u001b[0;34m)\u001b[0m\u001b[0;34m)\u001b[0m\u001b[0;34m\u001b[0m\u001b[0;34m\u001b[0m\u001b[0m\n",
      "\u001b[0;31mNameError\u001b[0m: name 'train_data' is not defined"
     ]
    }
   ],
   "source": [
    "writeTrainData(triples_list,SKB_Benchmark_path+\"TransE_4/train2id.txt\")\n",
    "writeTestData(triples_list,SKB_Benchmark_path+\"TransE_4/test2id.txt:\")\n",
    "writeValidData(triples_list,SKB_Benchmark_path+\"TransE_4/valid2id.txt\")"
   ]
  },
  {
   "cell_type": "code",
   "execution_count": 27,
   "id": "23542d8d",
   "metadata": {},
   "outputs": [
    {
     "name": "stderr",
     "output_type": "stream",
     "text": [
      "100%|███████████████████████████| 11414775/11414775 [00:21<00:00, 520120.22it/s]\n"
     ]
    }
   ],
   "source": [
    "writeTestData(triples_list,SKB_Benchmark_path+\"TransE_4/test2id.txt\")"
   ]
  },
  {
   "cell_type": "code",
   "execution_count": 29,
   "id": "383f1ed3",
   "metadata": {},
   "outputs": [
    {
     "name": "stderr",
     "output_type": "stream",
     "text": [
      "100%|███████████████████████████| 11414776/11414776 [00:21<00:00, 521872.17it/s]\n"
     ]
    }
   ],
   "source": [
    "writeValidData(triples_list,SKB_Benchmark_path+\"TransE_4/valid2id.txt\")"
   ]
  },
  {
   "cell_type": "code",
   "execution_count": 30,
   "id": "083072aa",
   "metadata": {},
   "outputs": [],
   "source": [
    "entity2Id(skb_data_map,SKB_Benchmark_path+\"TransE_4/entity2id.txt\")"
   ]
  },
  {
   "cell_type": "code",
   "execution_count": 31,
   "id": "52b37f64",
   "metadata": {},
   "outputs": [],
   "source": [
    "relation2Id(skb_data_map,SKB_Benchmark_path+\"TransE_4/relation2id.txt\")"
   ]
  },
  {
   "cell_type": "code",
   "execution_count": null,
   "id": "d5ff525f",
   "metadata": {},
   "outputs": [],
   "source": []
  },
  {
   "cell_type": "code",
   "execution_count": null,
   "id": "c65abe1e",
   "metadata": {},
   "outputs": [],
   "source": []
  }
 ],
 "metadata": {
  "kernelspec": {
   "display_name": "Python 3 (ipykernel)",
   "language": "python",
   "name": "python3"
  },
  "language_info": {
   "codemirror_mode": {
    "name": "ipython",
    "version": 3
   },
   "file_extension": ".py",
   "mimetype": "text/x-python",
   "name": "python",
   "nbconvert_exporter": "python",
   "pygments_lexer": "ipython3",
   "version": "3.8.5"
  }
 },
 "nbformat": 4,
 "nbformat_minor": 5
}
