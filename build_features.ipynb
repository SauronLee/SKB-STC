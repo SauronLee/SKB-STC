{
 "cells": [
  {
   "cell_type": "code",
   "execution_count": 1,
   "id": "ef4f847f",
   "metadata": {},
   "outputs": [],
   "source": [
    "import networkx\n",
    "import json\n",
    "from tqdm import tqdm\n",
    "from sklearn.feature_extraction.text import CountVectorizer\n",
    "from sklearn.feature_extraction.text import TfidfTransformer\n",
    "from sklearn.decomposition import LatentDirichletAllocation\n",
    "import pickle as pkl\n",
    "from nltk.tokenize import WordPunctTokenizer\n",
    "import os\n",
    "from utils import sample, preprocess_corpus_notDropEntity, load_stopwords"
   ]
  },
  {
   "cell_type": "code",
   "execution_count": null,
   "id": "7469b20a",
   "metadata": {},
   "outputs": [],
   "source": [
    "DATASETS = 'Ohsumed'\n",
    "STC_Benchmark_path = \"../benchmark\""
   ]
  },
  {
   "cell_type": "code",
   "execution_count": 3,
   "id": "268fbede",
   "metadata": {},
   "outputs": [],
   "source": [
    "def preprocess_corpus_notDropEntity(corpus, stopwords, involved_entity):\n",
    "    corpus1 = [[word.lower() for word in tokenize(sentence)] for sentence in tqdm(corpus)]\n",
    "    corpus2 = [[word for word in sentence if word.isalpha() if word not in stopwords] for sentence in tqdm(corpus1)]\n",
    "    all_words = defaultdict(int)\n",
    "    for c in tqdm(corpus2):\n",
    "        for w in c:\n",
    "            all_words[w] += 1\n",
    "    low_freq = set(word for word in set(all_words) if all_words[word] < 5 and word not in involved_entity)\n",
    "    text = [[word for word in sentence if word not in low_freq] for sentence in tqdm(corpus2)]\n",
    "    ans = [' '.join(i) for i in text]\n",
    "    return ans"
   ]
  },
  {
   "cell_type": "code",
   "execution_count": 2,
   "id": "50daa0bd",
   "metadata": {},
   "outputs": [],
   "source": [
    "def load_stopwords(filepath='./data/stopwords_en.txt'):\n",
    "    stopwords = set()\n",
    "    with open(filepath, 'r') as f:\n",
    "        for line in f:\n",
    "            stopwords.add(line.strip())\n",
    "    print(len(stopwords))\n",
    "    return stopwords"
   ]
  },
  {
   "cell_type": "code",
   "execution_count": null,
   "id": "4daa4cc6",
   "metadata": {},
   "outputs": [],
   "source": []
  },
  {
   "cell_type": "code",
   "execution_count": null,
   "id": "987d00ad",
   "metadata": {},
   "outputs": [],
   "source": [
    "def tokenize(sen):\n",
    "    return WordPunctTokenizer().tokenize(sen)"
   ]
  },
  {
   "cell_type": "code",
   "execution_count": null,
   "id": "5dca3333",
   "metadata": {},
   "outputs": [],
   "source": []
  },
  {
   "cell_type": "code",
   "execution_count": null,
   "id": "ab0ca649",
   "metadata": {},
   "outputs": [],
   "source": []
  }
 ],
 "metadata": {
  "kernelspec": {
   "display_name": "hgat",
   "language": "python",
   "name": "hgat"
  },
  "language_info": {
   "codemirror_mode": {
    "name": "ipython",
    "version": 3
   },
   "file_extension": ".py",
   "mimetype": "text/x-python",
   "name": "python",
   "nbconvert_exporter": "python",
   "pygments_lexer": "ipython3",
   "version": "3.6.13"
  },
  "toc": {
   "base_numbering": 1,
   "nav_menu": {},
   "number_sections": true,
   "sideBar": true,
   "skip_h1_title": false,
   "title_cell": "Table of Contents",
   "title_sidebar": "Contents",
   "toc_cell": false,
   "toc_position": {},
   "toc_section_display": true,
   "toc_window_display": false
  }
 },
 "nbformat": 4,
 "nbformat_minor": 5
}
